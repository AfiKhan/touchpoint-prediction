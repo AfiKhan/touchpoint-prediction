{
 "cells": [
  {
   "cell_type": "code",
   "execution_count": 1,
   "metadata": {},
   "outputs": [],
   "source": [
    "import pandas as pd\n",
    "import numpy as np"
   ]
  },
  {
   "cell_type": "code",
   "execution_count": 2,
   "metadata": {},
   "outputs": [],
   "source": [
    "df = pd.read_csv('./marketdata2.csv').drop(['Unnamed: 0'], axis=1)\n"
   ]
  },
  {
   "cell_type": "code",
   "execution_count": 3,
   "metadata": {},
   "outputs": [
    {
     "data": {
      "text/html": [
       "<div>\n",
       "<style scoped>\n",
       "    .dataframe tbody tr th:only-of-type {\n",
       "        vertical-align: middle;\n",
       "    }\n",
       "\n",
       "    .dataframe tbody tr th {\n",
       "        vertical-align: top;\n",
       "    }\n",
       "\n",
       "    .dataframe thead th {\n",
       "        text-align: right;\n",
       "    }\n",
       "</style>\n",
       "<table border=\"1\" class=\"dataframe\">\n",
       "  <thead>\n",
       "    <tr style=\"text-align: right;\">\n",
       "      <th></th>\n",
       "      <th>age</th>\n",
       "      <th>marital</th>\n",
       "      <th>segment</th>\n",
       "      <th>SocialMedia</th>\n",
       "      <th>income</th>\n",
       "      <th>creditRating</th>\n",
       "      <th>aveSpend</th>\n",
       "      <th>touchpoints</th>\n",
       "      <th>nTouchpoints</th>\n",
       "      <th>recent_touchpoint</th>\n",
       "      <th>...</th>\n",
       "      <th>N</th>\n",
       "      <th>Y</th>\n",
       "      <th>C</th>\n",
       "      <th>B</th>\n",
       "      <th>D</th>\n",
       "      <th>A</th>\n",
       "      <th>F</th>\n",
       "      <th>E</th>\n",
       "      <th>New</th>\n",
       "      <th>G</th>\n",
       "    </tr>\n",
       "  </thead>\n",
       "  <tbody>\n",
       "    <tr>\n",
       "      <th>0</th>\n",
       "      <td>38</td>\n",
       "      <td>single</td>\n",
       "      <td>P4</td>\n",
       "      <td>U</td>\n",
       "      <td>51000.0</td>\n",
       "      <td>C</td>\n",
       "      <td>5007.50</td>\n",
       "      <td>emailDestination mailDiscount</td>\n",
       "      <td>2</td>\n",
       "      <td>mailDiscount</td>\n",
       "      <td>...</td>\n",
       "      <td>0</td>\n",
       "      <td>0</td>\n",
       "      <td>1</td>\n",
       "      <td>0</td>\n",
       "      <td>0</td>\n",
       "      <td>0</td>\n",
       "      <td>0</td>\n",
       "      <td>0</td>\n",
       "      <td>0</td>\n",
       "      <td>0</td>\n",
       "    </tr>\n",
       "    <tr>\n",
       "      <th>1</th>\n",
       "      <td>39</td>\n",
       "      <td>divorced</td>\n",
       "      <td>P3</td>\n",
       "      <td>U</td>\n",
       "      <td>100000.0</td>\n",
       "      <td>B</td>\n",
       "      <td>19.74</td>\n",
       "      <td>emailDestination mailGift</td>\n",
       "      <td>2</td>\n",
       "      <td>mailGift</td>\n",
       "      <td>...</td>\n",
       "      <td>0</td>\n",
       "      <td>0</td>\n",
       "      <td>0</td>\n",
       "      <td>1</td>\n",
       "      <td>0</td>\n",
       "      <td>0</td>\n",
       "      <td>0</td>\n",
       "      <td>0</td>\n",
       "      <td>0</td>\n",
       "      <td>0</td>\n",
       "    </tr>\n",
       "    <tr>\n",
       "      <th>2</th>\n",
       "      <td>41</td>\n",
       "      <td>married</td>\n",
       "      <td>P4</td>\n",
       "      <td>N</td>\n",
       "      <td>51000.0</td>\n",
       "      <td>D</td>\n",
       "      <td>320.10</td>\n",
       "      <td>emailDiscount mailGift emailDiscount</td>\n",
       "      <td>3</td>\n",
       "      <td>emailDiscount</td>\n",
       "      <td>...</td>\n",
       "      <td>1</td>\n",
       "      <td>0</td>\n",
       "      <td>0</td>\n",
       "      <td>0</td>\n",
       "      <td>1</td>\n",
       "      <td>0</td>\n",
       "      <td>0</td>\n",
       "      <td>0</td>\n",
       "      <td>0</td>\n",
       "      <td>0</td>\n",
       "    </tr>\n",
       "    <tr>\n",
       "      <th>3</th>\n",
       "      <td>60</td>\n",
       "      <td>married</td>\n",
       "      <td>P4</td>\n",
       "      <td>U</td>\n",
       "      <td>152000.0</td>\n",
       "      <td>C</td>\n",
       "      <td>39.47</td>\n",
       "      <td>mailDiscount</td>\n",
       "      <td>1</td>\n",
       "      <td>mailDiscount</td>\n",
       "      <td>...</td>\n",
       "      <td>0</td>\n",
       "      <td>0</td>\n",
       "      <td>1</td>\n",
       "      <td>0</td>\n",
       "      <td>0</td>\n",
       "      <td>0</td>\n",
       "      <td>0</td>\n",
       "      <td>0</td>\n",
       "      <td>0</td>\n",
       "      <td>0</td>\n",
       "    </tr>\n",
       "    <tr>\n",
       "      <th>4</th>\n",
       "      <td>47</td>\n",
       "      <td>married</td>\n",
       "      <td>P2</td>\n",
       "      <td>Y</td>\n",
       "      <td>60000.0</td>\n",
       "      <td>A</td>\n",
       "      <td>19.89</td>\n",
       "      <td>mailDestination emailDestination emailDestination</td>\n",
       "      <td>3</td>\n",
       "      <td>emailDestination</td>\n",
       "      <td>...</td>\n",
       "      <td>0</td>\n",
       "      <td>1</td>\n",
       "      <td>0</td>\n",
       "      <td>0</td>\n",
       "      <td>0</td>\n",
       "      <td>1</td>\n",
       "      <td>0</td>\n",
       "      <td>0</td>\n",
       "      <td>0</td>\n",
       "      <td>0</td>\n",
       "    </tr>\n",
       "    <tr>\n",
       "      <th>...</th>\n",
       "      <td>...</td>\n",
       "      <td>...</td>\n",
       "      <td>...</td>\n",
       "      <td>...</td>\n",
       "      <td>...</td>\n",
       "      <td>...</td>\n",
       "      <td>...</td>\n",
       "      <td>...</td>\n",
       "      <td>...</td>\n",
       "      <td>...</td>\n",
       "      <td>...</td>\n",
       "      <td>...</td>\n",
       "      <td>...</td>\n",
       "      <td>...</td>\n",
       "      <td>...</td>\n",
       "      <td>...</td>\n",
       "      <td>...</td>\n",
       "      <td>...</td>\n",
       "      <td>...</td>\n",
       "      <td>...</td>\n",
       "      <td>...</td>\n",
       "    </tr>\n",
       "    <tr>\n",
       "      <th>14984</th>\n",
       "      <td>32</td>\n",
       "      <td>married</td>\n",
       "      <td>P1</td>\n",
       "      <td>U</td>\n",
       "      <td>33000.0</td>\n",
       "      <td>E</td>\n",
       "      <td>4280.63</td>\n",
       "      <td>emailDestination emailDestination emailDestina...</td>\n",
       "      <td>7</td>\n",
       "      <td>mailDiscount</td>\n",
       "      <td>...</td>\n",
       "      <td>0</td>\n",
       "      <td>0</td>\n",
       "      <td>0</td>\n",
       "      <td>0</td>\n",
       "      <td>0</td>\n",
       "      <td>0</td>\n",
       "      <td>0</td>\n",
       "      <td>1</td>\n",
       "      <td>0</td>\n",
       "      <td>0</td>\n",
       "    </tr>\n",
       "    <tr>\n",
       "      <th>14985</th>\n",
       "      <td>53</td>\n",
       "      <td>divorced</td>\n",
       "      <td>P3</td>\n",
       "      <td>N</td>\n",
       "      <td>61000.0</td>\n",
       "      <td>F</td>\n",
       "      <td>1332.29</td>\n",
       "      <td>smsDestination mailDiscount emailDestination e...</td>\n",
       "      <td>6</td>\n",
       "      <td>mailDiscount</td>\n",
       "      <td>...</td>\n",
       "      <td>1</td>\n",
       "      <td>0</td>\n",
       "      <td>0</td>\n",
       "      <td>0</td>\n",
       "      <td>0</td>\n",
       "      <td>0</td>\n",
       "      <td>1</td>\n",
       "      <td>0</td>\n",
       "      <td>0</td>\n",
       "      <td>0</td>\n",
       "    </tr>\n",
       "    <tr>\n",
       "      <th>14986</th>\n",
       "      <td>30</td>\n",
       "      <td>single</td>\n",
       "      <td>P4</td>\n",
       "      <td>N</td>\n",
       "      <td>44000.0</td>\n",
       "      <td>C</td>\n",
       "      <td>4010.00</td>\n",
       "      <td>emailDestination emailDestination mailDiscount...</td>\n",
       "      <td>4</td>\n",
       "      <td>mailDiscount</td>\n",
       "      <td>...</td>\n",
       "      <td>1</td>\n",
       "      <td>0</td>\n",
       "      <td>1</td>\n",
       "      <td>0</td>\n",
       "      <td>0</td>\n",
       "      <td>0</td>\n",
       "      <td>0</td>\n",
       "      <td>0</td>\n",
       "      <td>0</td>\n",
       "      <td>0</td>\n",
       "    </tr>\n",
       "    <tr>\n",
       "      <th>14987</th>\n",
       "      <td>52</td>\n",
       "      <td>married</td>\n",
       "      <td>P4</td>\n",
       "      <td>N</td>\n",
       "      <td>71000.0</td>\n",
       "      <td>C</td>\n",
       "      <td>507.46</td>\n",
       "      <td>emailDestination mailGift emailDiscount smsDes...</td>\n",
       "      <td>8</td>\n",
       "      <td>emailDestination</td>\n",
       "      <td>...</td>\n",
       "      <td>1</td>\n",
       "      <td>0</td>\n",
       "      <td>1</td>\n",
       "      <td>0</td>\n",
       "      <td>0</td>\n",
       "      <td>0</td>\n",
       "      <td>0</td>\n",
       "      <td>0</td>\n",
       "      <td>0</td>\n",
       "      <td>0</td>\n",
       "    </tr>\n",
       "    <tr>\n",
       "      <th>14988</th>\n",
       "      <td>38</td>\n",
       "      <td>single</td>\n",
       "      <td>P4</td>\n",
       "      <td>U</td>\n",
       "      <td>65000.0</td>\n",
       "      <td>C</td>\n",
       "      <td>512.67</td>\n",
       "      <td>emailDestination mailDiscount</td>\n",
       "      <td>2</td>\n",
       "      <td>mailDiscount</td>\n",
       "      <td>...</td>\n",
       "      <td>0</td>\n",
       "      <td>0</td>\n",
       "      <td>1</td>\n",
       "      <td>0</td>\n",
       "      <td>0</td>\n",
       "      <td>0</td>\n",
       "      <td>0</td>\n",
       "      <td>0</td>\n",
       "      <td>0</td>\n",
       "      <td>0</td>\n",
       "    </tr>\n",
       "  </tbody>\n",
       "</table>\n",
       "<p>14989 rows × 30 columns</p>\n",
       "</div>"
      ],
      "text/plain": [
       "       age   marital segment SocialMedia    income creditRating  aveSpend  \\\n",
       "0       38    single      P4           U   51000.0            C   5007.50   \n",
       "1       39  divorced      P3           U  100000.0            B     19.74   \n",
       "2       41   married      P4           N   51000.0            D    320.10   \n",
       "3       60   married      P4           U  152000.0            C     39.47   \n",
       "4       47   married      P2           Y   60000.0            A     19.89   \n",
       "...    ...       ...     ...         ...       ...          ...       ...   \n",
       "14984   32   married      P1           U   33000.0            E   4280.63   \n",
       "14985   53  divorced      P3           N   61000.0            F   1332.29   \n",
       "14986   30    single      P4           N   44000.0            C   4010.00   \n",
       "14987   52   married      P4           N   71000.0            C    507.46   \n",
       "14988   38    single      P4           U   65000.0            C    512.67   \n",
       "\n",
       "                                             touchpoints  nTouchpoints  \\\n",
       "0                          emailDestination mailDiscount             2   \n",
       "1                              emailDestination mailGift             2   \n",
       "2                   emailDiscount mailGift emailDiscount             3   \n",
       "3                                           mailDiscount             1   \n",
       "4      mailDestination emailDestination emailDestination             3   \n",
       "...                                                  ...           ...   \n",
       "14984  emailDestination emailDestination emailDestina...             7   \n",
       "14985  smsDestination mailDiscount emailDestination e...             6   \n",
       "14986  emailDestination emailDestination mailDiscount...             4   \n",
       "14987  emailDestination mailGift emailDiscount smsDes...             8   \n",
       "14988                      emailDestination mailDiscount             2   \n",
       "\n",
       "      recent_touchpoint  ...  N  Y  C  B  D  A  F  E  New  G  \n",
       "0          mailDiscount  ...  0  0  1  0  0  0  0  0    0  0  \n",
       "1              mailGift  ...  0  0  0  1  0  0  0  0    0  0  \n",
       "2         emailDiscount  ...  1  0  0  0  1  0  0  0    0  0  \n",
       "3          mailDiscount  ...  0  0  1  0  0  0  0  0    0  0  \n",
       "4      emailDestination  ...  0  1  0  0  0  1  0  0    0  0  \n",
       "...                 ...  ... .. .. .. .. .. .. .. ..  ... ..  \n",
       "14984      mailDiscount  ...  0  0  0  0  0  0  0  1    0  0  \n",
       "14985      mailDiscount  ...  1  0  0  0  0  0  1  0    0  0  \n",
       "14986      mailDiscount  ...  1  0  1  0  0  0  0  0    0  0  \n",
       "14987  emailDestination  ...  1  0  1  0  0  0  0  0    0  0  \n",
       "14988      mailDiscount  ...  0  0  1  0  0  0  0  0    0  0  \n",
       "\n",
       "[14989 rows x 30 columns]"
      ]
     },
     "execution_count": 3,
     "metadata": {},
     "output_type": "execute_result"
    }
   ],
   "source": [
    "df"
   ]
  },
  {
   "cell_type": "markdown",
   "metadata": {},
   "source": [
    "Check distribution of all numerical variables excluding one-hot encoded variables"
   ]
  },
  {
   "cell_type": "code",
   "execution_count": 4,
   "metadata": {},
   "outputs": [
    {
     "name": "stdout",
     "output_type": "stream",
     "text": [
      "AGE Distribution\n",
      "count    14989.000000\n",
      "mean        39.223964\n",
      "std          9.276033\n",
      "min         20.000000\n",
      "25%         32.000000\n",
      "50%         37.000000\n",
      "75%         46.000000\n",
      "max         60.000000\n",
      "Name: age, dtype: float64\n",
      "-----\n",
      "INCOME Distribution\n",
      "count     14989.000000\n",
      "mean      71590.041216\n",
      "std       36821.917752\n",
      "min       10000.000000\n",
      "25%       45000.000000\n",
      "50%       64000.000000\n",
      "75%       90000.000000\n",
      "max      249000.000000\n",
      "Name: income, dtype: float64\n",
      "-----\n",
      "AVESPEND Distribution\n",
      "count    14989.000000\n",
      "mean       714.399585\n",
      "std       2164.764542\n",
      "min          0.000000\n",
      "25%         20.420000\n",
      "50%         91.470000\n",
      "75%        426.230000\n",
      "max      17889.740000\n",
      "Name: aveSpend, dtype: float64\n",
      "-----\n"
     ]
    }
   ],
   "source": [
    "vars_list = ['age','income','aveSpend']\n",
    "\n",
    "for var in vars_list:\n",
    "    print(var.upper() + ' Distribution')\n",
    "    print(df[var].describe())\n",
    "    print('-----')"
   ]
  },
  {
   "cell_type": "markdown",
   "metadata": {},
   "source": [
    "Note that the max-min range of all 3 variables are very different from one another. When we do further analysis, like multivariate linear regression, for example, the attributed income will intrinsically influence the result more due to its larger value. Hence, it is important to standardize and normalize the data to bring all variables to the same range.\n",
    "\n",
    "I use a Robust Scaler (QuantileTransformer): similar to normalization but it instead uses the interquartile range, so that it is robust to outliers."
   ]
  },
  {
   "cell_type": "code",
   "execution_count": 5,
   "metadata": {},
   "outputs": [],
   "source": [
    "from sklearn.preprocessing import QuantileTransformer\n",
    "\n",
    "qt = QuantileTransformer(output_distribution='normal')"
   ]
  },
  {
   "cell_type": "code",
   "execution_count": 6,
   "metadata": {},
   "outputs": [],
   "source": [
    "df['nAveSpend'] = qt.fit_transform(df[['aveSpend']].values.reshape(-1,1))\n",
    "df['nIncome'] = qt.fit_transform(df[['income']].values.reshape(-1,1))\n",
    "df['nAge'] = qt.fit_transform(df[['age']].values.reshape(-1,1))"
   ]
  },
  {
   "cell_type": "code",
   "execution_count": 7,
   "metadata": {},
   "outputs": [
    {
     "data": {
      "text/html": [
       "<div>\n",
       "<style scoped>\n",
       "    .dataframe tbody tr th:only-of-type {\n",
       "        vertical-align: middle;\n",
       "    }\n",
       "\n",
       "    .dataframe tbody tr th {\n",
       "        vertical-align: top;\n",
       "    }\n",
       "\n",
       "    .dataframe thead th {\n",
       "        text-align: right;\n",
       "    }\n",
       "</style>\n",
       "<table border=\"1\" class=\"dataframe\">\n",
       "  <thead>\n",
       "    <tr style=\"text-align: right;\">\n",
       "      <th></th>\n",
       "      <th>age</th>\n",
       "      <th>marital</th>\n",
       "      <th>segment</th>\n",
       "      <th>SocialMedia</th>\n",
       "      <th>income</th>\n",
       "      <th>creditRating</th>\n",
       "      <th>aveSpend</th>\n",
       "      <th>touchpoints</th>\n",
       "      <th>nTouchpoints</th>\n",
       "      <th>recent_touchpoint</th>\n",
       "      <th>...</th>\n",
       "      <th>B</th>\n",
       "      <th>D</th>\n",
       "      <th>A</th>\n",
       "      <th>F</th>\n",
       "      <th>E</th>\n",
       "      <th>New</th>\n",
       "      <th>G</th>\n",
       "      <th>nAveSpend</th>\n",
       "      <th>nIncome</th>\n",
       "      <th>nAge</th>\n",
       "    </tr>\n",
       "  </thead>\n",
       "  <tbody>\n",
       "    <tr>\n",
       "      <th>0</th>\n",
       "      <td>38</td>\n",
       "      <td>single</td>\n",
       "      <td>P4</td>\n",
       "      <td>U</td>\n",
       "      <td>51000.0</td>\n",
       "      <td>C</td>\n",
       "      <td>5007.50</td>\n",
       "      <td>emailDestination mailDiscount</td>\n",
       "      <td>2</td>\n",
       "      <td>mailDiscount</td>\n",
       "      <td>...</td>\n",
       "      <td>0</td>\n",
       "      <td>0</td>\n",
       "      <td>0</td>\n",
       "      <td>0</td>\n",
       "      <td>0</td>\n",
       "      <td>0</td>\n",
       "      <td>0</td>\n",
       "      <td>1.798751</td>\n",
       "      <td>-0.406079</td>\n",
       "      <td>0.037646</td>\n",
       "    </tr>\n",
       "    <tr>\n",
       "      <th>1</th>\n",
       "      <td>39</td>\n",
       "      <td>divorced</td>\n",
       "      <td>P3</td>\n",
       "      <td>U</td>\n",
       "      <td>100000.0</td>\n",
       "      <td>B</td>\n",
       "      <td>19.74</td>\n",
       "      <td>emailDestination mailGift</td>\n",
       "      <td>2</td>\n",
       "      <td>mailGift</td>\n",
       "      <td>...</td>\n",
       "      <td>1</td>\n",
       "      <td>0</td>\n",
       "      <td>0</td>\n",
       "      <td>0</td>\n",
       "      <td>0</td>\n",
       "      <td>0</td>\n",
       "      <td>0</td>\n",
       "      <td>-0.694311</td>\n",
       "      <td>0.912774</td>\n",
       "      <td>0.123259</td>\n",
       "    </tr>\n",
       "    <tr>\n",
       "      <th>2</th>\n",
       "      <td>41</td>\n",
       "      <td>married</td>\n",
       "      <td>P4</td>\n",
       "      <td>N</td>\n",
       "      <td>51000.0</td>\n",
       "      <td>D</td>\n",
       "      <td>320.10</td>\n",
       "      <td>emailDiscount mailGift emailDiscount</td>\n",
       "      <td>3</td>\n",
       "      <td>emailDiscount</td>\n",
       "      <td>...</td>\n",
       "      <td>0</td>\n",
       "      <td>1</td>\n",
       "      <td>0</td>\n",
       "      <td>0</td>\n",
       "      <td>0</td>\n",
       "      <td>0</td>\n",
       "      <td>0</td>\n",
       "      <td>0.559895</td>\n",
       "      <td>-0.406079</td>\n",
       "      <td>0.283522</td>\n",
       "    </tr>\n",
       "    <tr>\n",
       "      <th>3</th>\n",
       "      <td>60</td>\n",
       "      <td>married</td>\n",
       "      <td>P4</td>\n",
       "      <td>U</td>\n",
       "      <td>152000.0</td>\n",
       "      <td>C</td>\n",
       "      <td>39.47</td>\n",
       "      <td>mailDiscount</td>\n",
       "      <td>1</td>\n",
       "      <td>mailDiscount</td>\n",
       "      <td>...</td>\n",
       "      <td>0</td>\n",
       "      <td>0</td>\n",
       "      <td>0</td>\n",
       "      <td>0</td>\n",
       "      <td>0</td>\n",
       "      <td>0</td>\n",
       "      <td>0</td>\n",
       "      <td>-0.362850</td>\n",
       "      <td>1.831224</td>\n",
       "      <td>5.199338</td>\n",
       "    </tr>\n",
       "    <tr>\n",
       "      <th>4</th>\n",
       "      <td>47</td>\n",
       "      <td>married</td>\n",
       "      <td>P2</td>\n",
       "      <td>Y</td>\n",
       "      <td>60000.0</td>\n",
       "      <td>A</td>\n",
       "      <td>19.89</td>\n",
       "      <td>mailDestination emailDestination emailDestination</td>\n",
       "      <td>3</td>\n",
       "      <td>emailDestination</td>\n",
       "      <td>...</td>\n",
       "      <td>0</td>\n",
       "      <td>0</td>\n",
       "      <td>1</td>\n",
       "      <td>0</td>\n",
       "      <td>0</td>\n",
       "      <td>0</td>\n",
       "      <td>0</td>\n",
       "      <td>-0.687284</td>\n",
       "      <td>-0.106841</td>\n",
       "      <td>0.744694</td>\n",
       "    </tr>\n",
       "    <tr>\n",
       "      <th>...</th>\n",
       "      <td>...</td>\n",
       "      <td>...</td>\n",
       "      <td>...</td>\n",
       "      <td>...</td>\n",
       "      <td>...</td>\n",
       "      <td>...</td>\n",
       "      <td>...</td>\n",
       "      <td>...</td>\n",
       "      <td>...</td>\n",
       "      <td>...</td>\n",
       "      <td>...</td>\n",
       "      <td>...</td>\n",
       "      <td>...</td>\n",
       "      <td>...</td>\n",
       "      <td>...</td>\n",
       "      <td>...</td>\n",
       "      <td>...</td>\n",
       "      <td>...</td>\n",
       "      <td>...</td>\n",
       "      <td>...</td>\n",
       "      <td>...</td>\n",
       "    </tr>\n",
       "    <tr>\n",
       "      <th>14984</th>\n",
       "      <td>32</td>\n",
       "      <td>married</td>\n",
       "      <td>P1</td>\n",
       "      <td>U</td>\n",
       "      <td>33000.0</td>\n",
       "      <td>E</td>\n",
       "      <td>4280.63</td>\n",
       "      <td>emailDestination emailDestination emailDestina...</td>\n",
       "      <td>7</td>\n",
       "      <td>mailDiscount</td>\n",
       "      <td>...</td>\n",
       "      <td>0</td>\n",
       "      <td>0</td>\n",
       "      <td>0</td>\n",
       "      <td>0</td>\n",
       "      <td>1</td>\n",
       "      <td>0</td>\n",
       "      <td>0</td>\n",
       "      <td>1.748868</td>\n",
       "      <td>-1.340200</td>\n",
       "      <td>-0.659602</td>\n",
       "    </tr>\n",
       "    <tr>\n",
       "      <th>14985</th>\n",
       "      <td>53</td>\n",
       "      <td>divorced</td>\n",
       "      <td>P3</td>\n",
       "      <td>N</td>\n",
       "      <td>61000.0</td>\n",
       "      <td>F</td>\n",
       "      <td>1332.29</td>\n",
       "      <td>smsDestination mailDiscount emailDestination e...</td>\n",
       "      <td>6</td>\n",
       "      <td>mailDiscount</td>\n",
       "      <td>...</td>\n",
       "      <td>0</td>\n",
       "      <td>0</td>\n",
       "      <td>0</td>\n",
       "      <td>1</td>\n",
       "      <td>0</td>\n",
       "      <td>0</td>\n",
       "      <td>0</td>\n",
       "      <td>1.280981</td>\n",
       "      <td>-0.051460</td>\n",
       "      <td>1.269664</td>\n",
       "    </tr>\n",
       "    <tr>\n",
       "      <th>14986</th>\n",
       "      <td>30</td>\n",
       "      <td>single</td>\n",
       "      <td>P4</td>\n",
       "      <td>N</td>\n",
       "      <td>44000.0</td>\n",
       "      <td>C</td>\n",
       "      <td>4010.00</td>\n",
       "      <td>emailDestination emailDestination mailDiscount...</td>\n",
       "      <td>4</td>\n",
       "      <td>mailDiscount</td>\n",
       "      <td>...</td>\n",
       "      <td>0</td>\n",
       "      <td>0</td>\n",
       "      <td>0</td>\n",
       "      <td>0</td>\n",
       "      <td>0</td>\n",
       "      <td>0</td>\n",
       "      <td>0</td>\n",
       "      <td>1.694923</td>\n",
       "      <td>-0.758004</td>\n",
       "      <td>-0.985610</td>\n",
       "    </tr>\n",
       "    <tr>\n",
       "      <th>14987</th>\n",
       "      <td>52</td>\n",
       "      <td>married</td>\n",
       "      <td>P4</td>\n",
       "      <td>N</td>\n",
       "      <td>71000.0</td>\n",
       "      <td>C</td>\n",
       "      <td>507.46</td>\n",
       "      <td>emailDestination mailGift emailDiscount smsDes...</td>\n",
       "      <td>8</td>\n",
       "      <td>emailDestination</td>\n",
       "      <td>...</td>\n",
       "      <td>0</td>\n",
       "      <td>0</td>\n",
       "      <td>0</td>\n",
       "      <td>0</td>\n",
       "      <td>0</td>\n",
       "      <td>0</td>\n",
       "      <td>0</td>\n",
       "      <td>0.779682</td>\n",
       "      <td>0.240671</td>\n",
       "      <td>1.169401</td>\n",
       "    </tr>\n",
       "    <tr>\n",
       "      <th>14988</th>\n",
       "      <td>38</td>\n",
       "      <td>single</td>\n",
       "      <td>P4</td>\n",
       "      <td>U</td>\n",
       "      <td>65000.0</td>\n",
       "      <td>C</td>\n",
       "      <td>512.67</td>\n",
       "      <td>emailDestination mailDiscount</td>\n",
       "      <td>2</td>\n",
       "      <td>mailDiscount</td>\n",
       "      <td>...</td>\n",
       "      <td>0</td>\n",
       "      <td>0</td>\n",
       "      <td>0</td>\n",
       "      <td>0</td>\n",
       "      <td>0</td>\n",
       "      <td>0</td>\n",
       "      <td>0</td>\n",
       "      <td>0.788882</td>\n",
       "      <td>0.047692</td>\n",
       "      <td>0.037646</td>\n",
       "    </tr>\n",
       "  </tbody>\n",
       "</table>\n",
       "<p>14989 rows × 33 columns</p>\n",
       "</div>"
      ],
      "text/plain": [
       "       age   marital segment SocialMedia    income creditRating  aveSpend  \\\n",
       "0       38    single      P4           U   51000.0            C   5007.50   \n",
       "1       39  divorced      P3           U  100000.0            B     19.74   \n",
       "2       41   married      P4           N   51000.0            D    320.10   \n",
       "3       60   married      P4           U  152000.0            C     39.47   \n",
       "4       47   married      P2           Y   60000.0            A     19.89   \n",
       "...    ...       ...     ...         ...       ...          ...       ...   \n",
       "14984   32   married      P1           U   33000.0            E   4280.63   \n",
       "14985   53  divorced      P3           N   61000.0            F   1332.29   \n",
       "14986   30    single      P4           N   44000.0            C   4010.00   \n",
       "14987   52   married      P4           N   71000.0            C    507.46   \n",
       "14988   38    single      P4           U   65000.0            C    512.67   \n",
       "\n",
       "                                             touchpoints  nTouchpoints  \\\n",
       "0                          emailDestination mailDiscount             2   \n",
       "1                              emailDestination mailGift             2   \n",
       "2                   emailDiscount mailGift emailDiscount             3   \n",
       "3                                           mailDiscount             1   \n",
       "4      mailDestination emailDestination emailDestination             3   \n",
       "...                                                  ...           ...   \n",
       "14984  emailDestination emailDestination emailDestina...             7   \n",
       "14985  smsDestination mailDiscount emailDestination e...             6   \n",
       "14986  emailDestination emailDestination mailDiscount...             4   \n",
       "14987  emailDestination mailGift emailDiscount smsDes...             8   \n",
       "14988                      emailDestination mailDiscount             2   \n",
       "\n",
       "      recent_touchpoint  ...  B  D  A  F  E  New  G  nAveSpend   nIncome  \\\n",
       "0          mailDiscount  ...  0  0  0  0  0    0  0   1.798751 -0.406079   \n",
       "1              mailGift  ...  1  0  0  0  0    0  0  -0.694311  0.912774   \n",
       "2         emailDiscount  ...  0  1  0  0  0    0  0   0.559895 -0.406079   \n",
       "3          mailDiscount  ...  0  0  0  0  0    0  0  -0.362850  1.831224   \n",
       "4      emailDestination  ...  0  0  1  0  0    0  0  -0.687284 -0.106841   \n",
       "...                 ...  ... .. .. .. .. ..  ... ..        ...       ...   \n",
       "14984      mailDiscount  ...  0  0  0  0  1    0  0   1.748868 -1.340200   \n",
       "14985      mailDiscount  ...  0  0  0  1  0    0  0   1.280981 -0.051460   \n",
       "14986      mailDiscount  ...  0  0  0  0  0    0  0   1.694923 -0.758004   \n",
       "14987  emailDestination  ...  0  0  0  0  0    0  0   0.779682  0.240671   \n",
       "14988      mailDiscount  ...  0  0  0  0  0    0  0   0.788882  0.047692   \n",
       "\n",
       "           nAge  \n",
       "0      0.037646  \n",
       "1      0.123259  \n",
       "2      0.283522  \n",
       "3      5.199338  \n",
       "4      0.744694  \n",
       "...         ...  \n",
       "14984 -0.659602  \n",
       "14985  1.269664  \n",
       "14986 -0.985610  \n",
       "14987  1.169401  \n",
       "14988  0.037646  \n",
       "\n",
       "[14989 rows x 33 columns]"
      ]
     },
     "execution_count": 7,
     "metadata": {},
     "output_type": "execute_result"
    }
   ],
   "source": [
    "df"
   ]
  },
  {
   "cell_type": "code",
   "execution_count": 8,
   "metadata": {},
   "outputs": [
    {
     "data": {
      "text/plain": [
       "Index(['age', 'marital', 'segment', 'SocialMedia', 'income', 'creditRating',\n",
       "       'aveSpend', 'touchpoints', 'nTouchpoints', 'recent_touchpoint',\n",
       "       'num_creditRating', 'single', 'divorced', 'married', 'unknown', 'P4',\n",
       "       'P3', 'P2', 'P1', 'U', 'N', 'Y', 'C', 'B', 'D', 'A', 'F', 'E', 'New',\n",
       "       'G', 'nAveSpend', 'nIncome', 'nAge'],\n",
       "      dtype='object')"
      ]
     },
     "execution_count": 8,
     "metadata": {},
     "output_type": "execute_result"
    }
   ],
   "source": [
    "df.columns"
   ]
  },
  {
   "cell_type": "markdown",
   "metadata": {},
   "source": [
    "Check distribution of scaled variables"
   ]
  },
  {
   "cell_type": "code",
   "execution_count": 9,
   "metadata": {
    "scrolled": false
   },
   "outputs": [
    {
     "name": "stdout",
     "output_type": "stream",
     "text": [
      "Plot for NAGE: total counts = 14989\n"
     ]
    },
    {
     "data": {
      "image/png": "[encoded data removed]",
      "text/plain": [
       "<Figure size 720x360 with 1 Axes>"
      ]
     },
     "metadata": {},
     "output_type": "display_data"
    },
    {
     "name": "stdout",
     "output_type": "stream",
     "text": [
      "Plot for NINCOME: total counts = 14989\n"
     ]
    },
    {
     "data": {
      "image/png": "[encoded data removed]",
      "text/plain": [
       "<Figure size 720x360 with 1 Axes>"
      ]
     },
     "metadata": {},
     "output_type": "display_data"
    },
    {
     "name": "stdout",
     "output_type": "stream",
     "text": [
      "Plot for NAVESPEND: total counts = 14989\n"
     ]
    },
    {
     "data": {
      "image/png": "[encoded data removed]",
      "text/plain": [
       "<Figure size 720x360 with 1 Axes>"
      ]
     },
     "metadata": {},
     "output_type": "display_data"
    }
   ],
   "source": [
    "import seaborn as sns\n",
    "import matplotlib.pyplot as plt\n",
    "sns.set(style=\"whitegrid\")\n",
    "\n",
    "df_explore = df[['nAge', 'nIncome', 'nAveSpend']]\n",
    "for cat in df_explore:\n",
    "    cat_num = df_explore[cat]\n",
    "    print(\"Plot for %s: total counts = %d\" % (cat.upper(), len(cat_num)))\n",
    "    f, ax = plt.subplots(figsize=(10,5))\n",
    "    plot = sns.distplot(cat_num)\n",
    "    plot.set_xticklabels(plot.get_xticklabels(), rotation=45)\n",
    "    plt.show()"
   ]
  },
  {
   "cell_type": "markdown",
   "metadata": {},
   "source": [
    "Now our numerical variables follow a normal distribution. We will start labeling our data using the most recent touchpoint. Lets see how many possible labels are there in our data."
   ]
  },
  {
   "cell_type": "code",
   "execution_count": 10,
   "metadata": {},
   "outputs": [
    {
     "data": {
      "text/plain": [
       "array(['mailDiscount', 'mailGift', 'emailDiscount', 'emailDestination',\n",
       "       'smsDiscount', 'smsDestination', 'emailGift', 'smsGift',\n",
       "       'mailDestination'], dtype=object)"
      ]
     },
     "execution_count": 10,
     "metadata": {},
     "output_type": "execute_result"
    }
   ],
   "source": [
    "df['recent_touchpoint'].unique()"
   ]
  },
  {
   "cell_type": "markdown",
   "metadata": {},
   "source": [
    "I assume these are the latest touchpoint each customer went through before making a purchase."
   ]
  },
  {
   "cell_type": "code",
   "execution_count": 11,
   "metadata": {},
   "outputs": [
    {
     "data": {
      "text/plain": [
       "{0: 'mailDiscount',\n",
       " 1: 'mailGift',\n",
       " 2: 'emailDiscount',\n",
       " 3: 'emailDestination',\n",
       " 4: 'smsDiscount',\n",
       " 5: 'smsDestination',\n",
       " 6: 'emailGift',\n",
       " 7: 'smsGift',\n",
       " 8: 'mailDestination'}"
      ]
     },
     "execution_count": 11,
     "metadata": {},
     "output_type": "execute_result"
    }
   ],
   "source": [
    "#create a mapping from labels to a unique integer and vice versa for labelling and prediction later\n",
    "labels = df['recent_touchpoint'].unique()\n",
    "i = 0\n",
    "idx2class = {} \n",
    "class2idx = {}\n",
    "for tp in labels:\n",
    "    idx2class[i] = tp\n",
    "    class2idx[tp] = i\n",
    "    i += 1\n",
    "idx2class"
   ]
  },
  {
   "cell_type": "code",
   "execution_count": 12,
   "metadata": {},
   "outputs": [
    {
     "data": {
      "text/plain": [
       "{'mailDiscount': 0,\n",
       " 'mailGift': 1,\n",
       " 'emailDiscount': 2,\n",
       " 'emailDestination': 3,\n",
       " 'smsDiscount': 4,\n",
       " 'smsDestination': 5,\n",
       " 'emailGift': 6,\n",
       " 'smsGift': 7,\n",
       " 'mailDestination': 8}"
      ]
     },
     "execution_count": 12,
     "metadata": {},
     "output_type": "execute_result"
    }
   ],
   "source": [
    "class2idx"
   ]
  },
  {
   "cell_type": "code",
   "execution_count": 13,
   "metadata": {},
   "outputs": [],
   "source": [
    "df['label'] = df['recent_touchpoint'].replace(class2idx)"
   ]
  },
  {
   "cell_type": "code",
   "execution_count": 14,
   "metadata": {
    "scrolled": false
   },
   "outputs": [
    {
     "data": {
      "text/html": [
       "<div>\n",
       "<style scoped>\n",
       "    .dataframe tbody tr th:only-of-type {\n",
       "        vertical-align: middle;\n",
       "    }\n",
       "\n",
       "    .dataframe tbody tr th {\n",
       "        vertical-align: top;\n",
       "    }\n",
       "\n",
       "    .dataframe thead th {\n",
       "        text-align: right;\n",
       "    }\n",
       "</style>\n",
       "<table border=\"1\" class=\"dataframe\">\n",
       "  <thead>\n",
       "    <tr style=\"text-align: right;\">\n",
       "      <th></th>\n",
       "      <th>age</th>\n",
       "      <th>marital</th>\n",
       "      <th>segment</th>\n",
       "      <th>SocialMedia</th>\n",
       "      <th>income</th>\n",
       "      <th>creditRating</th>\n",
       "      <th>aveSpend</th>\n",
       "      <th>touchpoints</th>\n",
       "      <th>nTouchpoints</th>\n",
       "      <th>recent_touchpoint</th>\n",
       "      <th>...</th>\n",
       "      <th>D</th>\n",
       "      <th>A</th>\n",
       "      <th>F</th>\n",
       "      <th>E</th>\n",
       "      <th>New</th>\n",
       "      <th>G</th>\n",
       "      <th>nAveSpend</th>\n",
       "      <th>nIncome</th>\n",
       "      <th>nAge</th>\n",
       "      <th>label</th>\n",
       "    </tr>\n",
       "  </thead>\n",
       "  <tbody>\n",
       "    <tr>\n",
       "      <th>0</th>\n",
       "      <td>38</td>\n",
       "      <td>single</td>\n",
       "      <td>P4</td>\n",
       "      <td>U</td>\n",
       "      <td>51000.0</td>\n",
       "      <td>C</td>\n",
       "      <td>5007.50</td>\n",
       "      <td>emailDestination mailDiscount</td>\n",
       "      <td>2</td>\n",
       "      <td>mailDiscount</td>\n",
       "      <td>...</td>\n",
       "      <td>0</td>\n",
       "      <td>0</td>\n",
       "      <td>0</td>\n",
       "      <td>0</td>\n",
       "      <td>0</td>\n",
       "      <td>0</td>\n",
       "      <td>1.798751</td>\n",
       "      <td>-0.406079</td>\n",
       "      <td>0.037646</td>\n",
       "      <td>0</td>\n",
       "    </tr>\n",
       "    <tr>\n",
       "      <th>1</th>\n",
       "      <td>39</td>\n",
       "      <td>divorced</td>\n",
       "      <td>P3</td>\n",
       "      <td>U</td>\n",
       "      <td>100000.0</td>\n",
       "      <td>B</td>\n",
       "      <td>19.74</td>\n",
       "      <td>emailDestination mailGift</td>\n",
       "      <td>2</td>\n",
       "      <td>mailGift</td>\n",
       "      <td>...</td>\n",
       "      <td>0</td>\n",
       "      <td>0</td>\n",
       "      <td>0</td>\n",
       "      <td>0</td>\n",
       "      <td>0</td>\n",
       "      <td>0</td>\n",
       "      <td>-0.694311</td>\n",
       "      <td>0.912774</td>\n",
       "      <td>0.123259</td>\n",
       "      <td>1</td>\n",
       "    </tr>\n",
       "    <tr>\n",
       "      <th>2</th>\n",
       "      <td>41</td>\n",
       "      <td>married</td>\n",
       "      <td>P4</td>\n",
       "      <td>N</td>\n",
       "      <td>51000.0</td>\n",
       "      <td>D</td>\n",
       "      <td>320.10</td>\n",
       "      <td>emailDiscount mailGift emailDiscount</td>\n",
       "      <td>3</td>\n",
       "      <td>emailDiscount</td>\n",
       "      <td>...</td>\n",
       "      <td>1</td>\n",
       "      <td>0</td>\n",
       "      <td>0</td>\n",
       "      <td>0</td>\n",
       "      <td>0</td>\n",
       "      <td>0</td>\n",
       "      <td>0.559895</td>\n",
       "      <td>-0.406079</td>\n",
       "      <td>0.283522</td>\n",
       "      <td>2</td>\n",
       "    </tr>\n",
       "    <tr>\n",
       "      <th>3</th>\n",
       "      <td>60</td>\n",
       "      <td>married</td>\n",
       "      <td>P4</td>\n",
       "      <td>U</td>\n",
       "      <td>152000.0</td>\n",
       "      <td>C</td>\n",
       "      <td>39.47</td>\n",
       "      <td>mailDiscount</td>\n",
       "      <td>1</td>\n",
       "      <td>mailDiscount</td>\n",
       "      <td>...</td>\n",
       "      <td>0</td>\n",
       "      <td>0</td>\n",
       "      <td>0</td>\n",
       "      <td>0</td>\n",
       "      <td>0</td>\n",
       "      <td>0</td>\n",
       "      <td>-0.362850</td>\n",
       "      <td>1.831224</td>\n",
       "      <td>5.199338</td>\n",
       "      <td>0</td>\n",
       "    </tr>\n",
       "    <tr>\n",
       "      <th>4</th>\n",
       "      <td>47</td>\n",
       "      <td>married</td>\n",
       "      <td>P2</td>\n",
       "      <td>Y</td>\n",
       "      <td>60000.0</td>\n",
       "      <td>A</td>\n",
       "      <td>19.89</td>\n",
       "      <td>mailDestination emailDestination emailDestination</td>\n",
       "      <td>3</td>\n",
       "      <td>emailDestination</td>\n",
       "      <td>...</td>\n",
       "      <td>0</td>\n",
       "      <td>1</td>\n",
       "      <td>0</td>\n",
       "      <td>0</td>\n",
       "      <td>0</td>\n",
       "      <td>0</td>\n",
       "      <td>-0.687284</td>\n",
       "      <td>-0.106841</td>\n",
       "      <td>0.744694</td>\n",
       "      <td>3</td>\n",
       "    </tr>\n",
       "    <tr>\n",
       "      <th>...</th>\n",
       "      <td>...</td>\n",
       "      <td>...</td>\n",
       "      <td>...</td>\n",
       "      <td>...</td>\n",
       "      <td>...</td>\n",
       "      <td>...</td>\n",
       "      <td>...</td>\n",
       "      <td>...</td>\n",
       "      <td>...</td>\n",
       "      <td>...</td>\n",
       "      <td>...</td>\n",
       "      <td>...</td>\n",
       "      <td>...</td>\n",
       "      <td>...</td>\n",
       "      <td>...</td>\n",
       "      <td>...</td>\n",
       "      <td>...</td>\n",
       "      <td>...</td>\n",
       "      <td>...</td>\n",
       "      <td>...</td>\n",
       "      <td>...</td>\n",
       "    </tr>\n",
       "    <tr>\n",
       "      <th>14984</th>\n",
       "      <td>32</td>\n",
       "      <td>married</td>\n",
       "      <td>P1</td>\n",
       "      <td>U</td>\n",
       "      <td>33000.0</td>\n",
       "      <td>E</td>\n",
       "      <td>4280.63</td>\n",
       "      <td>emailDestination emailDestination emailDestina...</td>\n",
       "      <td>7</td>\n",
       "      <td>mailDiscount</td>\n",
       "      <td>...</td>\n",
       "      <td>0</td>\n",
       "      <td>0</td>\n",
       "      <td>0</td>\n",
       "      <td>1</td>\n",
       "      <td>0</td>\n",
       "      <td>0</td>\n",
       "      <td>1.748868</td>\n",
       "      <td>-1.340200</td>\n",
       "      <td>-0.659602</td>\n",
       "      <td>0</td>\n",
       "    </tr>\n",
       "    <tr>\n",
       "      <th>14985</th>\n",
       "      <td>53</td>\n",
       "      <td>divorced</td>\n",
       "      <td>P3</td>\n",
       "      <td>N</td>\n",
       "      <td>61000.0</td>\n",
       "      <td>F</td>\n",
       "      <td>1332.29</td>\n",
       "      <td>smsDestination mailDiscount emailDestination e...</td>\n",
       "      <td>6</td>\n",
       "      <td>mailDiscount</td>\n",
       "      <td>...</td>\n",
       "      <td>0</td>\n",
       "      <td>0</td>\n",
       "      <td>1</td>\n",
       "      <td>0</td>\n",
       "      <td>0</td>\n",
       "      <td>0</td>\n",
       "      <td>1.280981</td>\n",
       "      <td>-0.051460</td>\n",
       "      <td>1.269664</td>\n",
       "      <td>0</td>\n",
       "    </tr>\n",
       "    <tr>\n",
       "      <th>14986</th>\n",
       "      <td>30</td>\n",
       "      <td>single</td>\n",
       "      <td>P4</td>\n",
       "      <td>N</td>\n",
       "      <td>44000.0</td>\n",
       "      <td>C</td>\n",
       "      <td>4010.00</td>\n",
       "      <td>emailDestination emailDestination mailDiscount...</td>\n",
       "      <td>4</td>\n",
       "      <td>mailDiscount</td>\n",
       "      <td>...</td>\n",
       "      <td>0</td>\n",
       "      <td>0</td>\n",
       "      <td>0</td>\n",
       "      <td>0</td>\n",
       "      <td>0</td>\n",
       "      <td>0</td>\n",
       "      <td>1.694923</td>\n",
       "      <td>-0.758004</td>\n",
       "      <td>-0.985610</td>\n",
       "      <td>0</td>\n",
       "    </tr>\n",
       "    <tr>\n",
       "      <th>14987</th>\n",
       "      <td>52</td>\n",
       "      <td>married</td>\n",
       "      <td>P4</td>\n",
       "      <td>N</td>\n",
       "      <td>71000.0</td>\n",
       "      <td>C</td>\n",
       "      <td>507.46</td>\n",
       "      <td>emailDestination mailGift emailDiscount smsDes...</td>\n",
       "      <td>8</td>\n",
       "      <td>emailDestination</td>\n",
       "      <td>...</td>\n",
       "      <td>0</td>\n",
       "      <td>0</td>\n",
       "      <td>0</td>\n",
       "      <td>0</td>\n",
       "      <td>0</td>\n",
       "      <td>0</td>\n",
       "      <td>0.779682</td>\n",
       "      <td>0.240671</td>\n",
       "      <td>1.169401</td>\n",
       "      <td>3</td>\n",
       "    </tr>\n",
       "    <tr>\n",
       "      <th>14988</th>\n",
       "      <td>38</td>\n",
       "      <td>single</td>\n",
       "      <td>P4</td>\n",
       "      <td>U</td>\n",
       "      <td>65000.0</td>\n",
       "      <td>C</td>\n",
       "      <td>512.67</td>\n",
       "      <td>emailDestination mailDiscount</td>\n",
       "      <td>2</td>\n",
       "      <td>mailDiscount</td>\n",
       "      <td>...</td>\n",
       "      <td>0</td>\n",
       "      <td>0</td>\n",
       "      <td>0</td>\n",
       "      <td>0</td>\n",
       "      <td>0</td>\n",
       "      <td>0</td>\n",
       "      <td>0.788882</td>\n",
       "      <td>0.047692</td>\n",
       "      <td>0.037646</td>\n",
       "      <td>0</td>\n",
       "    </tr>\n",
       "  </tbody>\n",
       "</table>\n",
       "<p>14989 rows × 34 columns</p>\n",
       "</div>"
      ],
      "text/plain": [
       "       age   marital segment SocialMedia    income creditRating  aveSpend  \\\n",
       "0       38    single      P4           U   51000.0            C   5007.50   \n",
       "1       39  divorced      P3           U  100000.0            B     19.74   \n",
       "2       41   married      P4           N   51000.0            D    320.10   \n",
       "3       60   married      P4           U  152000.0            C     39.47   \n",
       "4       47   married      P2           Y   60000.0            A     19.89   \n",
       "...    ...       ...     ...         ...       ...          ...       ...   \n",
       "14984   32   married      P1           U   33000.0            E   4280.63   \n",
       "14985   53  divorced      P3           N   61000.0            F   1332.29   \n",
       "14986   30    single      P4           N   44000.0            C   4010.00   \n",
       "14987   52   married      P4           N   71000.0            C    507.46   \n",
       "14988   38    single      P4           U   65000.0            C    512.67   \n",
       "\n",
       "                                             touchpoints  nTouchpoints  \\\n",
       "0                          emailDestination mailDiscount             2   \n",
       "1                              emailDestination mailGift             2   \n",
       "2                   emailDiscount mailGift emailDiscount             3   \n",
       "3                                           mailDiscount             1   \n",
       "4      mailDestination emailDestination emailDestination             3   \n",
       "...                                                  ...           ...   \n",
       "14984  emailDestination emailDestination emailDestina...             7   \n",
       "14985  smsDestination mailDiscount emailDestination e...             6   \n",
       "14986  emailDestination emailDestination mailDiscount...             4   \n",
       "14987  emailDestination mailGift emailDiscount smsDes...             8   \n",
       "14988                      emailDestination mailDiscount             2   \n",
       "\n",
       "      recent_touchpoint  ...  D  A  F  E  New  G  nAveSpend   nIncome  \\\n",
       "0          mailDiscount  ...  0  0  0  0    0  0   1.798751 -0.406079   \n",
       "1              mailGift  ...  0  0  0  0    0  0  -0.694311  0.912774   \n",
       "2         emailDiscount  ...  1  0  0  0    0  0   0.559895 -0.406079   \n",
       "3          mailDiscount  ...  0  0  0  0    0  0  -0.362850  1.831224   \n",
       "4      emailDestination  ...  0  1  0  0    0  0  -0.687284 -0.106841   \n",
       "...                 ...  ... .. .. .. ..  ... ..        ...       ...   \n",
       "14984      mailDiscount  ...  0  0  0  1    0  0   1.748868 -1.340200   \n",
       "14985      mailDiscount  ...  0  0  1  0    0  0   1.280981 -0.051460   \n",
       "14986      mailDiscount  ...  0  0  0  0    0  0   1.694923 -0.758004   \n",
       "14987  emailDestination  ...  0  0  0  0    0  0   0.779682  0.240671   \n",
       "14988      mailDiscount  ...  0  0  0  0    0  0   0.788882  0.047692   \n",
       "\n",
       "           nAge  label  \n",
       "0      0.037646      0  \n",
       "1      0.123259      1  \n",
       "2      0.283522      2  \n",
       "3      5.199338      0  \n",
       "4      0.744694      3  \n",
       "...         ...    ...  \n",
       "14984 -0.659602      0  \n",
       "14985  1.269664      0  \n",
       "14986 -0.985610      0  \n",
       "14987  1.169401      3  \n",
       "14988  0.037646      0  \n",
       "\n",
       "[14989 rows x 34 columns]"
      ]
     },
     "execution_count": 14,
     "metadata": {},
     "output_type": "execute_result"
    }
   ],
   "source": [
    "df"
   ]
  },
  {
   "cell_type": "markdown",
   "metadata": {},
   "source": [
    "Select columns we want to use for our model"
   ]
  },
  {
   "cell_type": "code",
   "execution_count": 15,
   "metadata": {},
   "outputs": [
    {
     "data": {
      "text/plain": [
       "Index(['age', 'marital', 'segment', 'SocialMedia', 'income', 'creditRating',\n",
       "       'aveSpend', 'touchpoints', 'nTouchpoints', 'recent_touchpoint',\n",
       "       'num_creditRating', 'single', 'divorced', 'married', 'unknown', 'P4',\n",
       "       'P3', 'P2', 'P1', 'U', 'N', 'Y', 'C', 'B', 'D', 'A', 'F', 'E', 'New',\n",
       "       'G', 'nAveSpend', 'nIncome', 'nAge', 'label'],\n",
       "      dtype='object')"
      ]
     },
     "execution_count": 15,
     "metadata": {},
     "output_type": "execute_result"
    }
   ],
   "source": [
    "df.columns"
   ]
  },
  {
   "cell_type": "markdown",
   "metadata": {},
   "source": [
    "When a dataset is imbalanced, i.e., the distribution of target variables is not uniform, we should make sure that the training-validation split is stratified. This ensures that the distribution of the target variable is preserved in both the training and validation datasets."
   ]
  },
  {
   "cell_type": "code",
   "execution_count": 16,
   "metadata": {},
   "outputs": [],
   "source": [
    "def stratified_split(df, target, val_percent=0.2):\n",
    "    '''\n",
    "    Function to split a dataframe into train and validation sets, while preserving the ratio of the labels in the target variable\n",
    "    Inputs:\n",
    "    - df, the dataframe\n",
    "    - target, the target variable\n",
    "    - val_percent, the percentage of validation samples, default 0.2\n",
    "    Outputs:\n",
    "    - train_idxs, the indices of the training dataset\n",
    "    - val_idxs, the indices of the validation dataset\n",
    "    '''\n",
    "    classes=list(df[target].unique())\n",
    "    train_idxs, val_idxs = [], []\n",
    "    for c in classes:\n",
    "        idx=list(df[df[target]==c].index)\n",
    "        np.random.shuffle(idx)\n",
    "        val_size=int(len(idx)*val_percent)\n",
    "        val_idxs+=idx[:val_size]\n",
    "        train_idxs+=idx[val_size:]\n",
    "    return train_idxs, val_idxs\n",
    "\n",
    "\n",
    "train_idxs, val_idxs = stratified_split(df, 'label', val_percent=0.25)\n",
    "\n",
    "val_idxs, test_idxs = stratified_split(df[df.index.isin(val_idxs)], 'label', val_percent=0.5)"
   ]
  },
  {
   "cell_type": "code",
   "execution_count": 17,
   "metadata": {},
   "outputs": [],
   "source": [
    "def test_stratified(df, col):\n",
    "    '''\n",
    "    Analyzes the ratio of different classes in a categorical variable within a dataframe\n",
    "    Inputs:\n",
    "    - dataframe\n",
    "    - categorical column to be analyzed\n",
    "    Returns: None\n",
    "    '''\n",
    "    classes=list(df[col].unique())\n",
    "    \n",
    "    for c in classes:\n",
    "        print(f'Proportion of records with {c}: {len(df[df[col]==c])*1./len(df):0.2} ({len(df[df[col]==c])} / {len(df)})')"
   ]
  },
  {
   "cell_type": "code",
   "execution_count": 18,
   "metadata": {
    "scrolled": false
   },
   "outputs": [
    {
     "name": "stdout",
     "output_type": "stream",
     "text": [
      "---------- STRATIFIED SAMPLING REPORT ----------\n",
      "-------- Label proportions in FULL data --------\n",
      "Proportion of records with 0: 0.12 (1837 / 14989)\n",
      "Proportion of records with 1: 0.043 (643 / 14989)\n",
      "Proportion of records with 2: 0.22 (3229 / 14989)\n",
      "Proportion of records with 3: 0.37 (5542 / 14989)\n",
      "Proportion of records with 4: 0.077 (1149 / 14989)\n",
      "Proportion of records with 5: 0.039 (585 / 14989)\n",
      "Proportion of records with 6: 0.048 (722 / 14989)\n",
      "Proportion of records with 7: 0.04 (598 / 14989)\n",
      "Proportion of records with 8: 0.046 (684 / 14989)\n",
      "-------- Label proportions in TRAIN data --------\n",
      "Proportion of records with 1: 0.043 (483 / 11245)\n",
      "Proportion of records with 2: 0.22 (2422 / 11245)\n",
      "Proportion of records with 0: 0.12 (1378 / 11245)\n",
      "Proportion of records with 3: 0.37 (4157 / 11245)\n",
      "Proportion of records with 4: 0.077 (862 / 11245)\n",
      "Proportion of records with 7: 0.04 (449 / 11245)\n",
      "Proportion of records with 6: 0.048 (542 / 11245)\n",
      "Proportion of records with 8: 0.046 (513 / 11245)\n",
      "Proportion of records with 5: 0.039 (439 / 11245)\n",
      "------ Label proportions in VALIDATION data -----\n",
      "Proportion of records with 2: 0.22 (404 / 1875)\n",
      "Proportion of records with 3: 0.37 (693 / 1875)\n",
      "Proportion of records with 1: 0.043 (80 / 1875)\n",
      "Proportion of records with 4: 0.077 (144 / 1875)\n",
      "Proportion of records with 7: 0.04 (75 / 1875)\n",
      "Proportion of records with 0: 0.12 (230 / 1875)\n",
      "Proportion of records with 6: 0.048 (90 / 1875)\n",
      "Proportion of records with 8: 0.046 (86 / 1875)\n",
      "Proportion of records with 5: 0.039 (73 / 1875)\n",
      "-------- Label proportions in TEST data ---------\n",
      "Proportion of records with 0: 0.12 (229 / 1869)\n",
      "Proportion of records with 5: 0.039 (73 / 1869)\n",
      "Proportion of records with 6: 0.048 (90 / 1869)\n",
      "Proportion of records with 4: 0.077 (143 / 1869)\n",
      "Proportion of records with 2: 0.22 (403 / 1869)\n",
      "Proportion of records with 3: 0.37 (692 / 1869)\n",
      "Proportion of records with 7: 0.04 (74 / 1869)\n",
      "Proportion of records with 1: 0.043 (80 / 1869)\n",
      "Proportion of records with 8: 0.045 (85 / 1869)\n"
     ]
    }
   ],
   "source": [
    "print('---------- STRATIFIED SAMPLING REPORT ----------')\n",
    "print('-------- Label proportions in FULL data --------')\n",
    "test_stratified(df, 'label')\n",
    "print('-------- Label proportions in TRAIN data --------')\n",
    "test_stratified(df[df.index.isin(train_idxs)], 'label')\n",
    "print('------ Label proportions in VALIDATION data -----')\n",
    "test_stratified(df[df.index.isin(val_idxs)], 'label')\n",
    "print('-------- Label proportions in TEST data ---------')\n",
    "test_stratified(df[df.index.isin(test_idxs)], 'label')"
   ]
  },
  {
   "cell_type": "code",
   "execution_count": 19,
   "metadata": {},
   "outputs": [
    {
     "name": "stdout",
     "output_type": "stream",
     "text": [
      "Retrieved Training Data\n",
      "Retrieved Validation Data\n",
      "Retrieved Test Data\n"
     ]
    }
   ],
   "source": [
    "train_df = df[df.index.isin(train_idxs)]\n",
    "X_train = train_df[['nTouchpoints', 'single', 'divorced', 'married', 'unknown', 'P4',\n",
    "       'P3', 'P2', 'P1', 'U', 'N', 'Y', 'C', 'B', 'D', 'A', 'F', 'E', 'New',\n",
    "       'G', 'nAveSpend', 'nIncome', 'nAge']].values\n",
    "Y_train = train_df[['label']].values\n",
    "print('Retrieved Training Data')\n",
    "val_df = df[df.index.isin(val_idxs)]\n",
    "X_val = val_df[['nTouchpoints', 'single', 'divorced', 'married', 'unknown', 'P4',\n",
    "       'P3', 'P2', 'P1', 'U', 'N', 'Y', 'C', 'B', 'D', 'A', 'F', 'E', 'New',\n",
    "       'G', 'nAveSpend', 'nIncome', 'nAge']].values\n",
    "Y_val = val_df[['label']].values\n",
    "print('Retrieved Validation Data')\n",
    "test_df = df[df.index.isin(test_idxs)]\n",
    "X_test = test_df[['nTouchpoints', 'single', 'divorced', 'married', 'unknown', 'P4',\n",
    "       'P3', 'P2', 'P1', 'U', 'N', 'Y', 'C', 'B', 'D', 'A', 'F', 'E', 'New',\n",
    "       'G', 'nAveSpend', 'nIncome', 'nAge']].values\n",
    "Y_test = test_df[['label']].values\n",
    "print('Retrieved Test Data')"
   ]
  },
  {
   "cell_type": "markdown",
   "metadata": {},
   "source": [
    "#### For simplicity, I will explore Logistic regression(OneVsRest) as the baseline model and progressively use more complicated ensemble models for our prediction task such as XGBoost.\n"
   ]
  },
  {
   "cell_type": "markdown",
   "metadata": {},
   "source": [
    "## Random Forest"
   ]
  },
  {
   "cell_type": "code",
   "execution_count": null,
   "metadata": {},
   "outputs": [],
   "source": []
  },
  {
   "cell_type": "code",
   "execution_count": null,
   "metadata": {},
   "outputs": [],
   "source": []
  },
  {
   "cell_type": "code",
   "execution_count": null,
   "metadata": {},
   "outputs": [],
   "source": []
  },
  {
   "cell_type": "code",
   "execution_count": null,
   "metadata": {},
   "outputs": [],
   "source": []
  },
  {
   "cell_type": "code",
   "execution_count": null,
   "metadata": {},
   "outputs": [],
   "source": []
  },
  {
   "cell_type": "code",
   "execution_count": null,
   "metadata": {},
   "outputs": [],
   "source": []
  },
  {
   "cell_type": "code",
   "execution_count": null,
   "metadata": {},
   "outputs": [],
   "source": []
  },
  {
   "cell_type": "code",
   "execution_count": null,
   "metadata": {},
   "outputs": [],
   "source": []
  },
  {
   "cell_type": "code",
   "execution_count": null,
   "metadata": {},
   "outputs": [],
   "source": []
  },
  {
   "cell_type": "markdown",
   "metadata": {},
   "source": [
    "## XGBoost"
   ]
  },
  {
   "cell_type": "code",
   "execution_count": 29,
   "metadata": {},
   "outputs": [],
   "source": [
    "training_data = {'X_train':X_train,'Y_train':Y_train,\n",
    "                'X_val': X_val,'Y_val':Y_val,\n",
    "                'X_test': X_test,'Y_test':Y_test}"
   ]
  },
  {
   "cell_type": "code",
   "execution_count": 74,
   "metadata": {},
   "outputs": [],
   "source": [
    "import xgboost as xgb\n",
    "import matplotlib.pyplot as plt\n",
    "from sklearn.metrics import accuracy_score, f1_score\n",
    "\n",
    "#allow logloss and classification error plots for each iteraetion of xgb model\n",
    "def plot_compare(metrics,eval_results,epochs):\n",
    "    for m in metrics:\n",
    "        test_score = eval_results['val'][m]\n",
    "        train_score = eval_results['train'][m]\n",
    "        rang = range(0, epochs)\n",
    "        plt.rcParams[\"figure.figsize\"] = [7,7]\n",
    "        plt.plot(rang, test_score,\"c\", label=\"Val\")\n",
    "        plt.plot(rang, train_score,\"orange\", label=\"Train\")\n",
    "        title_name = m + \" plot\"\n",
    "        plt.title(title_name)\n",
    "        plt.xlabel('Iterations')\n",
    "        plt.ylabel(m)\n",
    "        lgd = plt.legend()\n",
    "        plt.show()\n",
    "        \n",
    "def fitXgb(sk_model, training_data=training_data,epochs=300):\n",
    "    print('Fitting model...')\n",
    "    sk_model.fit(training_data['X_train'], training_data['Y_train'].reshape(training_data['Y_train'].shape[0],))\n",
    "    print('Fitting done!')\n",
    "    train = xgb.DMatrix(training_data['X_train'], label=training_data['Y_train'])\n",
    "    val = xgb.DMatrix(training_data['X_val'], label=training_data['Y_val'])\n",
    "    params = sk_model.get_xgb_params()\n",
    "    metrics = ['mlogloss','merror']\n",
    "    params['eval_metric'] = metrics\n",
    "    store = {}\n",
    "    evallist = [(val, 'val'),(train,'train')]\n",
    "    xgb_model = xgb.train(params, train, epochs, evallist,evals_result=store,verbose_eval=100)\n",
    "    print('-- Model Report --')\n",
    "    print('XGBoost Accuracy: '+str(accuracy_score(sk_model.predict(training_data['X_test']), training_data['Y_test'])))\n",
    "    print('XGBoost F1-Score (Micro): '+str(f1_score(sk_model.predict(training_data['X_test']),training_data['Y_test'],average='micro')))\n",
    "    plot_compare(metrics,store,epochs)\n",
    "    features = ['nTouchpoints', 'single', 'divorced', 'married', 'unknown', 'P4',\n",
    "       'P3', 'P2', 'P1', 'U', 'N', 'Y', 'C', 'B', 'D', 'A', 'F', 'E', 'New',\n",
    "       'G', 'nAveSpend', 'nIncome', 'nAge']\n",
    "    f, ax = plt.subplots(figsize=(10,5))\n",
    "    plot = sns.barplot(x=features, y=sk_model.feature_importances_)\n",
    "    ax.set_title('Feature Importance')\n",
    "    plot.set_xticklabels(plot.get_xticklabels(),rotation='vertical')\n",
    "    plt.show()"
   ]
  },
  {
   "cell_type": "markdown",
   "metadata": {},
   "source": [
    "### XGBoost hyperparameter tuning with GridSearchCV\n",
    "\n",
    "#### Initial model"
   ]
  },
  {
   "cell_type": "code",
   "execution_count": 76,
   "metadata": {},
   "outputs": [],
   "source": [
    "from xgboost.sklearn import XGBClassifier\n",
    "from sklearn.model_selection import GridSearchCV\n",
    "#initial model\n",
    "xgb1 = XGBClassifier(learning_rate=0.1,\n",
    "                    n_estimators=1000,\n",
    "                    max_depth=5,\n",
    "                    min_child_weight=1,\n",
    "                    gamma=0,\n",
    "                    subsample=0.8,\n",
    "                    colsample_bytree=0.8,\n",
    "                    objective='multi:softmax',\n",
    "                    nthread=4,\n",
    "                    num_class=9,\n",
    "                    seed=27)"
   ]
  },
  {
   "cell_type": "code",
   "execution_count": 71,
   "metadata": {},
   "outputs": [
    {
     "name": "stdout",
     "output_type": "stream",
     "text": [
      "Fitting model...\n",
      "Fitting done!\n",
      "[0]\tval-mlogloss:2.07116\tval-merror:0.49547\ttrain-mlogloss:2.07036\ttrain-merror:0.49435\n",
      "[100]\tval-mlogloss:0.94984\tval-merror:0.28160\ttrain-mlogloss:0.84953\ttrain-merror:0.22979\n",
      "[200]\tval-mlogloss:0.67841\tval-merror:0.15947\ttrain-mlogloss:0.54003\ttrain-merror:0.08706\n",
      "[299]\tval-mlogloss:0.51569\tval-merror:0.09920\ttrain-mlogloss:0.36673\ttrain-merror:0.03691\n",
      "-- Model Report --\n",
      "XGBoost Accuracy: 0.9668271803103263\n",
      "XGBoost F1-Score (Micro): 0.9668271803103263\n"
     ]
    },
    {
     "data": {
      "image/png": "[encoded data removed]",
      "text/plain": [
       "<Figure size 504x504 with 1 Axes>"
      ]
     },
     "metadata": {},
     "output_type": "display_data"
    },
    {
     "data": {
      "image/png": "[encoded data removed]",
      "text/plain": [
       "<Figure size 504x504 with 1 Axes>"
      ]
     },
     "metadata": {},
     "output_type": "display_data"
    },
    {
     "data": {
      "image/png": "[encoded data removed]",
      "text/plain": [
       "<Figure size 720x360 with 1 Axes>"
      ]
     },
     "metadata": {},
     "output_type": "display_data"
    }
   ],
   "source": [
    "fitXgb(xgb1, training_data)"
   ]
  },
  {
   "cell_type": "markdown",
   "metadata": {},
   "source": [
    "#### Tune max_depth and min_child_weight"
   ]
  },
  {
   "cell_type": "code",
   "execution_count": 85,
   "metadata": {},
   "outputs": [],
   "source": [
    "def getTrainScores(gs):\n",
    "    results = {}\n",
    "    runs = 0\n",
    "    for x,y in zip(list(gs.cv_results_['mean_test_score']), gs.cv_results_['params']):\n",
    "        results[runs] = 'mean:' + str(x) + 'params' + str(y)\n",
    "        runs += 1\n",
    "    best = {'best_mean': gs.best_score_, \"best_param\":gs.best_params_}\n",
    "    return results, best\n"
   ]
  },
  {
   "cell_type": "code",
   "execution_count": 84,
   "metadata": {},
   "outputs": [
    {
     "name": "stdout",
     "output_type": "stream",
     "text": [
      "Fitting 5 folds for each of 12 candidates, totalling 60 fits\n"
     ]
    },
    {
     "name": "stderr",
     "output_type": "stream",
     "text": [
      "[Parallel(n_jobs=-1)]: Using backend LokyBackend with 8 concurrent workers.\n",
      "[Parallel(n_jobs=-1)]: Done   2 tasks      | elapsed:  2.8min\n",
      "[Parallel(n_jobs=-1)]: Done   9 tasks      | elapsed:  5.7min\n",
      "[Parallel(n_jobs=-1)]: Done  16 tasks      | elapsed:  7.8min\n",
      "[Parallel(n_jobs=-1)]: Done  25 tasks      | elapsed: 15.3min\n",
      "[Parallel(n_jobs=-1)]: Done  34 tasks      | elapsed: 23.8min\n",
      "[Parallel(n_jobs=-1)]: Done  45 tasks      | elapsed: 30.8min\n",
      "[Parallel(n_jobs=-1)]: Done  52 out of  60 | elapsed: 38.7min remaining:  5.9min\n",
      "[Parallel(n_jobs=-1)]: Done  60 out of  60 | elapsed: 44.0min finished\n",
      "/usr/local/lib/python3.7/site-packages/sklearn/preprocessing/_label.py:235: DataConversionWarning: A column-vector y was passed when a 1d array was expected. Please change the shape of y to (n_samples, ), for example using ravel().\n",
      "  y = column_or_1d(y, warn=True)\n",
      "/usr/local/lib/python3.7/site-packages/sklearn/preprocessing/_label.py:268: DataConversionWarning: A column-vector y was passed when a 1d array was expected. Please change the shape of y to (n_samples, ), for example using ravel().\n",
      "  y = column_or_1d(y, warn=True)\n"
     ]
    },
    {
     "data": {
      "text/plain": [
       "GridSearchCV(cv=5, error_score=nan,\n",
       "             estimator=XGBClassifier(base_score=None, booster=None,\n",
       "                                     colsample_bylevel=None,\n",
       "                                     colsample_bynode=None,\n",
       "                                     colsample_bytree=0.8, gamma=0, gpu_id=None,\n",
       "                                     importance_type='gain',\n",
       "                                     interaction_constraints=None,\n",
       "                                     learning_rate=0.1, max_delta_step=None,\n",
       "                                     max_depth=5, min_child_weight=1,\n",
       "                                     missing=nan, monotone_constraints=None,\n",
       "                                     n_estimators=1000,...\n",
       "                                     objective='multi:softmax',\n",
       "                                     random_state=None, reg_alpha=None,\n",
       "                                     reg_lambda=None, scale_pos_weight=None,\n",
       "                                     seed=27, subsample=0.8, tree_method=None,\n",
       "                                     validate_parameters=None, verbosity=None),\n",
       "             iid='deprecated', n_jobs=-1,\n",
       "             param_grid={'max_depth': range(3, 10, 2),\n",
       "                         'min_child_weight': range(1, 6, 2)},\n",
       "             pre_dispatch='2*n_jobs', refit=True, return_train_score=False,\n",
       "             scoring='f1_micro', verbose=10)"
      ]
     },
     "execution_count": 84,
     "metadata": {},
     "output_type": "execute_result"
    }
   ],
   "source": [
    "param_test1 = {\n",
    " 'max_depth':range(3,10,2),\n",
    " 'min_child_weight':range(1,6,2)\n",
    "}\n",
    "#metrics to consider: f1_micro, f1_macro, roc_auc_ovr\n",
    "gsearch1 = GridSearchCV(estimator = xgb1, param_grid = param_test1, scoring='f1_micro',n_jobs=-1,verbose = 10, cv=5)\n",
    "gsearch1.fit(X_train, Y_train)"
   ]
  },
  {
   "cell_type": "code",
   "execution_count": 86,
   "metadata": {},
   "outputs": [
    {
     "data": {
      "text/plain": [
       "({0: \"mean:0.8630502445531347params{'max_depth': 3, 'min_child_weight': 1}\",\n",
       "  1: \"mean:0.8412627834593153params{'max_depth': 3, 'min_child_weight': 3}\",\n",
       "  2: \"mean:0.8196531791907514params{'max_depth': 3, 'min_child_weight': 5}\",\n",
       "  3: \"mean:0.9425522454424188params{'max_depth': 5, 'min_child_weight': 1}\",\n",
       "  4: \"mean:0.9318808359270786params{'max_depth': 5, 'min_child_weight': 3}\",\n",
       "  5: \"mean:0.9207647843485993params{'max_depth': 5, 'min_child_weight': 5}\",\n",
       "  6: \"mean:0.9451311694086261params{'max_depth': 7, 'min_child_weight': 1}\",\n",
       "  7: \"mean:0.9397065362383282params{'max_depth': 7, 'min_child_weight': 3}\",\n",
       "  8: \"mean:0.9338372610048911params{'max_depth': 7, 'min_child_weight': 5}\",\n",
       "  9: \"mean:0.9458425967096489params{'max_depth': 9, 'min_child_weight': 1}\",\n",
       "  10: \"mean:0.9400622498888394params{'max_depth': 9, 'min_child_weight': 3}\",\n",
       "  11: \"mean:0.9368608270342375params{'max_depth': 9, 'min_child_weight': 5}\"},\n",
       " {'best_mean': 0.9458425967096489,\n",
       "  'best_param': {'max_depth': 9, 'min_child_weight': 1}})"
      ]
     },
     "execution_count": 86,
     "metadata": {},
     "output_type": "execute_result"
    }
   ],
   "source": [
    "getTrainScores(gsearch1)"
   ]
  },
  {
   "cell_type": "markdown",
   "metadata": {},
   "source": [
    "Through GridSearchCV, we see that the best parameters for max_depth and min_child_weight are 9 and 1 respectively."
   ]
  },
  {
   "cell_type": "code",
   "execution_count": 87,
   "metadata": {
    "scrolled": false
   },
   "outputs": [
    {
     "name": "stdout",
     "output_type": "stream",
     "text": [
      "Fitting model...\n",
      "Fitting done!\n",
      "[0]\tval-mlogloss:2.02634\tval-merror:0.39200\ttrain-mlogloss:2.01941\ttrain-merror:0.36078\n",
      "[100]\tval-mlogloss:0.42041\tval-merror:0.06987\ttrain-mlogloss:0.27151\ttrain-merror:0.01272\n",
      "[200]\tval-mlogloss:0.22706\tval-merror:0.02987\ttrain-mlogloss:0.09315\ttrain-merror:0.00044\n",
      "[299]\tval-mlogloss:0.16545\tval-merror:0.02507\ttrain-mlogloss:0.04507\ttrain-merror:0.00000\n",
      "-- Model Report --\n",
      "XGBoost Accuracy: 0.9684323167469235\n",
      "XGBoost F1-Score (Micro): 0.9684323167469235\n"
     ]
    },
    {
     "data": {
      "image/png": "[encoded data removed]",
      "text/plain": [
       "<Figure size 504x504 with 1 Axes>"
      ]
     },
     "metadata": {},
     "output_type": "display_data"
    },
    {
     "data": {
      "image/png": "[encoded data removed]",
      "text/plain": [
       "<Figure size 504x504 with 1 Axes>"
      ]
     },
     "metadata": {},
     "output_type": "display_data"
    },
    {
     "data": {
      "image/png": "[encoded data removed]",
      "text/plain": [
       "<Figure size 720x360 with 1 Axes>"
      ]
     },
     "metadata": {},
     "output_type": "display_data"
    }
   ],
   "source": [
    "xgb2 = XGBClassifier(learning_rate=0.1,\n",
    "                    n_estimators=1000,\n",
    "                    max_depth=9,\n",
    "                    min_child_weight=1,\n",
    "                    gamma=0,\n",
    "                    subsample=0.8,\n",
    "                    colsample_bytree=0.8,\n",
    "                    objective='multi:softmax',\n",
    "                    nthread=4,\n",
    "                    num_class=9,\n",
    "                    seed=27)\n",
    "\n",
    "fitXgb(xgb2, training_data)"
   ]
  },
  {
   "cell_type": "code",
   "execution_count": 92,
   "metadata": {
    "scrolled": false
   },
   "outputs": [
    {
     "name": "stdout",
     "output_type": "stream",
     "text": [
      "Fitting 3 folds for each of 5 candidates, totalling 15 fits\n"
     ]
    },
    {
     "name": "stderr",
     "output_type": "stream",
     "text": [
      "[Parallel(n_jobs=-1)]: Using backend LokyBackend with 8 concurrent workers.\n",
      "[Parallel(n_jobs=-1)]: Done   2 out of  15 | elapsed:  6.4min remaining: 41.8min\n",
      "[Parallel(n_jobs=-1)]: Done   4 out of  15 | elapsed:  6.4min remaining: 17.7min\n",
      "[Parallel(n_jobs=-1)]: Done   6 out of  15 | elapsed:  6.5min remaining:  9.8min\n",
      "[Parallel(n_jobs=-1)]: Done   8 out of  15 | elapsed:  6.7min remaining:  5.8min\n",
      "[Parallel(n_jobs=-1)]: Done  10 out of  15 | elapsed:  7.9min remaining:  4.0min\n",
      "[Parallel(n_jobs=-1)]: Done  12 out of  15 | elapsed: 10.9min remaining:  2.7min\n",
      "[Parallel(n_jobs=-1)]: Done  15 out of  15 | elapsed: 11.0min finished\n",
      "/usr/local/lib/python3.7/site-packages/sklearn/preprocessing/_label.py:235: DataConversionWarning: A column-vector y was passed when a 1d array was expected. Please change the shape of y to (n_samples, ), for example using ravel().\n",
      "  y = column_or_1d(y, warn=True)\n",
      "/usr/local/lib/python3.7/site-packages/sklearn/preprocessing/_label.py:268: DataConversionWarning: A column-vector y was passed when a 1d array was expected. Please change the shape of y to (n_samples, ), for example using ravel().\n",
      "  y = column_or_1d(y, warn=True)\n"
     ]
    },
    {
     "data": {
      "text/plain": [
       "GridSearchCV(cv=3, error_score=nan,\n",
       "             estimator=XGBClassifier(base_score=0.5, booster='gbtree',\n",
       "                                     colsample_bylevel=1, colsample_bynode=1,\n",
       "                                     colsample_bytree=0.8, gamma=0, gpu_id=-1,\n",
       "                                     importance_type='gain',\n",
       "                                     interaction_constraints='',\n",
       "                                     learning_rate=0.1, max_delta_step=0,\n",
       "                                     max_depth=9, min_child_weight=1,\n",
       "                                     missing=nan, monotone_constraints='()',\n",
       "                                     n_estimators=1000, n_jobs=4, n...\n",
       "                                     num_class=9, num_parallel_tree=1,\n",
       "                                     objective='multi:softprob',\n",
       "                                     random_state=27, reg_alpha=0, reg_lambda=1,\n",
       "                                     scale_pos_weight=None, seed=27,\n",
       "                                     subsample=0.8, tree_method='exact',\n",
       "                                     validate_parameters=1, verbosity=None),\n",
       "             iid='deprecated', n_jobs=-1,\n",
       "             param_grid={'reg_alpha': [1e-05, 0.01, 0.1, 1, 100]},\n",
       "             pre_dispatch='2*n_jobs', refit=True, return_train_score=False,\n",
       "             scoring='f1_micro', verbose=10)"
      ]
     },
     "execution_count": 92,
     "metadata": {},
     "output_type": "execute_result"
    }
   ],
   "source": [
    "param_test2 = {\n",
    " 'reg_alpha':[1e-5, 1e-2, 0.1, 1, 100]\n",
    "}\n",
    "gsearch2 = GridSearchCV(estimator = xgb2, param_grid = param_test2, scoring='f1_micro',n_jobs=-1,verbose = 10, cv=3)\n",
    "gsearch2.fit(X_train, Y_train)"
   ]
  },
  {
   "cell_type": "markdown",
   "metadata": {},
   "source": [
    "I will tune gamma, subsample and colsample_bytree and learning rate if I had enough computational power. Due to the limited time I have, I only focus on max_depth and reg_alpha (applying regularization to reduce overfitting)."
   ]
  },
  {
   "cell_type": "code",
   "execution_count": 93,
   "metadata": {},
   "outputs": [
    {
     "data": {
      "text/plain": [
       "({0: \"mean:0.9100938241422663params{'reg_alpha': 1e-05}\",\n",
       "  1: \"mean:0.9120502334359006params{'reg_alpha': 0.01}\",\n",
       "  2: \"mean:0.9102716018947398params{'reg_alpha': 0.1}\",\n",
       "  3: \"mean:0.8956869228924701params{'reg_alpha': 1}\",\n",
       "  4: \"mean:0.450422638495132params{'reg_alpha': 100}\"},\n",
       " {'best_mean': 0.9120502334359006, 'best_param': {'reg_alpha': 0.01}})"
      ]
     },
     "execution_count": 93,
     "metadata": {},
     "output_type": "execute_result"
    }
   ],
   "source": [
    "getTrainScores(gsearch2)"
   ]
  },
  {
   "cell_type": "markdown",
   "metadata": {},
   "source": [
    "We have found that max_depth of 9, min_child_weight of 1 and reg_alpha of 0.01 are optimum hyperparameters for the xgb model"
   ]
  },
  {
   "cell_type": "code",
   "execution_count": 94,
   "metadata": {},
   "outputs": [
    {
     "name": "stdout",
     "output_type": "stream",
     "text": [
      "Fitting model...\n",
      "Fitting done!\n",
      "[0]\tval-mlogloss:2.02665\tval-merror:0.39307\ttrain-mlogloss:2.01937\ttrain-merror:0.35963\n",
      "[100]\tval-mlogloss:0.41486\tval-merror:0.06507\ttrain-mlogloss:0.26570\ttrain-merror:0.01201\n",
      "[200]\tval-mlogloss:0.22389\tval-merror:0.03307\ttrain-mlogloss:0.09071\ttrain-merror:0.00027\n",
      "[299]\tval-mlogloss:0.16446\tval-merror:0.02453\ttrain-mlogloss:0.04494\ttrain-merror:0.00000\n",
      "-- Model Report --\n",
      "XGBoost Accuracy: 0.9678972712680578\n",
      "XGBoost F1-Score (Micro): 0.9678972712680578\n"
     ]
    },
    {
     "data": {
      "image/png": "[encoded data removed]",
      "text/plain": [
       "<Figure size 504x504 with 1 Axes>"
      ]
     },
     "metadata": {},
     "output_type": "display_data"
    },
    {
     "data": {
      "image/png": "[encoded data removed]",
      "text/plain": [
       "<Figure size 504x504 with 1 Axes>"
      ]
     },
     "metadata": {},
     "output_type": "display_data"
    },
    {
     "data": {
      "image/png": "[encoded data removed]",
      "text/plain": [
       "<Figure size 720x360 with 1 Axes>"
      ]
     },
     "metadata": {},
     "output_type": "display_data"
    }
   ],
   "source": [
    "xgb3 = XGBClassifier(learning_rate=0.1,\n",
    "                    n_estimators=1000,\n",
    "                    max_depth=9,\n",
    "                    min_child_weight=1,\n",
    "                    reg_alpha=0.01,\n",
    "                    gamma=0,\n",
    "                    subsample=0.8,\n",
    "                    colsample_bytree=0.8,\n",
    "                    objective='multi:softmax',\n",
    "                    nthread=4,\n",
    "                    num_class=9,\n",
    "                    seed=27)\n",
    "\n",
    "fitXgb(xgb3, training_data)"
   ]
  },
  {
   "cell_type": "markdown",
   "metadata": {},
   "source": [
    "We see that a high feature importance score is assigned to 'unknown' marital status. This could be due to the fact that there are only 44 customers with 'unknown' marital status, hence to reduce bias, our xgb model assigns more weight to 'unknown' feature"
   ]
  },
  {
   "cell_type": "code",
   "execution_count": null,
   "metadata": {},
   "outputs": [],
   "source": []
  },
  {
   "cell_type": "code",
   "execution_count": null,
   "metadata": {},
   "outputs": [],
   "source": []
  },
  {
   "cell_type": "code",
   "execution_count": null,
   "metadata": {},
   "outputs": [],
   "source": []
  }
 ],
 "metadata": {
  "kernelspec": {
   "display_name": "Python 3",
   "language": "python",
   "name": "python3"
  },
  "language_info": {
   "codemirror_mode": {
    "name": "ipython",
    "version": 3
   },
   "file_extension": ".py",
   "mimetype": "text/x-python",
   "name": "python",
   "nbconvert_exporter": "python",
   "pygments_lexer": "ipython3",
   "version": "3.7.6"
  }
 },
 "nbformat": 4,
 "nbformat_minor": 4
}
