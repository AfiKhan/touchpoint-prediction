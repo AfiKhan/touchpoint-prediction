{
 "cells": [
  {
   "cell_type": "code",
   "execution_count": 1,
   "metadata": {},
   "outputs": [],
   "source": [
    "import pandas as pd\n",
    "import numpy as np"
   ]
  },
  {
   "cell_type": "code",
   "execution_count": 2,
   "metadata": {},
   "outputs": [],
   "source": [
    "df = pd.read_csv('./marketdata2.csv').drop(['Unnamed: 0'], axis=1)\n"
   ]
  },
  {
   "cell_type": "code",
   "execution_count": 3,
   "metadata": {},
   "outputs": [
    {
     "data": {
      "text/html": [
       "<div>\n",
       "<style scoped>\n",
       "    .dataframe tbody tr th:only-of-type {\n",
       "        vertical-align: middle;\n",
       "    }\n",
       "\n",
       "    .dataframe tbody tr th {\n",
       "        vertical-align: top;\n",
       "    }\n",
       "\n",
       "    .dataframe thead th {\n",
       "        text-align: right;\n",
       "    }\n",
       "</style>\n",
       "<table border=\"1\" class=\"dataframe\">\n",
       "  <thead>\n",
       "    <tr style=\"text-align: right;\">\n",
       "      <th></th>\n",
       "      <th>age</th>\n",
       "      <th>marital</th>\n",
       "      <th>segment</th>\n",
       "      <th>SocialMedia</th>\n",
       "      <th>income</th>\n",
       "      <th>creditRating</th>\n",
       "      <th>aveSpend</th>\n",
       "      <th>touchpoints</th>\n",
       "      <th>nTouchpoints</th>\n",
       "      <th>recent_touchpoint</th>\n",
       "      <th>...</th>\n",
       "      <th>N</th>\n",
       "      <th>Y</th>\n",
       "      <th>C</th>\n",
       "      <th>B</th>\n",
       "      <th>D</th>\n",
       "      <th>A</th>\n",
       "      <th>F</th>\n",
       "      <th>E</th>\n",
       "      <th>New</th>\n",
       "      <th>G</th>\n",
       "    </tr>\n",
       "  </thead>\n",
       "  <tbody>\n",
       "    <tr>\n",
       "      <th>0</th>\n",
       "      <td>38</td>\n",
       "      <td>single</td>\n",
       "      <td>P4</td>\n",
       "      <td>U</td>\n",
       "      <td>51000.0</td>\n",
       "      <td>C</td>\n",
       "      <td>5007.50</td>\n",
       "      <td>emailDestination mailDiscount</td>\n",
       "      <td>2</td>\n",
       "      <td>mailDiscount</td>\n",
       "      <td>...</td>\n",
       "      <td>0</td>\n",
       "      <td>0</td>\n",
       "      <td>1</td>\n",
       "      <td>0</td>\n",
       "      <td>0</td>\n",
       "      <td>0</td>\n",
       "      <td>0</td>\n",
       "      <td>0</td>\n",
       "      <td>0</td>\n",
       "      <td>0</td>\n",
       "    </tr>\n",
       "    <tr>\n",
       "      <th>1</th>\n",
       "      <td>39</td>\n",
       "      <td>divorced</td>\n",
       "      <td>P3</td>\n",
       "      <td>U</td>\n",
       "      <td>100000.0</td>\n",
       "      <td>B</td>\n",
       "      <td>19.74</td>\n",
       "      <td>emailDestination mailGift</td>\n",
       "      <td>2</td>\n",
       "      <td>mailGift</td>\n",
       "      <td>...</td>\n",
       "      <td>0</td>\n",
       "      <td>0</td>\n",
       "      <td>0</td>\n",
       "      <td>1</td>\n",
       "      <td>0</td>\n",
       "      <td>0</td>\n",
       "      <td>0</td>\n",
       "      <td>0</td>\n",
       "      <td>0</td>\n",
       "      <td>0</td>\n",
       "    </tr>\n",
       "    <tr>\n",
       "      <th>2</th>\n",
       "      <td>41</td>\n",
       "      <td>married</td>\n",
       "      <td>P4</td>\n",
       "      <td>N</td>\n",
       "      <td>51000.0</td>\n",
       "      <td>D</td>\n",
       "      <td>320.10</td>\n",
       "      <td>emailDiscount mailGift emailDiscount</td>\n",
       "      <td>3</td>\n",
       "      <td>emailDiscount</td>\n",
       "      <td>...</td>\n",
       "      <td>1</td>\n",
       "      <td>0</td>\n",
       "      <td>0</td>\n",
       "      <td>0</td>\n",
       "      <td>1</td>\n",
       "      <td>0</td>\n",
       "      <td>0</td>\n",
       "      <td>0</td>\n",
       "      <td>0</td>\n",
       "      <td>0</td>\n",
       "    </tr>\n",
       "    <tr>\n",
       "      <th>3</th>\n",
       "      <td>60</td>\n",
       "      <td>married</td>\n",
       "      <td>P4</td>\n",
       "      <td>U</td>\n",
       "      <td>152000.0</td>\n",
       "      <td>C</td>\n",
       "      <td>39.47</td>\n",
       "      <td>mailDiscount</td>\n",
       "      <td>1</td>\n",
       "      <td>mailDiscount</td>\n",
       "      <td>...</td>\n",
       "      <td>0</td>\n",
       "      <td>0</td>\n",
       "      <td>1</td>\n",
       "      <td>0</td>\n",
       "      <td>0</td>\n",
       "      <td>0</td>\n",
       "      <td>0</td>\n",
       "      <td>0</td>\n",
       "      <td>0</td>\n",
       "      <td>0</td>\n",
       "    </tr>\n",
       "    <tr>\n",
       "      <th>4</th>\n",
       "      <td>47</td>\n",
       "      <td>married</td>\n",
       "      <td>P2</td>\n",
       "      <td>Y</td>\n",
       "      <td>60000.0</td>\n",
       "      <td>A</td>\n",
       "      <td>19.89</td>\n",
       "      <td>mailDestination emailDestination emailDestination</td>\n",
       "      <td>3</td>\n",
       "      <td>emailDestination</td>\n",
       "      <td>...</td>\n",
       "      <td>0</td>\n",
       "      <td>1</td>\n",
       "      <td>0</td>\n",
       "      <td>0</td>\n",
       "      <td>0</td>\n",
       "      <td>1</td>\n",
       "      <td>0</td>\n",
       "      <td>0</td>\n",
       "      <td>0</td>\n",
       "      <td>0</td>\n",
       "    </tr>\n",
       "    <tr>\n",
       "      <th>...</th>\n",
       "      <td>...</td>\n",
       "      <td>...</td>\n",
       "      <td>...</td>\n",
       "      <td>...</td>\n",
       "      <td>...</td>\n",
       "      <td>...</td>\n",
       "      <td>...</td>\n",
       "      <td>...</td>\n",
       "      <td>...</td>\n",
       "      <td>...</td>\n",
       "      <td>...</td>\n",
       "      <td>...</td>\n",
       "      <td>...</td>\n",
       "      <td>...</td>\n",
       "      <td>...</td>\n",
       "      <td>...</td>\n",
       "      <td>...</td>\n",
       "      <td>...</td>\n",
       "      <td>...</td>\n",
       "      <td>...</td>\n",
       "      <td>...</td>\n",
       "    </tr>\n",
       "    <tr>\n",
       "      <th>14984</th>\n",
       "      <td>32</td>\n",
       "      <td>married</td>\n",
       "      <td>P1</td>\n",
       "      <td>U</td>\n",
       "      <td>33000.0</td>\n",
       "      <td>E</td>\n",
       "      <td>4280.63</td>\n",
       "      <td>emailDestination emailDestination emailDestina...</td>\n",
       "      <td>7</td>\n",
       "      <td>mailDiscount</td>\n",
       "      <td>...</td>\n",
       "      <td>0</td>\n",
       "      <td>0</td>\n",
       "      <td>0</td>\n",
       "      <td>0</td>\n",
       "      <td>0</td>\n",
       "      <td>0</td>\n",
       "      <td>0</td>\n",
       "      <td>1</td>\n",
       "      <td>0</td>\n",
       "      <td>0</td>\n",
       "    </tr>\n",
       "    <tr>\n",
       "      <th>14985</th>\n",
       "      <td>53</td>\n",
       "      <td>divorced</td>\n",
       "      <td>P3</td>\n",
       "      <td>N</td>\n",
       "      <td>61000.0</td>\n",
       "      <td>F</td>\n",
       "      <td>1332.29</td>\n",
       "      <td>smsDestination mailDiscount emailDestination e...</td>\n",
       "      <td>6</td>\n",
       "      <td>mailDiscount</td>\n",
       "      <td>...</td>\n",
       "      <td>1</td>\n",
       "      <td>0</td>\n",
       "      <td>0</td>\n",
       "      <td>0</td>\n",
       "      <td>0</td>\n",
       "      <td>0</td>\n",
       "      <td>1</td>\n",
       "      <td>0</td>\n",
       "      <td>0</td>\n",
       "      <td>0</td>\n",
       "    </tr>\n",
       "    <tr>\n",
       "      <th>14986</th>\n",
       "      <td>30</td>\n",
       "      <td>single</td>\n",
       "      <td>P4</td>\n",
       "      <td>N</td>\n",
       "      <td>44000.0</td>\n",
       "      <td>C</td>\n",
       "      <td>4010.00</td>\n",
       "      <td>emailDestination emailDestination mailDiscount...</td>\n",
       "      <td>4</td>\n",
       "      <td>mailDiscount</td>\n",
       "      <td>...</td>\n",
       "      <td>1</td>\n",
       "      <td>0</td>\n",
       "      <td>1</td>\n",
       "      <td>0</td>\n",
       "      <td>0</td>\n",
       "      <td>0</td>\n",
       "      <td>0</td>\n",
       "      <td>0</td>\n",
       "      <td>0</td>\n",
       "      <td>0</td>\n",
       "    </tr>\n",
       "    <tr>\n",
       "      <th>14987</th>\n",
       "      <td>52</td>\n",
       "      <td>married</td>\n",
       "      <td>P4</td>\n",
       "      <td>N</td>\n",
       "      <td>71000.0</td>\n",
       "      <td>C</td>\n",
       "      <td>507.46</td>\n",
       "      <td>emailDestination mailGift emailDiscount smsDes...</td>\n",
       "      <td>8</td>\n",
       "      <td>emailDestination</td>\n",
       "      <td>...</td>\n",
       "      <td>1</td>\n",
       "      <td>0</td>\n",
       "      <td>1</td>\n",
       "      <td>0</td>\n",
       "      <td>0</td>\n",
       "      <td>0</td>\n",
       "      <td>0</td>\n",
       "      <td>0</td>\n",
       "      <td>0</td>\n",
       "      <td>0</td>\n",
       "    </tr>\n",
       "    <tr>\n",
       "      <th>14988</th>\n",
       "      <td>38</td>\n",
       "      <td>single</td>\n",
       "      <td>P4</td>\n",
       "      <td>U</td>\n",
       "      <td>65000.0</td>\n",
       "      <td>C</td>\n",
       "      <td>512.67</td>\n",
       "      <td>emailDestination mailDiscount</td>\n",
       "      <td>2</td>\n",
       "      <td>mailDiscount</td>\n",
       "      <td>...</td>\n",
       "      <td>0</td>\n",
       "      <td>0</td>\n",
       "      <td>1</td>\n",
       "      <td>0</td>\n",
       "      <td>0</td>\n",
       "      <td>0</td>\n",
       "      <td>0</td>\n",
       "      <td>0</td>\n",
       "      <td>0</td>\n",
       "      <td>0</td>\n",
       "    </tr>\n",
       "  </tbody>\n",
       "</table>\n",
       "<p>14989 rows × 30 columns</p>\n",
       "</div>"
      ],
      "text/plain": [
       "       age   marital segment SocialMedia    income creditRating  aveSpend  \\\n",
       "0       38    single      P4           U   51000.0            C   5007.50   \n",
       "1       39  divorced      P3           U  100000.0            B     19.74   \n",
       "2       41   married      P4           N   51000.0            D    320.10   \n",
       "3       60   married      P4           U  152000.0            C     39.47   \n",
       "4       47   married      P2           Y   60000.0            A     19.89   \n",
       "...    ...       ...     ...         ...       ...          ...       ...   \n",
       "14984   32   married      P1           U   33000.0            E   4280.63   \n",
       "14985   53  divorced      P3           N   61000.0            F   1332.29   \n",
       "14986   30    single      P4           N   44000.0            C   4010.00   \n",
       "14987   52   married      P4           N   71000.0            C    507.46   \n",
       "14988   38    single      P4           U   65000.0            C    512.67   \n",
       "\n",
       "                                             touchpoints  nTouchpoints  \\\n",
       "0                          emailDestination mailDiscount             2   \n",
       "1                              emailDestination mailGift             2   \n",
       "2                   emailDiscount mailGift emailDiscount             3   \n",
       "3                                           mailDiscount             1   \n",
       "4      mailDestination emailDestination emailDestination             3   \n",
       "...                                                  ...           ...   \n",
       "14984  emailDestination emailDestination emailDestina...             7   \n",
       "14985  smsDestination mailDiscount emailDestination e...             6   \n",
       "14986  emailDestination emailDestination mailDiscount...             4   \n",
       "14987  emailDestination mailGift emailDiscount smsDes...             8   \n",
       "14988                      emailDestination mailDiscount             2   \n",
       "\n",
       "      recent_touchpoint  ...  N  Y  C  B  D  A  F  E  New  G  \n",
       "0          mailDiscount  ...  0  0  1  0  0  0  0  0    0  0  \n",
       "1              mailGift  ...  0  0  0  1  0  0  0  0    0  0  \n",
       "2         emailDiscount  ...  1  0  0  0  1  0  0  0    0  0  \n",
       "3          mailDiscount  ...  0  0  1  0  0  0  0  0    0  0  \n",
       "4      emailDestination  ...  0  1  0  0  0  1  0  0    0  0  \n",
       "...                 ...  ... .. .. .. .. .. .. .. ..  ... ..  \n",
       "14984      mailDiscount  ...  0  0  0  0  0  0  0  1    0  0  \n",
       "14985      mailDiscount  ...  1  0  0  0  0  0  1  0    0  0  \n",
       "14986      mailDiscount  ...  1  0  1  0  0  0  0  0    0  0  \n",
       "14987  emailDestination  ...  1  0  1  0  0  0  0  0    0  0  \n",
       "14988      mailDiscount  ...  0  0  1  0  0  0  0  0    0  0  \n",
       "\n",
       "[14989 rows x 30 columns]"
      ]
     },
     "execution_count": 3,
     "metadata": {},
     "output_type": "execute_result"
    }
   ],
   "source": [
    "df"
   ]
  },
  {
   "cell_type": "markdown",
   "metadata": {},
   "source": [
    "Check distribution of all numerical variables excluding one-hot encoded variables"
   ]
  },
  {
   "cell_type": "code",
   "execution_count": 4,
   "metadata": {},
   "outputs": [
    {
     "name": "stdout",
     "output_type": "stream",
     "text": [
      "AGE Distribution\n",
      "count    14989.000000\n",
      "mean        39.223964\n",
      "std          9.276033\n",
      "min         20.000000\n",
      "25%         32.000000\n",
      "50%         37.000000\n",
      "75%         46.000000\n",
      "max         60.000000\n",
      "Name: age, dtype: float64\n",
      "-----\n",
      "INCOME Distribution\n",
      "count     14989.000000\n",
      "mean      71590.041216\n",
      "std       36821.917752\n",
      "min       10000.000000\n",
      "25%       45000.000000\n",
      "50%       64000.000000\n",
      "75%       90000.000000\n",
      "max      249000.000000\n",
      "Name: income, dtype: float64\n",
      "-----\n",
      "AVESPEND Distribution\n",
      "count    14989.000000\n",
      "mean       714.399585\n",
      "std       2164.764542\n",
      "min          0.000000\n",
      "25%         20.420000\n",
      "50%         91.470000\n",
      "75%        426.230000\n",
      "max      17889.740000\n",
      "Name: aveSpend, dtype: float64\n",
      "-----\n"
     ]
    }
   ],
   "source": [
    "vars_list = ['age','income','aveSpend']\n",
    "\n",
    "for var in vars_list:\n",
    "    print(var.upper() + ' Distribution')\n",
    "    print(df[var].describe())\n",
    "    print('-----')"
   ]
  },
  {
   "cell_type": "markdown",
   "metadata": {},
   "source": [
    "Note that the max-min range of all 3 variables are very different from one another. When we do further analysis, like multivariate linear regression, for example, the attributed income will intrinsically influence the result more due to its larger value. Hence, it is important to standardize and normalize the data to bring all variables to the same range.\n",
    "\n",
    "I use a Robust Scaler (QuantileTransformer): similar to normalization but it instead uses the interquartile range, so that it is robust to outliers."
   ]
  },
  {
   "cell_type": "code",
   "execution_count": 5,
   "metadata": {},
   "outputs": [],
   "source": [
    "from sklearn.preprocessing import QuantileTransformer\n",
    "\n",
    "qt = QuantileTransformer(output_distribution='normal')"
   ]
  },
  {
   "cell_type": "code",
   "execution_count": 6,
   "metadata": {},
   "outputs": [],
   "source": [
    "df['nAveSpend'] = qt.fit_transform(df[['aveSpend']].values.reshape(-1,1))\n",
    "df['nIncome'] = qt.fit_transform(df[['income']].values.reshape(-1,1))\n",
    "df['nAge'] = qt.fit_transform(df[['age']].values.reshape(-1,1))"
   ]
  },
  {
   "cell_type": "code",
   "execution_count": 7,
   "metadata": {},
   "outputs": [
    {
     "data": {
      "text/html": [
       "<div>\n",
       "<style scoped>\n",
       "    .dataframe tbody tr th:only-of-type {\n",
       "        vertical-align: middle;\n",
       "    }\n",
       "\n",
       "    .dataframe tbody tr th {\n",
       "        vertical-align: top;\n",
       "    }\n",
       "\n",
       "    .dataframe thead th {\n",
       "        text-align: right;\n",
       "    }\n",
       "</style>\n",
       "<table border=\"1\" class=\"dataframe\">\n",
       "  <thead>\n",
       "    <tr style=\"text-align: right;\">\n",
       "      <th></th>\n",
       "      <th>age</th>\n",
       "      <th>marital</th>\n",
       "      <th>segment</th>\n",
       "      <th>SocialMedia</th>\n",
       "      <th>income</th>\n",
       "      <th>creditRating</th>\n",
       "      <th>aveSpend</th>\n",
       "      <th>touchpoints</th>\n",
       "      <th>nTouchpoints</th>\n",
       "      <th>recent_touchpoint</th>\n",
       "      <th>...</th>\n",
       "      <th>B</th>\n",
       "      <th>D</th>\n",
       "      <th>A</th>\n",
       "      <th>F</th>\n",
       "      <th>E</th>\n",
       "      <th>New</th>\n",
       "      <th>G</th>\n",
       "      <th>nAveSpend</th>\n",
       "      <th>nIncome</th>\n",
       "      <th>nAge</th>\n",
       "    </tr>\n",
       "  </thead>\n",
       "  <tbody>\n",
       "    <tr>\n",
       "      <th>0</th>\n",
       "      <td>38</td>\n",
       "      <td>single</td>\n",
       "      <td>P4</td>\n",
       "      <td>U</td>\n",
       "      <td>51000.0</td>\n",
       "      <td>C</td>\n",
       "      <td>5007.50</td>\n",
       "      <td>emailDestination mailDiscount</td>\n",
       "      <td>2</td>\n",
       "      <td>mailDiscount</td>\n",
       "      <td>...</td>\n",
       "      <td>0</td>\n",
       "      <td>0</td>\n",
       "      <td>0</td>\n",
       "      <td>0</td>\n",
       "      <td>0</td>\n",
       "      <td>0</td>\n",
       "      <td>0</td>\n",
       "      <td>1.798751</td>\n",
       "      <td>-0.406079</td>\n",
       "      <td>0.037646</td>\n",
       "    </tr>\n",
       "    <tr>\n",
       "      <th>1</th>\n",
       "      <td>39</td>\n",
       "      <td>divorced</td>\n",
       "      <td>P3</td>\n",
       "      <td>U</td>\n",
       "      <td>100000.0</td>\n",
       "      <td>B</td>\n",
       "      <td>19.74</td>\n",
       "      <td>emailDestination mailGift</td>\n",
       "      <td>2</td>\n",
       "      <td>mailGift</td>\n",
       "      <td>...</td>\n",
       "      <td>1</td>\n",
       "      <td>0</td>\n",
       "      <td>0</td>\n",
       "      <td>0</td>\n",
       "      <td>0</td>\n",
       "      <td>0</td>\n",
       "      <td>0</td>\n",
       "      <td>-0.694311</td>\n",
       "      <td>0.912774</td>\n",
       "      <td>0.123259</td>\n",
       "    </tr>\n",
       "    <tr>\n",
       "      <th>2</th>\n",
       "      <td>41</td>\n",
       "      <td>married</td>\n",
       "      <td>P4</td>\n",
       "      <td>N</td>\n",
       "      <td>51000.0</td>\n",
       "      <td>D</td>\n",
       "      <td>320.10</td>\n",
       "      <td>emailDiscount mailGift emailDiscount</td>\n",
       "      <td>3</td>\n",
       "      <td>emailDiscount</td>\n",
       "      <td>...</td>\n",
       "      <td>0</td>\n",
       "      <td>1</td>\n",
       "      <td>0</td>\n",
       "      <td>0</td>\n",
       "      <td>0</td>\n",
       "      <td>0</td>\n",
       "      <td>0</td>\n",
       "      <td>0.559895</td>\n",
       "      <td>-0.406079</td>\n",
       "      <td>0.283522</td>\n",
       "    </tr>\n",
       "    <tr>\n",
       "      <th>3</th>\n",
       "      <td>60</td>\n",
       "      <td>married</td>\n",
       "      <td>P4</td>\n",
       "      <td>U</td>\n",
       "      <td>152000.0</td>\n",
       "      <td>C</td>\n",
       "      <td>39.47</td>\n",
       "      <td>mailDiscount</td>\n",
       "      <td>1</td>\n",
       "      <td>mailDiscount</td>\n",
       "      <td>...</td>\n",
       "      <td>0</td>\n",
       "      <td>0</td>\n",
       "      <td>0</td>\n",
       "      <td>0</td>\n",
       "      <td>0</td>\n",
       "      <td>0</td>\n",
       "      <td>0</td>\n",
       "      <td>-0.362850</td>\n",
       "      <td>1.831224</td>\n",
       "      <td>5.199338</td>\n",
       "    </tr>\n",
       "    <tr>\n",
       "      <th>4</th>\n",
       "      <td>47</td>\n",
       "      <td>married</td>\n",
       "      <td>P2</td>\n",
       "      <td>Y</td>\n",
       "      <td>60000.0</td>\n",
       "      <td>A</td>\n",
       "      <td>19.89</td>\n",
       "      <td>mailDestination emailDestination emailDestination</td>\n",
       "      <td>3</td>\n",
       "      <td>emailDestination</td>\n",
       "      <td>...</td>\n",
       "      <td>0</td>\n",
       "      <td>0</td>\n",
       "      <td>1</td>\n",
       "      <td>0</td>\n",
       "      <td>0</td>\n",
       "      <td>0</td>\n",
       "      <td>0</td>\n",
       "      <td>-0.687284</td>\n",
       "      <td>-0.106841</td>\n",
       "      <td>0.744694</td>\n",
       "    </tr>\n",
       "    <tr>\n",
       "      <th>...</th>\n",
       "      <td>...</td>\n",
       "      <td>...</td>\n",
       "      <td>...</td>\n",
       "      <td>...</td>\n",
       "      <td>...</td>\n",
       "      <td>...</td>\n",
       "      <td>...</td>\n",
       "      <td>...</td>\n",
       "      <td>...</td>\n",
       "      <td>...</td>\n",
       "      <td>...</td>\n",
       "      <td>...</td>\n",
       "      <td>...</td>\n",
       "      <td>...</td>\n",
       "      <td>...</td>\n",
       "      <td>...</td>\n",
       "      <td>...</td>\n",
       "      <td>...</td>\n",
       "      <td>...</td>\n",
       "      <td>...</td>\n",
       "      <td>...</td>\n",
       "    </tr>\n",
       "    <tr>\n",
       "      <th>14984</th>\n",
       "      <td>32</td>\n",
       "      <td>married</td>\n",
       "      <td>P1</td>\n",
       "      <td>U</td>\n",
       "      <td>33000.0</td>\n",
       "      <td>E</td>\n",
       "      <td>4280.63</td>\n",
       "      <td>emailDestination emailDestination emailDestina...</td>\n",
       "      <td>7</td>\n",
       "      <td>mailDiscount</td>\n",
       "      <td>...</td>\n",
       "      <td>0</td>\n",
       "      <td>0</td>\n",
       "      <td>0</td>\n",
       "      <td>0</td>\n",
       "      <td>1</td>\n",
       "      <td>0</td>\n",
       "      <td>0</td>\n",
       "      <td>1.748868</td>\n",
       "      <td>-1.340200</td>\n",
       "      <td>-0.659602</td>\n",
       "    </tr>\n",
       "    <tr>\n",
       "      <th>14985</th>\n",
       "      <td>53</td>\n",
       "      <td>divorced</td>\n",
       "      <td>P3</td>\n",
       "      <td>N</td>\n",
       "      <td>61000.0</td>\n",
       "      <td>F</td>\n",
       "      <td>1332.29</td>\n",
       "      <td>smsDestination mailDiscount emailDestination e...</td>\n",
       "      <td>6</td>\n",
       "      <td>mailDiscount</td>\n",
       "      <td>...</td>\n",
       "      <td>0</td>\n",
       "      <td>0</td>\n",
       "      <td>0</td>\n",
       "      <td>1</td>\n",
       "      <td>0</td>\n",
       "      <td>0</td>\n",
       "      <td>0</td>\n",
       "      <td>1.280981</td>\n",
       "      <td>-0.051460</td>\n",
       "      <td>1.269664</td>\n",
       "    </tr>\n",
       "    <tr>\n",
       "      <th>14986</th>\n",
       "      <td>30</td>\n",
       "      <td>single</td>\n",
       "      <td>P4</td>\n",
       "      <td>N</td>\n",
       "      <td>44000.0</td>\n",
       "      <td>C</td>\n",
       "      <td>4010.00</td>\n",
       "      <td>emailDestination emailDestination mailDiscount...</td>\n",
       "      <td>4</td>\n",
       "      <td>mailDiscount</td>\n",
       "      <td>...</td>\n",
       "      <td>0</td>\n",
       "      <td>0</td>\n",
       "      <td>0</td>\n",
       "      <td>0</td>\n",
       "      <td>0</td>\n",
       "      <td>0</td>\n",
       "      <td>0</td>\n",
       "      <td>1.694923</td>\n",
       "      <td>-0.758004</td>\n",
       "      <td>-0.985610</td>\n",
       "    </tr>\n",
       "    <tr>\n",
       "      <th>14987</th>\n",
       "      <td>52</td>\n",
       "      <td>married</td>\n",
       "      <td>P4</td>\n",
       "      <td>N</td>\n",
       "      <td>71000.0</td>\n",
       "      <td>C</td>\n",
       "      <td>507.46</td>\n",
       "      <td>emailDestination mailGift emailDiscount smsDes...</td>\n",
       "      <td>8</td>\n",
       "      <td>emailDestination</td>\n",
       "      <td>...</td>\n",
       "      <td>0</td>\n",
       "      <td>0</td>\n",
       "      <td>0</td>\n",
       "      <td>0</td>\n",
       "      <td>0</td>\n",
       "      <td>0</td>\n",
       "      <td>0</td>\n",
       "      <td>0.779682</td>\n",
       "      <td>0.240671</td>\n",
       "      <td>1.169401</td>\n",
       "    </tr>\n",
       "    <tr>\n",
       "      <th>14988</th>\n",
       "      <td>38</td>\n",
       "      <td>single</td>\n",
       "      <td>P4</td>\n",
       "      <td>U</td>\n",
       "      <td>65000.0</td>\n",
       "      <td>C</td>\n",
       "      <td>512.67</td>\n",
       "      <td>emailDestination mailDiscount</td>\n",
       "      <td>2</td>\n",
       "      <td>mailDiscount</td>\n",
       "      <td>...</td>\n",
       "      <td>0</td>\n",
       "      <td>0</td>\n",
       "      <td>0</td>\n",
       "      <td>0</td>\n",
       "      <td>0</td>\n",
       "      <td>0</td>\n",
       "      <td>0</td>\n",
       "      <td>0.788882</td>\n",
       "      <td>0.047692</td>\n",
       "      <td>0.037646</td>\n",
       "    </tr>\n",
       "  </tbody>\n",
       "</table>\n",
       "<p>14989 rows × 33 columns</p>\n",
       "</div>"
      ],
      "text/plain": [
       "       age   marital segment SocialMedia    income creditRating  aveSpend  \\\n",
       "0       38    single      P4           U   51000.0            C   5007.50   \n",
       "1       39  divorced      P3           U  100000.0            B     19.74   \n",
       "2       41   married      P4           N   51000.0            D    320.10   \n",
       "3       60   married      P4           U  152000.0            C     39.47   \n",
       "4       47   married      P2           Y   60000.0            A     19.89   \n",
       "...    ...       ...     ...         ...       ...          ...       ...   \n",
       "14984   32   married      P1           U   33000.0            E   4280.63   \n",
       "14985   53  divorced      P3           N   61000.0            F   1332.29   \n",
       "14986   30    single      P4           N   44000.0            C   4010.00   \n",
       "14987   52   married      P4           N   71000.0            C    507.46   \n",
       "14988   38    single      P4           U   65000.0            C    512.67   \n",
       "\n",
       "                                             touchpoints  nTouchpoints  \\\n",
       "0                          emailDestination mailDiscount             2   \n",
       "1                              emailDestination mailGift             2   \n",
       "2                   emailDiscount mailGift emailDiscount             3   \n",
       "3                                           mailDiscount             1   \n",
       "4      mailDestination emailDestination emailDestination             3   \n",
       "...                                                  ...           ...   \n",
       "14984  emailDestination emailDestination emailDestina...             7   \n",
       "14985  smsDestination mailDiscount emailDestination e...             6   \n",
       "14986  emailDestination emailDestination mailDiscount...             4   \n",
       "14987  emailDestination mailGift emailDiscount smsDes...             8   \n",
       "14988                      emailDestination mailDiscount             2   \n",
       "\n",
       "      recent_touchpoint  ...  B  D  A  F  E  New  G  nAveSpend   nIncome  \\\n",
       "0          mailDiscount  ...  0  0  0  0  0    0  0   1.798751 -0.406079   \n",
       "1              mailGift  ...  1  0  0  0  0    0  0  -0.694311  0.912774   \n",
       "2         emailDiscount  ...  0  1  0  0  0    0  0   0.559895 -0.406079   \n",
       "3          mailDiscount  ...  0  0  0  0  0    0  0  -0.362850  1.831224   \n",
       "4      emailDestination  ...  0  0  1  0  0    0  0  -0.687284 -0.106841   \n",
       "...                 ...  ... .. .. .. .. ..  ... ..        ...       ...   \n",
       "14984      mailDiscount  ...  0  0  0  0  1    0  0   1.748868 -1.340200   \n",
       "14985      mailDiscount  ...  0  0  0  1  0    0  0   1.280981 -0.051460   \n",
       "14986      mailDiscount  ...  0  0  0  0  0    0  0   1.694923 -0.758004   \n",
       "14987  emailDestination  ...  0  0  0  0  0    0  0   0.779682  0.240671   \n",
       "14988      mailDiscount  ...  0  0  0  0  0    0  0   0.788882  0.047692   \n",
       "\n",
       "           nAge  \n",
       "0      0.037646  \n",
       "1      0.123259  \n",
       "2      0.283522  \n",
       "3      5.199338  \n",
       "4      0.744694  \n",
       "...         ...  \n",
       "14984 -0.659602  \n",
       "14985  1.269664  \n",
       "14986 -0.985610  \n",
       "14987  1.169401  \n",
       "14988  0.037646  \n",
       "\n",
       "[14989 rows x 33 columns]"
      ]
     },
     "execution_count": 7,
     "metadata": {},
     "output_type": "execute_result"
    }
   ],
   "source": [
    "df"
   ]
  },
  {
   "cell_type": "code",
   "execution_count": 8,
   "metadata": {},
   "outputs": [
    {
     "data": {
      "text/plain": [
       "Index(['age', 'marital', 'segment', 'SocialMedia', 'income', 'creditRating',\n",
       "       'aveSpend', 'touchpoints', 'nTouchpoints', 'recent_touchpoint',\n",
       "       'num_creditRating', 'single', 'divorced', 'married', 'unknown', 'P4',\n",
       "       'P3', 'P2', 'P1', 'U', 'N', 'Y', 'C', 'B', 'D', 'A', 'F', 'E', 'New',\n",
       "       'G', 'nAveSpend', 'nIncome', 'nAge'],\n",
       "      dtype='object')"
      ]
     },
     "execution_count": 8,
     "metadata": {},
     "output_type": "execute_result"
    }
   ],
   "source": [
    "df.columns"
   ]
  },
  {
   "cell_type": "markdown",
   "metadata": {},
   "source": [
    "Check distribution of scaled variables"
   ]
  },
  {
   "cell_type": "code",
   "execution_count": 9,
   "metadata": {
    "scrolled": false
   },
   "outputs": [
    {
     "name": "stdout",
     "output_type": "stream",
     "text": [
      "Plot for NAGE: total counts = 14989\n"
     ]
    },
    {
     "data": {
      "image/png": "[encoded data removed]",
      "text/plain": [
       "<Figure size 720x360 with 1 Axes>"
      ]
     },
     "metadata": {},
     "output_type": "display_data"
    },
    {
     "name": "stdout",
     "output_type": "stream",
     "text": [
      "Plot for NINCOME: total counts = 14989\n"
     ]
    },
    {
     "data": {
      "image/png": "[encoded data removed]",
      "text/plain": [
       "<Figure size 720x360 with 1 Axes>"
      ]
     },
     "metadata": {},
     "output_type": "display_data"
    },
    {
     "name": "stdout",
     "output_type": "stream",
     "text": [
      "Plot for NAVESPEND: total counts = 14989\n"
     ]
    },
    {
     "data": {
      "image/png": "[encoded data removed]",
      "text/plain": [
       "<Figure size 720x360 with 1 Axes>"
      ]
     },
     "metadata": {},
     "output_type": "display_data"
    }
   ],
   "source": [
    "import seaborn as sns\n",
    "import matplotlib.pyplot as plt\n",
    "sns.set(style=\"whitegrid\")\n",
    "\n",
    "df_explore = df[['nAge', 'nIncome', 'nAveSpend']]\n",
    "for cat in df_explore:\n",
    "    cat_num = df_explore[cat]\n",
    "    print(\"Plot for %s: total counts = %d\" % (cat.upper(), len(cat_num)))\n",
    "    f, ax = plt.subplots(figsize=(10,5))\n",
    "    plot = sns.distplot(cat_num)\n",
    "    plot.set_xticklabels(plot.get_xticklabels(), rotation=45)\n",
    "    plt.show()"
   ]
  },
  {
   "cell_type": "markdown",
   "metadata": {},
   "source": [
    "Now our numerical variables follow a normal distribution. We will start labeling our data using the most recent touchpoint. Lets see how many possible labels are there in our data."
   ]
  },
  {
   "cell_type": "code",
   "execution_count": 10,
   "metadata": {},
   "outputs": [
    {
     "data": {
      "text/plain": [
       "array(['mailDiscount', 'mailGift', 'emailDiscount', 'emailDestination',\n",
       "       'smsDiscount', 'smsDestination', 'emailGift', 'smsGift',\n",
       "       'mailDestination'], dtype=object)"
      ]
     },
     "execution_count": 10,
     "metadata": {},
     "output_type": "execute_result"
    }
   ],
   "source": [
    "df['recent_touchpoint'].unique()"
   ]
  },
  {
   "cell_type": "markdown",
   "metadata": {},
   "source": [
    "I assume these are the latest touchpoint each customer went through before making a purchase."
   ]
  },
  {
   "cell_type": "code",
   "execution_count": 11,
   "metadata": {},
   "outputs": [
    {
     "data": {
      "text/plain": [
       "{0: 'mailDiscount',\n",
       " 1: 'mailGift',\n",
       " 2: 'emailDiscount',\n",
       " 3: 'emailDestination',\n",
       " 4: 'smsDiscount',\n",
       " 5: 'smsDestination',\n",
       " 6: 'emailGift',\n",
       " 7: 'smsGift',\n",
       " 8: 'mailDestination'}"
      ]
     },
     "execution_count": 11,
     "metadata": {},
     "output_type": "execute_result"
    }
   ],
   "source": [
    "#create a mapping from labels to a unique integer and vice versa for labelling and prediction later\n",
    "labels = df['recent_touchpoint'].unique()\n",
    "i = 0\n",
    "idx2class = {} \n",
    "class2idx = {}\n",
    "for tp in labels:\n",
    "    idx2class[i] = tp\n",
    "    class2idx[tp] = i\n",
    "    i += 1\n",
    "idx2class"
   ]
  },
  {
   "cell_type": "code",
   "execution_count": 12,
   "metadata": {},
   "outputs": [
    {
     "data": {
      "text/plain": [
       "{'mailDiscount': 0,\n",
       " 'mailGift': 1,\n",
       " 'emailDiscount': 2,\n",
       " 'emailDestination': 3,\n",
       " 'smsDiscount': 4,\n",
       " 'smsDestination': 5,\n",
       " 'emailGift': 6,\n",
       " 'smsGift': 7,\n",
       " 'mailDestination': 8}"
      ]
     },
     "execution_count": 12,
     "metadata": {},
     "output_type": "execute_result"
    }
   ],
   "source": [
    "class2idx"
   ]
  },
  {
   "cell_type": "code",
   "execution_count": 13,
   "metadata": {},
   "outputs": [],
   "source": [
    "df['label'] = df['recent_touchpoint'].replace(class2idx)"
   ]
  },
  {
   "cell_type": "code",
   "execution_count": 14,
   "metadata": {
    "scrolled": false
   },
   "outputs": [
    {
     "data": {
      "text/html": [
       "<div>\n",
       "<style scoped>\n",
       "    .dataframe tbody tr th:only-of-type {\n",
       "        vertical-align: middle;\n",
       "    }\n",
       "\n",
       "    .dataframe tbody tr th {\n",
       "        vertical-align: top;\n",
       "    }\n",
       "\n",
       "    .dataframe thead th {\n",
       "        text-align: right;\n",
       "    }\n",
       "</style>\n",
       "<table border=\"1\" class=\"dataframe\">\n",
       "  <thead>\n",
       "    <tr style=\"text-align: right;\">\n",
       "      <th></th>\n",
       "      <th>age</th>\n",
       "      <th>marital</th>\n",
       "      <th>segment</th>\n",
       "      <th>SocialMedia</th>\n",
       "      <th>income</th>\n",
       "      <th>creditRating</th>\n",
       "      <th>aveSpend</th>\n",
       "      <th>touchpoints</th>\n",
       "      <th>nTouchpoints</th>\n",
       "      <th>recent_touchpoint</th>\n",
       "      <th>...</th>\n",
       "      <th>D</th>\n",
       "      <th>A</th>\n",
       "      <th>F</th>\n",
       "      <th>E</th>\n",
       "      <th>New</th>\n",
       "      <th>G</th>\n",
       "      <th>nAveSpend</th>\n",
       "      <th>nIncome</th>\n",
       "      <th>nAge</th>\n",
       "      <th>label</th>\n",
       "    </tr>\n",
       "  </thead>\n",
       "  <tbody>\n",
       "    <tr>\n",
       "      <th>0</th>\n",
       "      <td>38</td>\n",
       "      <td>single</td>\n",
       "      <td>P4</td>\n",
       "      <td>U</td>\n",
       "      <td>51000.0</td>\n",
       "      <td>C</td>\n",
       "      <td>5007.50</td>\n",
       "      <td>emailDestination mailDiscount</td>\n",
       "      <td>2</td>\n",
       "      <td>mailDiscount</td>\n",
       "      <td>...</td>\n",
       "      <td>0</td>\n",
       "      <td>0</td>\n",
       "      <td>0</td>\n",
       "      <td>0</td>\n",
       "      <td>0</td>\n",
       "      <td>0</td>\n",
       "      <td>1.798751</td>\n",
       "      <td>-0.406079</td>\n",
       "      <td>0.037646</td>\n",
       "      <td>0</td>\n",
       "    </tr>\n",
       "    <tr>\n",
       "      <th>1</th>\n",
       "      <td>39</td>\n",
       "      <td>divorced</td>\n",
       "      <td>P3</td>\n",
       "      <td>U</td>\n",
       "      <td>100000.0</td>\n",
       "      <td>B</td>\n",
       "      <td>19.74</td>\n",
       "      <td>emailDestination mailGift</td>\n",
       "      <td>2</td>\n",
       "      <td>mailGift</td>\n",
       "      <td>...</td>\n",
       "      <td>0</td>\n",
       "      <td>0</td>\n",
       "      <td>0</td>\n",
       "      <td>0</td>\n",
       "      <td>0</td>\n",
       "      <td>0</td>\n",
       "      <td>-0.694311</td>\n",
       "      <td>0.912774</td>\n",
       "      <td>0.123259</td>\n",
       "      <td>1</td>\n",
       "    </tr>\n",
       "    <tr>\n",
       "      <th>2</th>\n",
       "      <td>41</td>\n",
       "      <td>married</td>\n",
       "      <td>P4</td>\n",
       "      <td>N</td>\n",
       "      <td>51000.0</td>\n",
       "      <td>D</td>\n",
       "      <td>320.10</td>\n",
       "      <td>emailDiscount mailGift emailDiscount</td>\n",
       "      <td>3</td>\n",
       "      <td>emailDiscount</td>\n",
       "      <td>...</td>\n",
       "      <td>1</td>\n",
       "      <td>0</td>\n",
       "      <td>0</td>\n",
       "      <td>0</td>\n",
       "      <td>0</td>\n",
       "      <td>0</td>\n",
       "      <td>0.559895</td>\n",
       "      <td>-0.406079</td>\n",
       "      <td>0.283522</td>\n",
       "      <td>2</td>\n",
       "    </tr>\n",
       "    <tr>\n",
       "      <th>3</th>\n",
       "      <td>60</td>\n",
       "      <td>married</td>\n",
       "      <td>P4</td>\n",
       "      <td>U</td>\n",
       "      <td>152000.0</td>\n",
       "      <td>C</td>\n",
       "      <td>39.47</td>\n",
       "      <td>mailDiscount</td>\n",
       "      <td>1</td>\n",
       "      <td>mailDiscount</td>\n",
       "      <td>...</td>\n",
       "      <td>0</td>\n",
       "      <td>0</td>\n",
       "      <td>0</td>\n",
       "      <td>0</td>\n",
       "      <td>0</td>\n",
       "      <td>0</td>\n",
       "      <td>-0.362850</td>\n",
       "      <td>1.831224</td>\n",
       "      <td>5.199338</td>\n",
       "      <td>0</td>\n",
       "    </tr>\n",
       "    <tr>\n",
       "      <th>4</th>\n",
       "      <td>47</td>\n",
       "      <td>married</td>\n",
       "      <td>P2</td>\n",
       "      <td>Y</td>\n",
       "      <td>60000.0</td>\n",
       "      <td>A</td>\n",
       "      <td>19.89</td>\n",
       "      <td>mailDestination emailDestination emailDestination</td>\n",
       "      <td>3</td>\n",
       "      <td>emailDestination</td>\n",
       "      <td>...</td>\n",
       "      <td>0</td>\n",
       "      <td>1</td>\n",
       "      <td>0</td>\n",
       "      <td>0</td>\n",
       "      <td>0</td>\n",
       "      <td>0</td>\n",
       "      <td>-0.687284</td>\n",
       "      <td>-0.106841</td>\n",
       "      <td>0.744694</td>\n",
       "      <td>3</td>\n",
       "    </tr>\n",
       "    <tr>\n",
       "      <th>...</th>\n",
       "      <td>...</td>\n",
       "      <td>...</td>\n",
       "      <td>...</td>\n",
       "      <td>...</td>\n",
       "      <td>...</td>\n",
       "      <td>...</td>\n",
       "      <td>...</td>\n",
       "      <td>...</td>\n",
       "      <td>...</td>\n",
       "      <td>...</td>\n",
       "      <td>...</td>\n",
       "      <td>...</td>\n",
       "      <td>...</td>\n",
       "      <td>...</td>\n",
       "      <td>...</td>\n",
       "      <td>...</td>\n",
       "      <td>...</td>\n",
       "      <td>...</td>\n",
       "      <td>...</td>\n",
       "      <td>...</td>\n",
       "      <td>...</td>\n",
       "    </tr>\n",
       "    <tr>\n",
       "      <th>14984</th>\n",
       "      <td>32</td>\n",
       "      <td>married</td>\n",
       "      <td>P1</td>\n",
       "      <td>U</td>\n",
       "      <td>33000.0</td>\n",
       "      <td>E</td>\n",
       "      <td>4280.63</td>\n",
       "      <td>emailDestination emailDestination emailDestina...</td>\n",
       "      <td>7</td>\n",
       "      <td>mailDiscount</td>\n",
       "      <td>...</td>\n",
       "      <td>0</td>\n",
       "      <td>0</td>\n",
       "      <td>0</td>\n",
       "      <td>1</td>\n",
       "      <td>0</td>\n",
       "      <td>0</td>\n",
       "      <td>1.748868</td>\n",
       "      <td>-1.340200</td>\n",
       "      <td>-0.659602</td>\n",
       "      <td>0</td>\n",
       "    </tr>\n",
       "    <tr>\n",
       "      <th>14985</th>\n",
       "      <td>53</td>\n",
       "      <td>divorced</td>\n",
       "      <td>P3</td>\n",
       "      <td>N</td>\n",
       "      <td>61000.0</td>\n",
       "      <td>F</td>\n",
       "      <td>1332.29</td>\n",
       "      <td>smsDestination mailDiscount emailDestination e...</td>\n",
       "      <td>6</td>\n",
       "      <td>mailDiscount</td>\n",
       "      <td>...</td>\n",
       "      <td>0</td>\n",
       "      <td>0</td>\n",
       "      <td>1</td>\n",
       "      <td>0</td>\n",
       "      <td>0</td>\n",
       "      <td>0</td>\n",
       "      <td>1.280981</td>\n",
       "      <td>-0.051460</td>\n",
       "      <td>1.269664</td>\n",
       "      <td>0</td>\n",
       "    </tr>\n",
       "    <tr>\n",
       "      <th>14986</th>\n",
       "      <td>30</td>\n",
       "      <td>single</td>\n",
       "      <td>P4</td>\n",
       "      <td>N</td>\n",
       "      <td>44000.0</td>\n",
       "      <td>C</td>\n",
       "      <td>4010.00</td>\n",
       "      <td>emailDestination emailDestination mailDiscount...</td>\n",
       "      <td>4</td>\n",
       "      <td>mailDiscount</td>\n",
       "      <td>...</td>\n",
       "      <td>0</td>\n",
       "      <td>0</td>\n",
       "      <td>0</td>\n",
       "      <td>0</td>\n",
       "      <td>0</td>\n",
       "      <td>0</td>\n",
       "      <td>1.694923</td>\n",
       "      <td>-0.758004</td>\n",
       "      <td>-0.985610</td>\n",
       "      <td>0</td>\n",
       "    </tr>\n",
       "    <tr>\n",
       "      <th>14987</th>\n",
       "      <td>52</td>\n",
       "      <td>married</td>\n",
       "      <td>P4</td>\n",
       "      <td>N</td>\n",
       "      <td>71000.0</td>\n",
       "      <td>C</td>\n",
       "      <td>507.46</td>\n",
       "      <td>emailDestination mailGift emailDiscount smsDes...</td>\n",
       "      <td>8</td>\n",
       "      <td>emailDestination</td>\n",
       "      <td>...</td>\n",
       "      <td>0</td>\n",
       "      <td>0</td>\n",
       "      <td>0</td>\n",
       "      <td>0</td>\n",
       "      <td>0</td>\n",
       "      <td>0</td>\n",
       "      <td>0.779682</td>\n",
       "      <td>0.240671</td>\n",
       "      <td>1.169401</td>\n",
       "      <td>3</td>\n",
       "    </tr>\n",
       "    <tr>\n",
       "      <th>14988</th>\n",
       "      <td>38</td>\n",
       "      <td>single</td>\n",
       "      <td>P4</td>\n",
       "      <td>U</td>\n",
       "      <td>65000.0</td>\n",
       "      <td>C</td>\n",
       "      <td>512.67</td>\n",
       "      <td>emailDestination mailDiscount</td>\n",
       "      <td>2</td>\n",
       "      <td>mailDiscount</td>\n",
       "      <td>...</td>\n",
       "      <td>0</td>\n",
       "      <td>0</td>\n",
       "      <td>0</td>\n",
       "      <td>0</td>\n",
       "      <td>0</td>\n",
       "      <td>0</td>\n",
       "      <td>0.788882</td>\n",
       "      <td>0.047692</td>\n",
       "      <td>0.037646</td>\n",
       "      <td>0</td>\n",
       "    </tr>\n",
       "  </tbody>\n",
       "</table>\n",
       "<p>14989 rows × 34 columns</p>\n",
       "</div>"
      ],
      "text/plain": [
       "       age   marital segment SocialMedia    income creditRating  aveSpend  \\\n",
       "0       38    single      P4           U   51000.0            C   5007.50   \n",
       "1       39  divorced      P3           U  100000.0            B     19.74   \n",
       "2       41   married      P4           N   51000.0            D    320.10   \n",
       "3       60   married      P4           U  152000.0            C     39.47   \n",
       "4       47   married      P2           Y   60000.0            A     19.89   \n",
       "...    ...       ...     ...         ...       ...          ...       ...   \n",
       "14984   32   married      P1           U   33000.0            E   4280.63   \n",
       "14985   53  divorced      P3           N   61000.0            F   1332.29   \n",
       "14986   30    single      P4           N   44000.0            C   4010.00   \n",
       "14987   52   married      P4           N   71000.0            C    507.46   \n",
       "14988   38    single      P4           U   65000.0            C    512.67   \n",
       "\n",
       "                                             touchpoints  nTouchpoints  \\\n",
       "0                          emailDestination mailDiscount             2   \n",
       "1                              emailDestination mailGift             2   \n",
       "2                   emailDiscount mailGift emailDiscount             3   \n",
       "3                                           mailDiscount             1   \n",
       "4      mailDestination emailDestination emailDestination             3   \n",
       "...                                                  ...           ...   \n",
       "14984  emailDestination emailDestination emailDestina...             7   \n",
       "14985  smsDestination mailDiscount emailDestination e...             6   \n",
       "14986  emailDestination emailDestination mailDiscount...             4   \n",
       "14987  emailDestination mailGift emailDiscount smsDes...             8   \n",
       "14988                      emailDestination mailDiscount             2   \n",
       "\n",
       "      recent_touchpoint  ...  D  A  F  E  New  G  nAveSpend   nIncome  \\\n",
       "0          mailDiscount  ...  0  0  0  0    0  0   1.798751 -0.406079   \n",
       "1              mailGift  ...  0  0  0  0    0  0  -0.694311  0.912774   \n",
       "2         emailDiscount  ...  1  0  0  0    0  0   0.559895 -0.406079   \n",
       "3          mailDiscount  ...  0  0  0  0    0  0  -0.362850  1.831224   \n",
       "4      emailDestination  ...  0  1  0  0    0  0  -0.687284 -0.106841   \n",
       "...                 ...  ... .. .. .. ..  ... ..        ...       ...   \n",
       "14984      mailDiscount  ...  0  0  0  1    0  0   1.748868 -1.340200   \n",
       "14985      mailDiscount  ...  0  0  1  0    0  0   1.280981 -0.051460   \n",
       "14986      mailDiscount  ...  0  0  0  0    0  0   1.694923 -0.758004   \n",
       "14987  emailDestination  ...  0  0  0  0    0  0   0.779682  0.240671   \n",
       "14988      mailDiscount  ...  0  0  0  0    0  0   0.788882  0.047692   \n",
       "\n",
       "           nAge  label  \n",
       "0      0.037646      0  \n",
       "1      0.123259      1  \n",
       "2      0.283522      2  \n",
       "3      5.199338      0  \n",
       "4      0.744694      3  \n",
       "...         ...    ...  \n",
       "14984 -0.659602      0  \n",
       "14985  1.269664      0  \n",
       "14986 -0.985610      0  \n",
       "14987  1.169401      3  \n",
       "14988  0.037646      0  \n",
       "\n",
       "[14989 rows x 34 columns]"
      ]
     },
     "execution_count": 14,
     "metadata": {},
     "output_type": "execute_result"
    }
   ],
   "source": [
    "df"
   ]
  },
  {
   "cell_type": "markdown",
   "metadata": {},
   "source": [
    "Select columns we want to use for our model"
   ]
  },
  {
   "cell_type": "code",
   "execution_count": 15,
   "metadata": {},
   "outputs": [
    {
     "data": {
      "text/plain": [
       "Index(['age', 'marital', 'segment', 'SocialMedia', 'income', 'creditRating',\n",
       "       'aveSpend', 'touchpoints', 'nTouchpoints', 'recent_touchpoint',\n",
       "       'num_creditRating', 'single', 'divorced', 'married', 'unknown', 'P4',\n",
       "       'P3', 'P2', 'P1', 'U', 'N', 'Y', 'C', 'B', 'D', 'A', 'F', 'E', 'New',\n",
       "       'G', 'nAveSpend', 'nIncome', 'nAge', 'label'],\n",
       "      dtype='object')"
      ]
     },
     "execution_count": 15,
     "metadata": {},
     "output_type": "execute_result"
    }
   ],
   "source": [
    "df.columns"
   ]
  },
  {
   "cell_type": "markdown",
   "metadata": {},
   "source": [
    "When a dataset is imbalanced, i.e., the distribution of target variables is not uniform, we should make sure that the training-validation split is stratified. This ensures that the distribution of the target variable is preserved in both the training and validation datasets."
   ]
  },
  {
   "cell_type": "code",
   "execution_count": 16,
   "metadata": {},
   "outputs": [],
   "source": [
    "def stratified_split(df, target, val_percent=0.2):\n",
    "    '''\n",
    "    Function to split a dataframe into train and validation sets, while preserving the ratio of the labels in the target variable\n",
    "    Inputs:\n",
    "    - df, the dataframe\n",
    "    - target, the target variable\n",
    "    - val_percent, the percentage of validation samples, default 0.2\n",
    "    Outputs:\n",
    "    - train_idxs, the indices of the training dataset\n",
    "    - val_idxs, the indices of the validation dataset\n",
    "    '''\n",
    "    classes=list(df[target].unique())\n",
    "    train_idxs, val_idxs = [], []\n",
    "    for c in classes:\n",
    "        idx=list(df[df[target]==c].index)\n",
    "        np.random.shuffle(idx)\n",
    "        val_size=int(len(idx)*val_percent)\n",
    "        val_idxs+=idx[:val_size]\n",
    "        train_idxs+=idx[val_size:]\n",
    "    return train_idxs, val_idxs\n",
    "\n",
    "\n",
    "train_idxs, val_idxs = stratified_split(df, 'label', val_percent=0.25)\n",
    "\n",
    "val_idxs, test_idxs = stratified_split(df[df.index.isin(val_idxs)], 'label', val_percent=0.5)"
   ]
  },
  {
   "cell_type": "code",
   "execution_count": 17,
   "metadata": {},
   "outputs": [],
   "source": [
    "def test_stratified(df, col):\n",
    "    '''\n",
    "    Analyzes the ratio of different classes in a categorical variable within a dataframe\n",
    "    Inputs:\n",
    "    - dataframe\n",
    "    - categorical column to be analyzed\n",
    "    Returns: None\n",
    "    '''\n",
    "    classes=list(df[col].unique())\n",
    "    \n",
    "    for c in classes:\n",
    "        print(f'Proportion of records with {c}: {len(df[df[col]==c])*1./len(df):0.2} ({len(df[df[col]==c])} / {len(df)})')"
   ]
  },
  {
   "cell_type": "code",
   "execution_count": 18,
   "metadata": {
    "scrolled": false
   },
   "outputs": [
    {
     "name": "stdout",
     "output_type": "stream",
     "text": [
      "---------- STRATIFIED SAMPLING REPORT ----------\n",
      "-------- Label proportions in FULL data --------\n",
      "Proportion of records with 0: 0.12 (1837 / 14989)\n",
      "Proportion of records with 1: 0.043 (643 / 14989)\n",
      "Proportion of records with 2: 0.22 (3229 / 14989)\n",
      "Proportion of records with 3: 0.37 (5542 / 14989)\n",
      "Proportion of records with 4: 0.077 (1149 / 14989)\n",
      "Proportion of records with 5: 0.039 (585 / 14989)\n",
      "Proportion of records with 6: 0.048 (722 / 14989)\n",
      "Proportion of records with 7: 0.04 (598 / 14989)\n",
      "Proportion of records with 8: 0.046 (684 / 14989)\n",
      "-------- Label proportions in TRAIN data --------\n",
      "Proportion of records with 1: 0.043 (483 / 11245)\n",
      "Proportion of records with 2: 0.22 (2422 / 11245)\n",
      "Proportion of records with 0: 0.12 (1378 / 11245)\n",
      "Proportion of records with 3: 0.37 (4157 / 11245)\n",
      "Proportion of records with 4: 0.077 (862 / 11245)\n",
      "Proportion of records with 7: 0.04 (449 / 11245)\n",
      "Proportion of records with 6: 0.048 (542 / 11245)\n",
      "Proportion of records with 8: 0.046 (513 / 11245)\n",
      "Proportion of records with 5: 0.039 (439 / 11245)\n",
      "------ Label proportions in VALIDATION data -----\n",
      "Proportion of records with 2: 0.22 (404 / 1875)\n",
      "Proportion of records with 3: 0.37 (693 / 1875)\n",
      "Proportion of records with 1: 0.043 (80 / 1875)\n",
      "Proportion of records with 4: 0.077 (144 / 1875)\n",
      "Proportion of records with 7: 0.04 (75 / 1875)\n",
      "Proportion of records with 0: 0.12 (230 / 1875)\n",
      "Proportion of records with 6: 0.048 (90 / 1875)\n",
      "Proportion of records with 8: 0.046 (86 / 1875)\n",
      "Proportion of records with 5: 0.039 (73 / 1875)\n",
      "-------- Label proportions in TEST data ---------\n",
      "Proportion of records with 0: 0.12 (229 / 1869)\n",
      "Proportion of records with 5: 0.039 (73 / 1869)\n",
      "Proportion of records with 6: 0.048 (90 / 1869)\n",
      "Proportion of records with 4: 0.077 (143 / 1869)\n",
      "Proportion of records with 2: 0.22 (403 / 1869)\n",
      "Proportion of records with 3: 0.37 (692 / 1869)\n",
      "Proportion of records with 7: 0.04 (74 / 1869)\n",
      "Proportion of records with 1: 0.043 (80 / 1869)\n",
      "Proportion of records with 8: 0.045 (85 / 1869)\n"
     ]
    }
   ],
   "source": [
    "print('---------- STRATIFIED SAMPLING REPORT ----------')\n",
    "print('-------- Label proportions in FULL data --------')\n",
    "test_stratified(df, 'label')\n",
    "print('-------- Label proportions in TRAIN data --------')\n",
    "test_stratified(df[df.index.isin(train_idxs)], 'label')\n",
    "print('------ Label proportions in VALIDATION data -----')\n",
    "test_stratified(df[df.index.isin(val_idxs)], 'label')\n",
    "print('-------- Label proportions in TEST data ---------')\n",
    "test_stratified(df[df.index.isin(test_idxs)], 'label')"
   ]
  },
  {
   "cell_type": "code",
   "execution_count": 19,
   "metadata": {},
   "outputs": [
    {
     "name": "stdout",
     "output_type": "stream",
     "text": [
      "Retrieved Training Data\n",
      "Retrieved Validation Data\n",
      "Retrieved Test Data\n"
     ]
    }
   ],
   "source": [
    "train_df = df[df.index.isin(train_idxs)]\n",
    "X_train = train_df[['nTouchpoints', 'single', 'divorced', 'married', 'unknown', 'P4',\n",
    "       'P3', 'P2', 'P1', 'U', 'N', 'Y', 'C', 'B', 'D', 'A', 'F', 'E', 'New',\n",
    "       'G', 'nAveSpend', 'nIncome', 'nAge']].values\n",
    "Y_train = train_df[['label']].values\n",
    "print('Retrieved Training Data')\n",
    "val_df = df[df.index.isin(val_idxs)]\n",
    "X_val = val_df[['nTouchpoints', 'single', 'divorced', 'married', 'unknown', 'P4',\n",
    "       'P3', 'P2', 'P1', 'U', 'N', 'Y', 'C', 'B', 'D', 'A', 'F', 'E', 'New',\n",
    "       'G', 'nAveSpend', 'nIncome', 'nAge']].values\n",
    "Y_val = val_df[['label']].values\n",
    "print('Retrieved Validation Data')\n",
    "test_df = df[df.index.isin(test_idxs)]\n",
    "X_test = test_df[['nTouchpoints', 'single', 'divorced', 'married', 'unknown', 'P4',\n",
    "       'P3', 'P2', 'P1', 'U', 'N', 'Y', 'C', 'B', 'D', 'A', 'F', 'E', 'New',\n",
    "       'G', 'nAveSpend', 'nIncome', 'nAge']].values\n",
    "Y_test = test_df[['label']].values\n",
    "print('Retrieved Test Data')"
   ]
  },
  {
   "cell_type": "markdown",
   "metadata": {},
   "source": [
    "# Model Building"
   ]
  },
  {
   "cell_type": "markdown",
   "metadata": {},
   "source": [
    "#### For simplicity, I will explore Logistic regression(OneVsRest) as the baseline model and progressively use more complicated ensemble models for our prediction task such as XGBoost.\n"
   ]
  },
  {
   "cell_type": "code",
   "execution_count": 109,
   "metadata": {},
   "outputs": [],
   "source": [
    "import matplotlib.pyplot as plt\n",
    "from sklearn.metrics import accuracy_score, f1_score\n",
    "from sklearn.model_selection import GridSearchCV\n",
    "#store data, all in numpy arrays\n",
    "training_data = {'X_train':X_train,'Y_train':Y_train,\n",
    "                'X_val': X_val,'Y_val':Y_val,\n",
    "                'X_test': X_test,'Y_test':Y_test}"
   ]
  },
  {
   "cell_type": "markdown",
   "metadata": {},
   "source": [
    "## Random Forest"
   ]
  },
  {
   "cell_type": "code",
   "execution_count": 120,
   "metadata": {
    "scrolled": false
   },
   "outputs": [
    {
     "name": "stderr",
     "output_type": "stream",
     "text": [
      "[Parallel(n_jobs=1)]: Using backend SequentialBackend with 1 concurrent workers.\n",
      "[Parallel(n_jobs=1)]: Done 100 out of 100 | elapsed:    1.3s finished\n"
     ]
    },
    {
     "data": {
      "text/plain": [
       "RandomForestClassifier(bootstrap=True, ccp_alpha=0.0, class_weight=None,\n",
       "                       criterion='gini', max_depth=None, max_features='auto',\n",
       "                       max_leaf_nodes=None, max_samples=None,\n",
       "                       min_impurity_decrease=0.0, min_impurity_split=None,\n",
       "                       min_samples_leaf=1, min_samples_split=2,\n",
       "                       min_weight_fraction_leaf=0.0, n_estimators=100,\n",
       "                       n_jobs=None, oob_score=False, random_state=27, verbose=1,\n",
       "                       warm_start=False)"
      ]
     },
     "execution_count": 120,
     "metadata": {},
     "output_type": "execute_result"
    }
   ],
   "source": [
    "from sklearn.ensemble import RandomForestClassifier\n",
    "\n",
    "clf = RandomForestClassifier(n_jobs=None,random_state=27,\n",
    "                       verbose=1)\n",
    "clf.fit(training_data['X_train'], training_data['Y_train'].reshape(training_data['Y_train'].shape[0],))"
   ]
  },
  {
   "cell_type": "code",
   "execution_count": 121,
   "metadata": {},
   "outputs": [
    {
     "name": "stderr",
     "output_type": "stream",
     "text": [
      "[Parallel(n_jobs=1)]: Using backend SequentialBackend with 1 concurrent workers.\n",
      "[Parallel(n_jobs=1)]: Done 100 out of 100 | elapsed:    0.1s finished\n"
     ]
    }
   ],
   "source": [
    "predicted_labels = clf.predict(training_data['X_test'])"
   ]
  },
  {
   "cell_type": "code",
   "execution_count": 122,
   "metadata": {},
   "outputs": [
    {
     "data": {
      "text/plain": [
       "0.7667201712145533"
      ]
     },
     "execution_count": 122,
     "metadata": {},
     "output_type": "execute_result"
    }
   ],
   "source": [
    "accuracy_score(training_data['Y_test'], predicted_labels)"
   ]
  },
  {
   "cell_type": "code",
   "execution_count": 125,
   "metadata": {},
   "outputs": [
    {
     "name": "stdout",
     "output_type": "stream",
     "text": [
      "Fitting 5 folds for each of 40 candidates, totalling 200 fits\n"
     ]
    },
    {
     "name": "stderr",
     "output_type": "stream",
     "text": [
      "[Parallel(n_jobs=-1)]: Using backend LokyBackend with 8 concurrent workers.\n",
      "[Parallel(n_jobs=-1)]: Done   2 tasks      | elapsed:    1.1s\n",
      "[Parallel(n_jobs=-1)]: Done   9 tasks      | elapsed:    2.8s\n",
      "[Parallel(n_jobs=-1)]: Done  16 tasks      | elapsed:    4.4s\n",
      "[Parallel(n_jobs=-1)]: Done  25 tasks      | elapsed:    8.5s\n",
      "[Parallel(n_jobs=-1)]: Done  34 tasks      | elapsed:   13.1s\n",
      "[Parallel(n_jobs=-1)]: Done  45 tasks      | elapsed:   16.0s\n",
      "[Parallel(n_jobs=-1)]: Done  56 tasks      | elapsed:   19.5s\n",
      "[Parallel(n_jobs=-1)]: Done  69 tasks      | elapsed:   26.2s\n",
      "[Parallel(n_jobs=-1)]: Done  82 tasks      | elapsed:   32.2s\n",
      "[Parallel(n_jobs=-1)]: Done  97 tasks      | elapsed:   37.3s\n",
      "[Parallel(n_jobs=-1)]: Done 112 tasks      | elapsed:   46.3s\n",
      "[Parallel(n_jobs=-1)]: Done 129 tasks      | elapsed:   52.1s\n",
      "[Parallel(n_jobs=-1)]: Done 146 tasks      | elapsed:  1.0min\n",
      "[Parallel(n_jobs=-1)]: Done 165 tasks      | elapsed:  1.2min\n",
      "[Parallel(n_jobs=-1)]: Done 184 tasks      | elapsed:  1.3min\n",
      "[Parallel(n_jobs=-1)]: Done 200 out of 200 | elapsed:  1.5min finished\n",
      "[Parallel(n_jobs=1)]: Using backend SequentialBackend with 1 concurrent workers.\n",
      "[Parallel(n_jobs=1)]: Done 250 out of 250 | elapsed:    2.1s finished\n"
     ]
    },
    {
     "data": {
      "text/plain": [
       "GridSearchCV(cv=5, error_score=nan,\n",
       "             estimator=RandomForestClassifier(bootstrap=True, ccp_alpha=0.0,\n",
       "                                              class_weight=None,\n",
       "                                              criterion='gini', max_depth=None,\n",
       "                                              max_features='auto',\n",
       "                                              max_leaf_nodes=None,\n",
       "                                              max_samples=None,\n",
       "                                              min_impurity_decrease=0.0,\n",
       "                                              min_impurity_split=None,\n",
       "                                              min_samples_leaf=1,\n",
       "                                              min_samples_split=2,\n",
       "                                              min_weight_fraction_leaf=0.0,\n",
       "                                              n_estimators=100, n_jobs=None,\n",
       "                                              oob_score=False, random_state=27,\n",
       "                                              verbose=1, warm_start=False),\n",
       "             iid='deprecated', n_jobs=-1,\n",
       "             param_grid={'criterion': ['gini'], 'max_depth': [8, 9, 10, 11, 12],\n",
       "                         'max_features': ['auto'],\n",
       "                         'n_estimators': range(100, 500, 50)},\n",
       "             pre_dispatch='2*n_jobs', refit=True, return_train_score=False,\n",
       "             scoring='f1_micro', verbose=10)"
      ]
     },
     "execution_count": 125,
     "metadata": {},
     "output_type": "execute_result"
    }
   ],
   "source": [
    "params = {\n",
    "    'n_estimators'      : range(100,500,50),\n",
    "    'max_depth'         : [8, 9, 10, 11, 12],\n",
    "    'max_features': ['auto'],\n",
    "    'criterion' :['gini']\n",
    "}\n",
    "#metrics to consider: f1_micro, f1_macro, roc_auc_ovr\n",
    "gsearch1 = GridSearchCV(estimator = clf, param_grid = params, scoring='f1_micro',n_jobs=-1,verbose = 10, cv=5)\n",
    "gsearch1.fit(training_data['X_train'], training_data['Y_train'].reshape(training_data['Y_train'].shape[0],))"
   ]
  },
  {
   "cell_type": "code",
   "execution_count": 126,
   "metadata": {
    "scrolled": true
   },
   "outputs": [
    {
     "data": {
      "text/plain": [
       "({0: \"mean:0.5012894619831036params{'criterion': 'gini', 'max_depth': 8, 'max_features': 'auto', 'n_estimators': 100}\",\n",
       "  1: \"mean:0.5019119608714984params{'criterion': 'gini', 'max_depth': 8, 'max_features': 'auto', 'n_estimators': 150}\",\n",
       "  2: \"mean:0.5002223210315696params{'criterion': 'gini', 'max_depth': 8, 'max_features': 'auto', 'n_estimators': 200}\",\n",
       "  3: \"mean:0.5024455313472653params{'criterion': 'gini', 'max_depth': 8, 'max_features': 'auto', 'n_estimators': 250}\",\n",
       "  4: \"mean:0.500578034682081params{'criterion': 'gini', 'max_depth': 8, 'max_features': 'auto', 'n_estimators': 300}\",\n",
       "  5: \"mean:0.50102267674522params{'criterion': 'gini', 'max_depth': 8, 'max_features': 'auto', 'n_estimators': 350}\",\n",
       "  6: \"mean:0.5020898176967541params{'criterion': 'gini', 'max_depth': 8, 'max_features': 'auto', 'n_estimators': 400}\",\n",
       "  7: \"mean:0.5022676745220098params{'criterion': 'gini', 'max_depth': 8, 'max_features': 'auto', 'n_estimators': 450}\",\n",
       "  8: \"mean:0.5226322810137839params{'criterion': 'gini', 'max_depth': 9, 'max_features': 'auto', 'n_estimators': 100}\",\n",
       "  9: \"mean:0.5232547799021787params{'criterion': 'gini', 'max_depth': 9, 'max_features': 'auto', 'n_estimators': 150}\",\n",
       "  10: \"mean:0.5232547799021787params{'criterion': 'gini', 'max_depth': 9, 'max_features': 'auto', 'n_estimators': 200}\",\n",
       "  11: \"mean:0.5250333481547355params{'criterion': 'gini', 'max_depth': 9, 'max_features': 'auto', 'n_estimators': 250}\",\n",
       "  12: \"mean:0.525300133392619params{'criterion': 'gini', 'max_depth': 9, 'max_features': 'auto', 'n_estimators': 300}\",\n",
       "  13: \"mean:0.5245887060915962params{'criterion': 'gini', 'max_depth': 9, 'max_features': 'auto', 'n_estimators': 350}\",\n",
       "  14: \"mean:0.5277901289461983params{'criterion': 'gini', 'max_depth': 9, 'max_features': 'auto', 'n_estimators': 400}\",\n",
       "  15: \"mean:0.5272565584704313params{'criterion': 'gini', 'max_depth': 9, 'max_features': 'auto', 'n_estimators': 450}\",\n",
       "  16: \"mean:0.5453090262338817params{'criterion': 'gini', 'max_depth': 10, 'max_features': 'auto', 'n_estimators': 100}\",\n",
       "  17: \"mean:0.5469986660738105params{'criterion': 'gini', 'max_depth': 10, 'max_features': 'auto', 'n_estimators': 150}\",\n",
       "  18: \"mean:0.5469097376611828params{'criterion': 'gini', 'max_depth': 10, 'max_features': 'auto', 'n_estimators': 200}\",\n",
       "  19: \"mean:0.5469097376611828params{'criterion': 'gini', 'max_depth': 10, 'max_features': 'auto', 'n_estimators': 250}\",\n",
       "  20: \"mean:0.5469097376611828params{'criterion': 'gini', 'max_depth': 10, 'max_features': 'auto', 'n_estimators': 300}\",\n",
       "  21: \"mean:0.5477990217874611params{'criterion': 'gini', 'max_depth': 10, 'max_features': 'auto', 'n_estimators': 350}\",\n",
       "  22: \"mean:0.5476211649622054params{'criterion': 'gini', 'max_depth': 10, 'max_features': 'auto', 'n_estimators': 400}\",\n",
       "  23: \"mean:0.5482436638506003params{'criterion': 'gini', 'max_depth': 10, 'max_features': 'auto', 'n_estimators': 450}\",\n",
       "  24: \"mean:0.574744330813695params{'criterion': 'gini', 'max_depth': 11, 'max_features': 'auto', 'n_estimators': 100}\",\n",
       "  25: \"mean:0.5764339706536239params{'criterion': 'gini', 'max_depth': 11, 'max_features': 'auto', 'n_estimators': 150}\",\n",
       "  26: \"mean:0.5734993330369053params{'criterion': 'gini', 'max_depth': 11, 'max_features': 'auto', 'n_estimators': 200}\",\n",
       "  27: \"mean:0.5732325477990218params{'criterion': 'gini', 'max_depth': 11, 'max_features': 'auto', 'n_estimators': 250}\",\n",
       "  28: \"mean:0.5726989773232548params{'criterion': 'gini', 'max_depth': 11, 'max_features': 'auto', 'n_estimators': 300}\",\n",
       "  29: \"mean:0.5727879057358826params{'criterion': 'gini', 'max_depth': 11, 'max_features': 'auto', 'n_estimators': 350}\",\n",
       "  30: \"mean:0.5724321920853713params{'criterion': 'gini', 'max_depth': 11, 'max_features': 'auto', 'n_estimators': 400}\",\n",
       "  31: \"mean:0.5715429079590929params{'criterion': 'gini', 'max_depth': 11, 'max_features': 'auto', 'n_estimators': 450}\",\n",
       "  32: \"mean:0.5936860827034238params{'criterion': 'gini', 'max_depth': 12, 'max_features': 'auto', 'n_estimators': 100}\",\n",
       "  33: \"mean:0.597332147621165params{'criterion': 'gini', 'max_depth': 12, 'max_features': 'auto', 'n_estimators': 150}\",\n",
       "  34: \"mean:0.5992885726989773params{'criterion': 'gini', 'max_depth': 12, 'max_features': 'auto', 'n_estimators': 200}\",\n",
       "  35: \"mean:0.5996442863494886params{'criterion': 'gini', 'max_depth': 12, 'max_features': 'auto', 'n_estimators': 250}\",\n",
       "  36: \"mean:0.5974210760337929params{'criterion': 'gini', 'max_depth': 12, 'max_features': 'auto', 'n_estimators': 300}\",\n",
       "  37: \"mean:0.5967985771453979params{'criterion': 'gini', 'max_depth': 12, 'max_features': 'auto', 'n_estimators': 350}\",\n",
       "  38: \"mean:0.5977767896843041params{'criterion': 'gini', 'max_depth': 12, 'max_features': 'auto', 'n_estimators': 400}\",\n",
       "  39: \"mean:0.5991107158737217params{'criterion': 'gini', 'max_depth': 12, 'max_features': 'auto', 'n_estimators': 450}\"},\n",
       " {'best_mean': 0.5996442863494886,\n",
       "  'best_param': {'criterion': 'gini',\n",
       "   'max_depth': 12,\n",
       "   'max_features': 'auto',\n",
       "   'n_estimators': 250}})"
      ]
     },
     "execution_count": 126,
     "metadata": {},
     "output_type": "execute_result"
    }
   ],
   "source": [
    "getTrainScores(gsearch1)"
   ]
  },
  {
   "cell_type": "code",
   "execution_count": 128,
   "metadata": {},
   "outputs": [
    {
     "name": "stdout",
     "output_type": "stream",
     "text": [
      "Fitting 5 folds for each of 30 candidates, totalling 150 fits\n"
     ]
    },
    {
     "name": "stderr",
     "output_type": "stream",
     "text": [
      "[Parallel(n_jobs=-1)]: Using backend LokyBackend with 8 concurrent workers.\n",
      "[Parallel(n_jobs=-1)]: Done   2 tasks      | elapsed:    2.6s\n",
      "[Parallel(n_jobs=-1)]: Done   9 tasks      | elapsed:    5.5s\n",
      "[Parallel(n_jobs=-1)]: Done  16 tasks      | elapsed:    6.2s\n",
      "[Parallel(n_jobs=-1)]: Done  25 tasks      | elapsed:   11.9s\n",
      "[Parallel(n_jobs=-1)]: Done  34 tasks      | elapsed:   15.3s\n",
      "[Parallel(n_jobs=-1)]: Done  45 tasks      | elapsed:   19.3s\n",
      "[Parallel(n_jobs=-1)]: Done  56 tasks      | elapsed:   22.7s\n",
      "[Parallel(n_jobs=-1)]: Done  69 tasks      | elapsed:   29.0s\n",
      "[Parallel(n_jobs=-1)]: Done  82 tasks      | elapsed:   35.6s\n",
      "[Parallel(n_jobs=-1)]: Done  97 tasks      | elapsed:   44.6s\n",
      "[Parallel(n_jobs=-1)]: Done 112 tasks      | elapsed:   49.9s\n",
      "[Parallel(n_jobs=-1)]: Done 129 tasks      | elapsed:  1.1min\n",
      "[Parallel(n_jobs=-1)]: Done 150 out of 150 | elapsed:  1.3min finished\n",
      "[Parallel(n_jobs=1)]: Using backend SequentialBackend with 1 concurrent workers.\n",
      "[Parallel(n_jobs=1)]: Done 210 out of 210 | elapsed:    3.0s finished\n"
     ]
    },
    {
     "data": {
      "text/plain": [
       "GridSearchCV(cv=5, error_score=nan,\n",
       "             estimator=RandomForestClassifier(bootstrap=True, ccp_alpha=0.0,\n",
       "                                              class_weight=None,\n",
       "                                              criterion='gini', max_depth=12,\n",
       "                                              max_features='auto',\n",
       "                                              max_leaf_nodes=None,\n",
       "                                              max_samples=None,\n",
       "                                              min_impurity_decrease=0.0,\n",
       "                                              min_impurity_split=None,\n",
       "                                              min_samples_leaf=1,\n",
       "                                              min_samples_split=2,\n",
       "                                              min_weight_fraction_leaf=0.0,\n",
       "                                              n_estimators=250, n_jobs=None,\n",
       "                                              oob_score=False, random_state=27,\n",
       "                                              verbose=1, warm_start=False),\n",
       "             iid='deprecated', n_jobs=-1,\n",
       "             param_grid={'max_depth': [11, 12, 13],\n",
       "                         'n_estimators': range(200, 300, 10)},\n",
       "             pre_dispatch='2*n_jobs', refit=True, return_train_score=False,\n",
       "             scoring='f1_micro', verbose=10)"
      ]
     },
     "execution_count": 128,
     "metadata": {},
     "output_type": "execute_result"
    }
   ],
   "source": [
    "clf2 = gsearch1.best_estimator_\n",
    "\n",
    "params1 = {\n",
    "    'n_estimators'      : range(200,300,10),\n",
    "    'max_depth'         : [11, 12,13]\n",
    "}\n",
    "#metrics to consider: f1_micro, f1_macro, roc_auc_ovr\n",
    "gsearch2 = GridSearchCV(estimator = clf2, param_grid = params1, scoring='f1_micro',n_jobs=-1,verbose = 10, cv=5)\n",
    "gsearch2.fit(training_data['X_train'], training_data['Y_train'].reshape(training_data['Y_train'].shape[0],))"
   ]
  },
  {
   "cell_type": "code",
   "execution_count": 129,
   "metadata": {
    "scrolled": true
   },
   "outputs": [
    {
     "data": {
      "text/plain": [
       "({0: \"mean:0.5734993330369053params{'max_depth': 11, 'n_estimators': 200}\",\n",
       "  1: \"mean:0.5741218319253002params{'max_depth': 11, 'n_estimators': 210}\",\n",
       "  2: \"mean:0.5721654068474878params{'max_depth': 11, 'n_estimators': 220}\",\n",
       "  3: \"mean:0.5726989773232548params{'max_depth': 11, 'n_estimators': 230}\",\n",
       "  4: \"mean:0.5734104046242775params{'max_depth': 11, 'n_estimators': 240}\",\n",
       "  5: \"mean:0.5732325477990218params{'max_depth': 11, 'n_estimators': 250}\",\n",
       "  6: \"mean:0.5727879057358827params{'max_depth': 11, 'n_estimators': 260}\",\n",
       "  7: \"mean:0.572610048910627params{'max_depth': 11, 'n_estimators': 270}\",\n",
       "  8: \"mean:0.5721654068474878params{'max_depth': 11, 'n_estimators': 280}\",\n",
       "  9: \"mean:0.57207647843486params{'max_depth': 11, 'n_estimators': 290}\",\n",
       "  10: \"mean:0.5992885726989773params{'max_depth': 12, 'n_estimators': 200}\",\n",
       "  11: \"mean:0.5998221431747444params{'max_depth': 12, 'n_estimators': 210}\",\n",
       "  12: \"mean:0.598399288572699params{'max_depth': 12, 'n_estimators': 220}\",\n",
       "  13: \"mean:0.5985771453979547params{'max_depth': 12, 'n_estimators': 230}\",\n",
       "  14: \"mean:0.5991996442863494params{'max_depth': 12, 'n_estimators': 240}\",\n",
       "  15: \"mean:0.5996442863494886params{'max_depth': 12, 'n_estimators': 250}\",\n",
       "  16: \"mean:0.5982214317474435params{'max_depth': 12, 'n_estimators': 260}\",\n",
       "  17: \"mean:0.598399288572699params{'max_depth': 12, 'n_estimators': 270}\",\n",
       "  18: \"mean:0.5979546465095599params{'max_depth': 12, 'n_estimators': 280}\",\n",
       "  19: \"mean:0.5968875055580258params{'max_depth': 12, 'n_estimators': 290}\",\n",
       "  20: \"mean:0.625255669186305params{'max_depth': 13, 'n_estimators': 200}\",\n",
       "  21: \"mean:0.6270342374388617params{'max_depth': 13, 'n_estimators': 210}\",\n",
       "  22: \"mean:0.6255224544241885params{'max_depth': 13, 'n_estimators': 220}\",\n",
       "  23: \"mean:0.6247220987105381params{'max_depth': 13, 'n_estimators': 230}\",\n",
       "  24: \"mean:0.6250778123610493params{'max_depth': 13, 'n_estimators': 240}\",\n",
       "  25: \"mean:0.6249888839484214params{'max_depth': 13, 'n_estimators': 250}\",\n",
       "  26: \"mean:0.6227656736327256params{'max_depth': 13, 'n_estimators': 260}\",\n",
       "  27: \"mean:0.6239217429968875params{'max_depth': 13, 'n_estimators': 270}\",\n",
       "  28: \"mean:0.6234771009337484params{'max_depth': 13, 'n_estimators': 280}\",\n",
       "  29: \"mean:0.6232992441084926params{'max_depth': 13, 'n_estimators': 290}\"},\n",
       " {'best_mean': 0.6270342374388617,\n",
       "  'best_param': {'max_depth': 13, 'n_estimators': 210}})"
      ]
     },
     "execution_count": 129,
     "metadata": {},
     "output_type": "execute_result"
    }
   ],
   "source": [
    "getTrainScores(gsearch2)"
   ]
  },
  {
   "cell_type": "code",
   "execution_count": 130,
   "metadata": {},
   "outputs": [
    {
     "name": "stdout",
     "output_type": "stream",
     "text": [
      "Fitting 5 folds for each of 12 candidates, totalling 60 fits\n"
     ]
    },
    {
     "name": "stderr",
     "output_type": "stream",
     "text": [
      "[Parallel(n_jobs=-1)]: Using backend LokyBackend with 8 concurrent workers.\n",
      "[Parallel(n_jobs=-1)]: Done   2 tasks      | elapsed:    4.7s\n",
      "[Parallel(n_jobs=-1)]: Done   9 tasks      | elapsed:    9.1s\n",
      "[Parallel(n_jobs=-1)]: Done  16 tasks      | elapsed:    9.7s\n",
      "[Parallel(n_jobs=-1)]: Done  25 tasks      | elapsed:   17.3s\n",
      "[Parallel(n_jobs=-1)]: Done  34 tasks      | elapsed:   21.7s\n",
      "[Parallel(n_jobs=-1)]: Done  45 tasks      | elapsed:   26.1s\n",
      "[Parallel(n_jobs=-1)]: Done  52 out of  60 | elapsed:   30.5s remaining:    4.7s\n",
      "[Parallel(n_jobs=-1)]: Done  60 out of  60 | elapsed:   33.8s finished\n",
      "[Parallel(n_jobs=1)]: Using backend SequentialBackend with 1 concurrent workers.\n",
      "[Parallel(n_jobs=1)]: Done 210 out of 210 | elapsed:    3.2s finished\n"
     ]
    },
    {
     "data": {
      "text/plain": [
       "GridSearchCV(cv=5, error_score=nan,\n",
       "             estimator=RandomForestClassifier(bootstrap=True, ccp_alpha=0.0,\n",
       "                                              class_weight=None,\n",
       "                                              criterion='gini', max_depth=13,\n",
       "                                              max_features='auto',\n",
       "                                              max_leaf_nodes=None,\n",
       "                                              max_samples=None,\n",
       "                                              min_impurity_decrease=0.0,\n",
       "                                              min_impurity_split=None,\n",
       "                                              min_samples_leaf=1,\n",
       "                                              min_samples_split=2,\n",
       "                                              min_weight_fraction_leaf=0.0,\n",
       "                                              n_estimators=210, n_jobs=None,\n",
       "                                              oob_score=False, random_state=27,\n",
       "                                              verbose=1, warm_start=False),\n",
       "             iid='deprecated', n_jobs=-1,\n",
       "             param_grid={'max_depth': [13, 14, 15],\n",
       "                         'n_estimators': range(200, 220, 5)},\n",
       "             pre_dispatch='2*n_jobs', refit=True, return_train_score=False,\n",
       "             scoring='f1_micro', verbose=10)"
      ]
     },
     "execution_count": 130,
     "metadata": {},
     "output_type": "execute_result"
    }
   ],
   "source": [
    "clf3 = gsearch2.best_estimator_\n",
    "\n",
    "params2 = {\n",
    "    'n_estimators'      : range(200,220,5),\n",
    "    'max_depth'         : [13,14,15]\n",
    "}\n",
    "#metrics to consider: f1_micro, f1_macro, roc_auc_ovr\n",
    "gsearch3 = GridSearchCV(estimator = clf3, param_grid = params2, scoring='f1_micro',n_jobs=-1,verbose = 10, cv=5)\n",
    "gsearch3.fit(training_data['X_train'], training_data['Y_train'].reshape(training_data['Y_train'].shape[0],))"
   ]
  },
  {
   "cell_type": "code",
   "execution_count": 131,
   "metadata": {},
   "outputs": [
    {
     "data": {
      "text/plain": [
       "({0: \"mean:0.625255669186305params{'max_depth': 13, 'n_estimators': 200}\",\n",
       "  1: \"mean:0.6259670964873277params{'max_depth': 13, 'n_estimators': 205}\",\n",
       "  2: \"mean:0.6270342374388617params{'max_depth': 13, 'n_estimators': 210}\",\n",
       "  3: \"mean:0.6265895953757226params{'max_depth': 13, 'n_estimators': 215}\",\n",
       "  4: \"mean:0.6510449088483771params{'max_depth': 14, 'n_estimators': 200}\",\n",
       "  5: \"mean:0.6509559804357492params{'max_depth': 14, 'n_estimators': 205}\",\n",
       "  6: \"mean:0.6508670520231215params{'max_depth': 14, 'n_estimators': 210}\",\n",
       "  7: \"mean:0.6507781236104936params{'max_depth': 14, 'n_estimators': 215}\",\n",
       "  8: \"mean:0.669364161849711params{'max_depth': 15, 'n_estimators': 200}\",\n",
       "  9: \"mean:0.6689195197865718params{'max_depth': 15, 'n_estimators': 205}\",\n",
       "  10: \"mean:0.6701645175633615params{'max_depth': 15, 'n_estimators': 210}\",\n",
       "  11: \"mean:0.669897732325478params{'max_depth': 15, 'n_estimators': 215}\"},\n",
       " {'best_mean': 0.6701645175633615,\n",
       "  'best_param': {'max_depth': 15, 'n_estimators': 210}})"
      ]
     },
     "execution_count": 131,
     "metadata": {},
     "output_type": "execute_result"
    }
   ],
   "source": [
    "getTrainScores(gsearch3)"
   ]
  },
  {
   "cell_type": "code",
   "execution_count": 132,
   "metadata": {},
   "outputs": [
    {
     "name": "stdout",
     "output_type": "stream",
     "text": [
      "Fitting 5 folds for each of 6 candidates, totalling 30 fits\n"
     ]
    },
    {
     "name": "stderr",
     "output_type": "stream",
     "text": [
      "[Parallel(n_jobs=-1)]: Using backend LokyBackend with 8 concurrent workers.\n",
      "[Parallel(n_jobs=-1)]: Done   2 tasks      | elapsed:    4.6s\n",
      "[Parallel(n_jobs=-1)]: Done   9 tasks      | elapsed:    9.6s\n",
      "[Parallel(n_jobs=-1)]: Done  19 out of  30 | elapsed:   14.9s remaining:    8.6s\n",
      "[Parallel(n_jobs=-1)]: Done  23 out of  30 | elapsed:   15.4s remaining:    4.7s\n",
      "[Parallel(n_jobs=-1)]: Done  27 out of  30 | elapsed:   19.0s remaining:    2.1s\n",
      "[Parallel(n_jobs=-1)]: Done  30 out of  30 | elapsed:   19.3s finished\n",
      "[Parallel(n_jobs=1)]: Using backend SequentialBackend with 1 concurrent workers.\n",
      "[Parallel(n_jobs=1)]: Done 210 out of 210 | elapsed:    2.7s finished\n"
     ]
    },
    {
     "data": {
      "text/plain": [
       "GridSearchCV(cv=5, error_score=nan,\n",
       "             estimator=RandomForestClassifier(bootstrap=True, ccp_alpha=0.0,\n",
       "                                              class_weight=None,\n",
       "                                              criterion='gini', max_depth=15,\n",
       "                                              max_features='auto',\n",
       "                                              max_leaf_nodes=None,\n",
       "                                              max_samples=None,\n",
       "                                              min_impurity_decrease=0.0,\n",
       "                                              min_impurity_split=None,\n",
       "                                              min_samples_leaf=1,\n",
       "                                              min_samples_split=2,\n",
       "                                              min_weight_fraction_leaf=0.0,\n",
       "                                              n_estimators=210, n_jobs=None,\n",
       "                                              oob_score=False, random_state=27,\n",
       "                                              verbose=1, warm_start=False),\n",
       "             iid='deprecated', n_jobs=-1,\n",
       "             param_grid={'max_depth': range(14, 20)}, pre_dispatch='2*n_jobs',\n",
       "             refit=True, return_train_score=False, scoring='f1_micro',\n",
       "             verbose=10)"
      ]
     },
     "execution_count": 132,
     "metadata": {},
     "output_type": "execute_result"
    }
   ],
   "source": [
    "clf4 = gsearch3.best_estimator_\n",
    "\n",
    "params3 = {\n",
    "    'max_depth'         : range(14,20,1)\n",
    "}\n",
    "#metrics to consider: f1_micro, f1_macro, roc_auc_ovr\n",
    "gsearch4 = GridSearchCV(estimator = clf4, param_grid = params3, scoring='f1_micro',n_jobs=-1,verbose = 10, cv=5)\n",
    "gsearch4.fit(training_data['X_train'], training_data['Y_train'].reshape(training_data['Y_train'].shape[0],))"
   ]
  },
  {
   "cell_type": "code",
   "execution_count": 133,
   "metadata": {},
   "outputs": [
    {
     "data": {
      "text/plain": [
       "({0: \"mean:0.6508670520231215params{'max_depth': 14}\",\n",
       "  1: \"mean:0.6701645175633615params{'max_depth': 15}\",\n",
       "  2: \"mean:0.6927523343708314params{'max_depth': 16}\",\n",
       "  3: \"mean:0.7013783903957315params{'max_depth': 17}\",\n",
       "  4: \"mean:0.7136505113383727params{'max_depth': 18}\",\n",
       "  5: \"mean:0.7153401511783015params{'max_depth': 19}\"},\n",
       " {'best_mean': 0.7153401511783015, 'best_param': {'max_depth': 19}})"
      ]
     },
     "execution_count": 133,
     "metadata": {},
     "output_type": "execute_result"
    }
   ],
   "source": [
    "getTrainScores(gsearch4)"
   ]
  },
  {
   "cell_type": "code",
   "execution_count": 134,
   "metadata": {},
   "outputs": [
    {
     "name": "stdout",
     "output_type": "stream",
     "text": [
      "Fitting 5 folds for each of 16 candidates, totalling 80 fits\n"
     ]
    },
    {
     "name": "stderr",
     "output_type": "stream",
     "text": [
      "[Parallel(n_jobs=-1)]: Using backend LokyBackend with 8 concurrent workers.\n",
      "[Parallel(n_jobs=-1)]: Done   2 tasks      | elapsed:    4.7s\n",
      "[Parallel(n_jobs=-1)]: Done   9 tasks      | elapsed:   10.8s\n",
      "[Parallel(n_jobs=-1)]: Done  16 tasks      | elapsed:   11.2s\n",
      "[Parallel(n_jobs=-1)]: Done  25 tasks      | elapsed:   20.8s\n",
      "[Parallel(n_jobs=-1)]: Done  34 tasks      | elapsed:   25.8s\n",
      "[Parallel(n_jobs=-1)]: Done  45 tasks      | elapsed:   30.6s\n",
      "[Parallel(n_jobs=-1)]: Done  56 tasks      | elapsed:   35.8s\n",
      "[Parallel(n_jobs=-1)]: Done  74 out of  80 | elapsed:   50.1s remaining:    4.1s\n",
      "[Parallel(n_jobs=-1)]: Done  80 out of  80 | elapsed:   50.5s finished\n",
      "[Parallel(n_jobs=1)]: Using backend SequentialBackend with 1 concurrent workers.\n",
      "[Parallel(n_jobs=1)]: Done 210 out of 210 | elapsed:    2.7s finished\n"
     ]
    },
    {
     "data": {
      "text/plain": [
       "GridSearchCV(cv=5, error_score=nan,\n",
       "             estimator=RandomForestClassifier(bootstrap=True, ccp_alpha=0.0,\n",
       "                                              class_weight=None,\n",
       "                                              criterion='gini', max_depth=19,\n",
       "                                              max_features='auto',\n",
       "                                              max_leaf_nodes=None,\n",
       "                                              max_samples=None,\n",
       "                                              min_impurity_decrease=0.0,\n",
       "                                              min_impurity_split=None,\n",
       "                                              min_samples_leaf=1,\n",
       "                                              min_samples_split=2,\n",
       "                                              min_weight_fraction_leaf=0.0,\n",
       "                                              n_estimators=210, n_jobs=None,\n",
       "                                              oob_score=False, random_state=27,\n",
       "                                              verbose=1, warm_start=False),\n",
       "             iid='deprecated', n_jobs=-1,\n",
       "             param_grid={'max_depth': range(19, 50, 2)},\n",
       "             pre_dispatch='2*n_jobs', refit=True, return_train_score=False,\n",
       "             scoring='f1_micro', verbose=10)"
      ]
     },
     "execution_count": 134,
     "metadata": {},
     "output_type": "execute_result"
    }
   ],
   "source": [
    "clf5 = gsearch4.best_estimator_\n",
    "\n",
    "params4 = {\n",
    "    'max_depth'         : range(19,50,2)\n",
    "}\n",
    "#metrics to consider: f1_micro, f1_macro, roc_auc_ovr\n",
    "gsearch5 = GridSearchCV(estimator = clf5, param_grid = params4, scoring='f1_micro',n_jobs=-1,verbose = 10, cv=5)\n",
    "gsearch5.fit(training_data['X_train'], training_data['Y_train'].reshape(training_data['Y_train'].shape[0],))"
   ]
  },
  {
   "cell_type": "code",
   "execution_count": 135,
   "metadata": {},
   "outputs": [
    {
     "data": {
      "text/plain": [
       "({0: \"mean:0.7153401511783015params{'max_depth': 19}\",\n",
       "  1: \"mean:0.7201422854602045params{'max_depth': 21}\",\n",
       "  2: \"mean:0.7244108492663406params{'max_depth': 23}\",\n",
       "  3: \"mean:0.7262783459315252params{'max_depth': 25}\",\n",
       "  4: \"mean:0.7250333481547354params{'max_depth': 27}\",\n",
       "  5: \"mean:0.7256558470431304params{'max_depth': 29}\",\n",
       "  6: \"mean:0.7244108492663405params{'max_depth': 31}\",\n",
       "  7: \"mean:0.7256558470431302params{'max_depth': 33}\",\n",
       "  8: \"mean:0.7251222765673633params{'max_depth': 35}\",\n",
       "  9: \"mean:0.7247665629168519params{'max_depth': 37}\",\n",
       "  10: \"mean:0.7247665629168519params{'max_depth': 39}\",\n",
       "  11: \"mean:0.7247665629168519params{'max_depth': 41}\",\n",
       "  12: \"mean:0.7247665629168519params{'max_depth': 43}\",\n",
       "  13: \"mean:0.7247665629168519params{'max_depth': 45}\",\n",
       "  14: \"mean:0.7247665629168519params{'max_depth': 47}\",\n",
       "  15: \"mean:0.7247665629168519params{'max_depth': 49}\"},\n",
       " {'best_mean': 0.7262783459315252, 'best_param': {'max_depth': 25}})"
      ]
     },
     "execution_count": 135,
     "metadata": {},
     "output_type": "execute_result"
    }
   ],
   "source": [
    "getTrainScores(gsearch5)"
   ]
  },
  {
   "cell_type": "code",
   "execution_count": 136,
   "metadata": {},
   "outputs": [
    {
     "name": "stdout",
     "output_type": "stream",
     "text": [
      "Fitting 5 folds for each of 3 candidates, totalling 15 fits\n"
     ]
    },
    {
     "name": "stderr",
     "output_type": "stream",
     "text": [
      "[Parallel(n_jobs=-1)]: Using backend LokyBackend with 8 concurrent workers.\n",
      "[Parallel(n_jobs=-1)]: Done   2 out of  15 | elapsed:    4.6s remaining:   29.6s\n",
      "[Parallel(n_jobs=-1)]: Done   4 out of  15 | elapsed:    4.6s remaining:   12.6s\n",
      "[Parallel(n_jobs=-1)]: Done   6 out of  15 | elapsed:    4.6s remaining:    6.9s\n",
      "[Parallel(n_jobs=-1)]: Done   8 out of  15 | elapsed:    4.7s remaining:    4.2s\n",
      "[Parallel(n_jobs=-1)]: Done  10 out of  15 | elapsed:    8.6s remaining:    4.3s\n",
      "[Parallel(n_jobs=-1)]: Done  12 out of  15 | elapsed:    8.6s remaining:    2.2s\n",
      "[Parallel(n_jobs=-1)]: Done  15 out of  15 | elapsed:    8.7s finished\n",
      "[Parallel(n_jobs=1)]: Using backend SequentialBackend with 1 concurrent workers.\n",
      "[Parallel(n_jobs=1)]: Done 210 out of 210 | elapsed:    3.1s finished\n"
     ]
    },
    {
     "data": {
      "text/plain": [
       "GridSearchCV(cv=5, error_score=nan,\n",
       "             estimator=RandomForestClassifier(bootstrap=True, ccp_alpha=0.0,\n",
       "                                              class_weight=None,\n",
       "                                              criterion='gini', max_depth=25,\n",
       "                                              max_features='auto',\n",
       "                                              max_leaf_nodes=None,\n",
       "                                              max_samples=None,\n",
       "                                              min_impurity_decrease=0.0,\n",
       "                                              min_impurity_split=None,\n",
       "                                              min_samples_leaf=1,\n",
       "                                              min_samples_split=2,\n",
       "                                              min_weight_fraction_leaf=0.0,\n",
       "                                              n_estimators=210, n_jobs=None,\n",
       "                                              oob_score=False, random_state=27,\n",
       "                                              verbose=1, warm_start=False),\n",
       "             iid='deprecated', n_jobs=-1,\n",
       "             param_grid={'max_depth': [24, 25, 26]}, pre_dispatch='2*n_jobs',\n",
       "             refit=True, return_train_score=False, scoring='f1_micro',\n",
       "             verbose=10)"
      ]
     },
     "execution_count": 136,
     "metadata": {},
     "output_type": "execute_result"
    }
   ],
   "source": [
    "clf6 = gsearch5.best_estimator_\n",
    "\n",
    "params5 = {\n",
    "    'max_depth'         : [24,25,26]\n",
    "}\n",
    "#metrics to consider: f1_micro, f1_macro, roc_auc_ovr\n",
    "gsearch6 = GridSearchCV(estimator = clf6, param_grid = params5, scoring='f1_micro',n_jobs=-1,verbose = 10, cv=5)\n",
    "gsearch6.fit(training_data['X_train'], training_data['Y_train'].reshape(training_data['Y_train'].shape[0],))"
   ]
  },
  {
   "cell_type": "code",
   "execution_count": 137,
   "metadata": {},
   "outputs": [
    {
     "data": {
      "text/plain": [
       "({0: \"mean:0.7234326367274344params{'max_depth': 24}\",\n",
       "  1: \"mean:0.7262783459315252params{'max_depth': 25}\",\n",
       "  2: \"mean:0.7222765673632725params{'max_depth': 26}\"},\n",
       " {'best_mean': 0.7262783459315252, 'best_param': {'max_depth': 25}})"
      ]
     },
     "execution_count": 137,
     "metadata": {},
     "output_type": "execute_result"
    }
   ],
   "source": [
    "getTrainScores(gsearch6)"
   ]
  },
  {
   "cell_type": "code",
   "execution_count": 138,
   "metadata": {},
   "outputs": [],
   "source": [
    "final_clf = gsearch6.best_estimator_"
   ]
  },
  {
   "cell_type": "code",
   "execution_count": 143,
   "metadata": {},
   "outputs": [
    {
     "name": "stderr",
     "output_type": "stream",
     "text": [
      "[Parallel(n_jobs=1)]: Using backend SequentialBackend with 1 concurrent workers.\n",
      "[Parallel(n_jobs=1)]: Done 210 out of 210 | elapsed:    2.7s finished\n",
      "[Parallel(n_jobs=1)]: Using backend SequentialBackend with 1 concurrent workers.\n",
      "[Parallel(n_jobs=1)]: Done 210 out of 210 | elapsed:    0.1s finished\n",
      "[Parallel(n_jobs=1)]: Using backend SequentialBackend with 1 concurrent workers.\n"
     ]
    },
    {
     "name": "stdout",
     "output_type": "stream",
     "text": [
      "Train Accuracy:1.0\n",
      "Train F1-Score(Micro):1.0\n",
      "------\n",
      "Test Accuracy:0.7768860353130016\n",
      "Test F1-Score(Micro):0.7768860353130017\n"
     ]
    },
    {
     "name": "stderr",
     "output_type": "stream",
     "text": [
      "[Parallel(n_jobs=1)]: Done 210 out of 210 | elapsed:    0.6s finished\n"
     ]
    }
   ],
   "source": [
    "final_clf.fit(training_data['X_train'], training_data['Y_train'].reshape(training_data['Y_train'].shape[0],))\n",
    "predicted_labels = final_clf.predict(training_data['X_test'])\n",
    "train_pred = final_clf.predict(training_data['X_train'])\n",
    "print('Train Accuracy:'+str(accuracy_score(training_data['Y_train'], train_pred)))\n",
    "print('Train F1-Score(Micro):'+str(f1_score(training_data['Y_train'], train_pred,average='micro')))\n",
    "print('------')\n",
    "print('Test Accuracy:'+str(accuracy_score(training_data['Y_test'], predicted_labels)))\n",
    "print('Test F1-Score(Micro):'+str(f1_score(training_data['Y_test'], predicted_labels,average='micro')))"
   ]
  },
  {
   "cell_type": "markdown",
   "metadata": {},
   "source": [
    "#### Achieved F1-Score(Micro) of 0.776886 with RandomForestClassifier. There is overfitting in this model."
   ]
  },
  {
   "cell_type": "code",
   "execution_count": 145,
   "metadata": {},
   "outputs": [
    {
     "data": {
      "image/png": "[encoded data removed]",
      "text/plain": [
       "<Figure size 720x360 with 1 Axes>"
      ]
     },
     "metadata": {},
     "output_type": "display_data"
    }
   ],
   "source": [
    "f, ax = plt.subplots(figsize=(10,5))\n",
    "plot = sns.barplot(x=features, y=final_clf.feature_importances_)\n",
    "ax.set_title('Feature Importance')\n",
    "plot.set_xticklabels(plot.get_xticklabels(),rotation='vertical')\n",
    "plt.show()"
   ]
  },
  {
   "cell_type": "markdown",
   "metadata": {},
   "source": [
    "## XGBoost"
   ]
  },
  {
   "cell_type": "code",
   "execution_count": 95,
   "metadata": {},
   "outputs": [],
   "source": [
    "import xgboost as xgb\n",
    "import matplotlib.pyplot as plt\n",
    "\n",
    "#allow logloss and classification error plots for each iteraetion of xgb model\n",
    "def plot_compare(metrics,eval_results,epochs):\n",
    "    for m in metrics:\n",
    "        test_score = eval_results['val'][m]\n",
    "        train_score = eval_results['train'][m]\n",
    "        rang = range(0, epochs)\n",
    "        plt.rcParams[\"figure.figsize\"] = [6,6]\n",
    "        plt.plot(rang, test_score,\"c\", label=\"Val\")\n",
    "        plt.plot(rang, train_score,\"orange\", label=\"Train\")\n",
    "        title_name = m + \" plot\"\n",
    "        plt.title(title_name)\n",
    "        plt.xlabel('Iterations')\n",
    "        plt.ylabel(m)\n",
    "        lgd = plt.legend()\n",
    "        plt.show()\n",
    "        \n",
    "def fitXgb(sk_model, training_data=training_data,epochs=300):\n",
    "    print('Fitting model...')\n",
    "    sk_model.fit(training_data['X_train'], training_data['Y_train'].reshape(training_data['Y_train'].shape[0],))\n",
    "    print('Fitting done!')\n",
    "    train = xgb.DMatrix(training_data['X_train'], label=training_data['Y_train'])\n",
    "    val = xgb.DMatrix(training_data['X_val'], label=training_data['Y_val'])\n",
    "    params = sk_model.get_xgb_params()\n",
    "    metrics = ['mlogloss','merror']\n",
    "    params['eval_metric'] = metrics\n",
    "    store = {}\n",
    "    evallist = [(val, 'val'),(train,'train')]\n",
    "    xgb_model = xgb.train(params, train, epochs, evallist,evals_result=store,verbose_eval=100)\n",
    "    print('-- Model Report --')\n",
    "    print('XGBoost Accuracy: '+str(accuracy_score(sk_model.predict(training_data['X_test']), training_data['Y_test'])))\n",
    "    print('XGBoost F1-Score (Micro): '+str(f1_score(sk_model.predict(training_data['X_test']),training_data['Y_test'],average='micro')))\n",
    "    plot_compare(metrics,store,epochs)\n",
    "    features = ['nTouchpoints', 'single', 'divorced', 'married', 'unknown', 'P4',\n",
    "       'P3', 'P2', 'P1', 'U', 'N', 'Y', 'C', 'B', 'D', 'A', 'F', 'E', 'New',\n",
    "       'G', 'nAveSpend', 'nIncome', 'nAge']\n",
    "    f, ax = plt.subplots(figsize=(10,5))\n",
    "    plot = sns.barplot(x=features, y=sk_model.feature_importances_)\n",
    "    ax.set_title('Feature Importance')\n",
    "    plot.set_xticklabels(plot.get_xticklabels(),rotation='vertical')\n",
    "    plt.show()"
   ]
  },
  {
   "cell_type": "markdown",
   "metadata": {},
   "source": [
    "### XGBoost hyperparameter tuning with GridSearchCV\n",
    "\n",
    "#### Initial model"
   ]
  },
  {
   "cell_type": "code",
   "execution_count": 76,
   "metadata": {},
   "outputs": [],
   "source": [
    "from xgboost.sklearn import XGBClassifier\n",
    "#initial model\n",
    "xgb1 = XGBClassifier(learning_rate=0.1,\n",
    "                    n_estimators=1000,\n",
    "                    max_depth=5,\n",
    "                    min_child_weight=1,\n",
    "                    gamma=0,\n",
    "                    subsample=0.8,\n",
    "                    colsample_bytree=0.8,\n",
    "                    objective='multi:softmax',\n",
    "                    nthread=4,\n",
    "                    num_class=9,\n",
    "                    seed=27)"
   ]
  },
  {
   "cell_type": "code",
   "execution_count": 96,
   "metadata": {},
   "outputs": [
    {
     "name": "stdout",
     "output_type": "stream",
     "text": [
      "Fitting model...\n",
      "Fitting done!\n",
      "[0]\tval-mlogloss:2.07116\tval-merror:0.49547\ttrain-mlogloss:2.07036\ttrain-merror:0.49435\n",
      "[100]\tval-mlogloss:0.94984\tval-merror:0.28160\ttrain-mlogloss:0.84953\ttrain-merror:0.22979\n",
      "[200]\tval-mlogloss:0.67841\tval-merror:0.15947\ttrain-mlogloss:0.54003\ttrain-merror:0.08706\n",
      "[299]\tval-mlogloss:0.51569\tval-merror:0.09920\ttrain-mlogloss:0.36673\ttrain-merror:0.03691\n",
      "-- Model Report --\n",
      "XGBoost Accuracy: 0.9668271803103263\n",
      "XGBoost F1-Score (Micro): 0.9668271803103263\n"
     ]
    },
    {
     "data": {
      "image/png": "[encoded data removed]",
      "text/plain": [
       "<Figure size 432x432 with 1 Axes>"
      ]
     },
     "metadata": {},
     "output_type": "display_data"
    },
    {
     "data": {
      "image/png": "[encoded data removed]",
      "text/plain": [
       "<Figure size 432x432 with 1 Axes>"
      ]
     },
     "metadata": {},
     "output_type": "display_data"
    },
    {
     "data": {
      "image/png": "[encoded data removed]",
      "text/plain": [
       "<Figure size 720x360 with 1 Axes>"
      ]
     },
     "metadata": {},
     "output_type": "display_data"
    }
   ],
   "source": [
    "fitXgb(xgb1, training_data)"
   ]
  },
  {
   "cell_type": "markdown",
   "metadata": {},
   "source": [
    "#### Tune max_depth and min_child_weight"
   ]
  },
  {
   "cell_type": "code",
   "execution_count": 85,
   "metadata": {},
   "outputs": [],
   "source": [
    "def getTrainScores(gs):\n",
    "    results = {}\n",
    "    runs = 0\n",
    "    for x,y in zip(list(gs.cv_results_['mean_test_score']), gs.cv_results_['params']):\n",
    "        results[runs] = 'mean:' + str(x) + 'params' + str(y)\n",
    "        runs += 1\n",
    "    best = {'best_mean': gs.best_score_, \"best_param\":gs.best_params_}\n",
    "    return results, best\n"
   ]
  },
  {
   "cell_type": "code",
   "execution_count": 84,
   "metadata": {},
   "outputs": [
    {
     "name": "stdout",
     "output_type": "stream",
     "text": [
      "Fitting 5 folds for each of 12 candidates, totalling 60 fits\n"
     ]
    },
    {
     "name": "stderr",
     "output_type": "stream",
     "text": [
      "[Parallel(n_jobs=-1)]: Using backend LokyBackend with 8 concurrent workers.\n",
      "[Parallel(n_jobs=-1)]: Done   2 tasks      | elapsed:  2.8min\n",
      "[Parallel(n_jobs=-1)]: Done   9 tasks      | elapsed:  5.7min\n",
      "[Parallel(n_jobs=-1)]: Done  16 tasks      | elapsed:  7.8min\n",
      "[Parallel(n_jobs=-1)]: Done  25 tasks      | elapsed: 15.3min\n",
      "[Parallel(n_jobs=-1)]: Done  34 tasks      | elapsed: 23.8min\n",
      "[Parallel(n_jobs=-1)]: Done  45 tasks      | elapsed: 30.8min\n",
      "[Parallel(n_jobs=-1)]: Done  52 out of  60 | elapsed: 38.7min remaining:  5.9min\n",
      "[Parallel(n_jobs=-1)]: Done  60 out of  60 | elapsed: 44.0min finished\n",
      "/usr/local/lib/python3.7/site-packages/sklearn/preprocessing/_label.py:235: DataConversionWarning: A column-vector y was passed when a 1d array was expected. Please change the shape of y to (n_samples, ), for example using ravel().\n",
      "  y = column_or_1d(y, warn=True)\n",
      "/usr/local/lib/python3.7/site-packages/sklearn/preprocessing/_label.py:268: DataConversionWarning: A column-vector y was passed when a 1d array was expected. Please change the shape of y to (n_samples, ), for example using ravel().\n",
      "  y = column_or_1d(y, warn=True)\n"
     ]
    },
    {
     "data": {
      "text/plain": [
       "GridSearchCV(cv=5, error_score=nan,\n",
       "             estimator=XGBClassifier(base_score=None, booster=None,\n",
       "                                     colsample_bylevel=None,\n",
       "                                     colsample_bynode=None,\n",
       "                                     colsample_bytree=0.8, gamma=0, gpu_id=None,\n",
       "                                     importance_type='gain',\n",
       "                                     interaction_constraints=None,\n",
       "                                     learning_rate=0.1, max_delta_step=None,\n",
       "                                     max_depth=5, min_child_weight=1,\n",
       "                                     missing=nan, monotone_constraints=None,\n",
       "                                     n_estimators=1000,...\n",
       "                                     objective='multi:softmax',\n",
       "                                     random_state=None, reg_alpha=None,\n",
       "                                     reg_lambda=None, scale_pos_weight=None,\n",
       "                                     seed=27, subsample=0.8, tree_method=None,\n",
       "                                     validate_parameters=None, verbosity=None),\n",
       "             iid='deprecated', n_jobs=-1,\n",
       "             param_grid={'max_depth': range(3, 10, 2),\n",
       "                         'min_child_weight': range(1, 6, 2)},\n",
       "             pre_dispatch='2*n_jobs', refit=True, return_train_score=False,\n",
       "             scoring='f1_micro', verbose=10)"
      ]
     },
     "execution_count": 84,
     "metadata": {},
     "output_type": "execute_result"
    }
   ],
   "source": [
    "param_test1 = {\n",
    " 'max_depth':range(3,10,2),\n",
    " 'min_child_weight':range(1,6,2)\n",
    "}\n",
    "#metrics to consider: f1_micro, f1_macro, roc_auc_ovr\n",
    "gsearch1 = GridSearchCV(estimator = xgb1, param_grid = param_test1, scoring='f1_micro',n_jobs=-1,verbose = 10, cv=5)\n",
    "gsearch1.fit(X_train, Y_train)"
   ]
  },
  {
   "cell_type": "code",
   "execution_count": 86,
   "metadata": {},
   "outputs": [
    {
     "data": {
      "text/plain": [
       "({0: \"mean:0.8630502445531347params{'max_depth': 3, 'min_child_weight': 1}\",\n",
       "  1: \"mean:0.8412627834593153params{'max_depth': 3, 'min_child_weight': 3}\",\n",
       "  2: \"mean:0.8196531791907514params{'max_depth': 3, 'min_child_weight': 5}\",\n",
       "  3: \"mean:0.9425522454424188params{'max_depth': 5, 'min_child_weight': 1}\",\n",
       "  4: \"mean:0.9318808359270786params{'max_depth': 5, 'min_child_weight': 3}\",\n",
       "  5: \"mean:0.9207647843485993params{'max_depth': 5, 'min_child_weight': 5}\",\n",
       "  6: \"mean:0.9451311694086261params{'max_depth': 7, 'min_child_weight': 1}\",\n",
       "  7: \"mean:0.9397065362383282params{'max_depth': 7, 'min_child_weight': 3}\",\n",
       "  8: \"mean:0.9338372610048911params{'max_depth': 7, 'min_child_weight': 5}\",\n",
       "  9: \"mean:0.9458425967096489params{'max_depth': 9, 'min_child_weight': 1}\",\n",
       "  10: \"mean:0.9400622498888394params{'max_depth': 9, 'min_child_weight': 3}\",\n",
       "  11: \"mean:0.9368608270342375params{'max_depth': 9, 'min_child_weight': 5}\"},\n",
       " {'best_mean': 0.9458425967096489,\n",
       "  'best_param': {'max_depth': 9, 'min_child_weight': 1}})"
      ]
     },
     "execution_count": 86,
     "metadata": {},
     "output_type": "execute_result"
    }
   ],
   "source": [
    "getTrainScores(gsearch1)"
   ]
  },
  {
   "cell_type": "markdown",
   "metadata": {},
   "source": [
    "Through GridSearchCV, we see that the best parameters for max_depth and min_child_weight are 9 and 1 respectively."
   ]
  },
  {
   "cell_type": "code",
   "execution_count": 87,
   "metadata": {
    "scrolled": false
   },
   "outputs": [
    {
     "name": "stdout",
     "output_type": "stream",
     "text": [
      "Fitting model...\n",
      "Fitting done!\n",
      "[0]\tval-mlogloss:2.02634\tval-merror:0.39200\ttrain-mlogloss:2.01941\ttrain-merror:0.36078\n",
      "[100]\tval-mlogloss:0.42041\tval-merror:0.06987\ttrain-mlogloss:0.27151\ttrain-merror:0.01272\n",
      "[200]\tval-mlogloss:0.22706\tval-merror:0.02987\ttrain-mlogloss:0.09315\ttrain-merror:0.00044\n",
      "[299]\tval-mlogloss:0.16545\tval-merror:0.02507\ttrain-mlogloss:0.04507\ttrain-merror:0.00000\n",
      "-- Model Report --\n",
      "XGBoost Accuracy: 0.9684323167469235\n",
      "XGBoost F1-Score (Micro): 0.9684323167469235\n"
     ]
    },
    {
     "data": {
      "image/png": "[encoded data removed]",
      "text/plain": [
       "<Figure size 504x504 with 1 Axes>"
      ]
     },
     "metadata": {},
     "output_type": "display_data"
    },
    {
     "data": {
      "image/png": "[encoded data removed]",
      "text/plain": [
       "<Figure size 504x504 with 1 Axes>"
      ]
     },
     "metadata": {},
     "output_type": "display_data"
    },
    {
     "data": {
      "image/png": "[encoded data removed]",
      "text/plain": [
       "<Figure size 720x360 with 1 Axes>"
      ]
     },
     "metadata": {},
     "output_type": "display_data"
    }
   ],
   "source": [
    "xgb2 = XGBClassifier(learning_rate=0.1,\n",
    "                    n_estimators=1000,\n",
    "                    max_depth=9,\n",
    "                    min_child_weight=1,\n",
    "                    gamma=0,\n",
    "                    subsample=0.8,\n",
    "                    colsample_bytree=0.8,\n",
    "                    objective='multi:softmax',\n",
    "                    nthread=4,\n",
    "                    num_class=9,\n",
    "                    seed=27)\n",
    "\n",
    "fitXgb(xgb2, training_data)"
   ]
  },
  {
   "cell_type": "code",
   "execution_count": 92,
   "metadata": {
    "scrolled": false
   },
   "outputs": [
    {
     "name": "stdout",
     "output_type": "stream",
     "text": [
      "Fitting 3 folds for each of 5 candidates, totalling 15 fits\n"
     ]
    },
    {
     "name": "stderr",
     "output_type": "stream",
     "text": [
      "[Parallel(n_jobs=-1)]: Using backend LokyBackend with 8 concurrent workers.\n",
      "[Parallel(n_jobs=-1)]: Done   2 out of  15 | elapsed:  6.4min remaining: 41.8min\n",
      "[Parallel(n_jobs=-1)]: Done   4 out of  15 | elapsed:  6.4min remaining: 17.7min\n",
      "[Parallel(n_jobs=-1)]: Done   6 out of  15 | elapsed:  6.5min remaining:  9.8min\n",
      "[Parallel(n_jobs=-1)]: Done   8 out of  15 | elapsed:  6.7min remaining:  5.8min\n",
      "[Parallel(n_jobs=-1)]: Done  10 out of  15 | elapsed:  7.9min remaining:  4.0min\n",
      "[Parallel(n_jobs=-1)]: Done  12 out of  15 | elapsed: 10.9min remaining:  2.7min\n",
      "[Parallel(n_jobs=-1)]: Done  15 out of  15 | elapsed: 11.0min finished\n",
      "/usr/local/lib/python3.7/site-packages/sklearn/preprocessing/_label.py:235: DataConversionWarning: A column-vector y was passed when a 1d array was expected. Please change the shape of y to (n_samples, ), for example using ravel().\n",
      "  y = column_or_1d(y, warn=True)\n",
      "/usr/local/lib/python3.7/site-packages/sklearn/preprocessing/_label.py:268: DataConversionWarning: A column-vector y was passed when a 1d array was expected. Please change the shape of y to (n_samples, ), for example using ravel().\n",
      "  y = column_or_1d(y, warn=True)\n"
     ]
    },
    {
     "data": {
      "text/plain": [
       "GridSearchCV(cv=3, error_score=nan,\n",
       "             estimator=XGBClassifier(base_score=0.5, booster='gbtree',\n",
       "                                     colsample_bylevel=1, colsample_bynode=1,\n",
       "                                     colsample_bytree=0.8, gamma=0, gpu_id=-1,\n",
       "                                     importance_type='gain',\n",
       "                                     interaction_constraints='',\n",
       "                                     learning_rate=0.1, max_delta_step=0,\n",
       "                                     max_depth=9, min_child_weight=1,\n",
       "                                     missing=nan, monotone_constraints='()',\n",
       "                                     n_estimators=1000, n_jobs=4, n...\n",
       "                                     num_class=9, num_parallel_tree=1,\n",
       "                                     objective='multi:softprob',\n",
       "                                     random_state=27, reg_alpha=0, reg_lambda=1,\n",
       "                                     scale_pos_weight=None, seed=27,\n",
       "                                     subsample=0.8, tree_method='exact',\n",
       "                                     validate_parameters=1, verbosity=None),\n",
       "             iid='deprecated', n_jobs=-1,\n",
       "             param_grid={'reg_alpha': [1e-05, 0.01, 0.1, 1, 100]},\n",
       "             pre_dispatch='2*n_jobs', refit=True, return_train_score=False,\n",
       "             scoring='f1_micro', verbose=10)"
      ]
     },
     "execution_count": 92,
     "metadata": {},
     "output_type": "execute_result"
    }
   ],
   "source": [
    "param_test2 = {\n",
    " 'reg_alpha':[1e-5, 1e-2, 0.1, 1, 100]\n",
    "}\n",
    "gsearch2 = GridSearchCV(estimator = xgb2, param_grid = param_test2, scoring='f1_micro',n_jobs=-1,verbose = 10, cv=3)\n",
    "gsearch2.fit(X_train, Y_train)"
   ]
  },
  {
   "cell_type": "code",
   "execution_count": 93,
   "metadata": {},
   "outputs": [
    {
     "data": {
      "text/plain": [
       "({0: \"mean:0.9100938241422663params{'reg_alpha': 1e-05}\",\n",
       "  1: \"mean:0.9120502334359006params{'reg_alpha': 0.01}\",\n",
       "  2: \"mean:0.9102716018947398params{'reg_alpha': 0.1}\",\n",
       "  3: \"mean:0.8956869228924701params{'reg_alpha': 1}\",\n",
       "  4: \"mean:0.450422638495132params{'reg_alpha': 100}\"},\n",
       " {'best_mean': 0.9120502334359006, 'best_param': {'reg_alpha': 0.01}})"
      ]
     },
     "execution_count": 93,
     "metadata": {},
     "output_type": "execute_result"
    }
   ],
   "source": [
    "getTrainScores(gsearch2)"
   ]
  },
  {
   "cell_type": "markdown",
   "metadata": {},
   "source": [
    "We have found that max_depth of 9, min_child_weight of 1 and reg_alpha of 0.01 are optimum hyperparameters for the xgb model"
   ]
  },
  {
   "cell_type": "code",
   "execution_count": 97,
   "metadata": {},
   "outputs": [
    {
     "name": "stdout",
     "output_type": "stream",
     "text": [
      "Fitting model...\n",
      "Fitting done!\n",
      "[0]\tval-mlogloss:2.02665\tval-merror:0.39307\ttrain-mlogloss:2.01937\ttrain-merror:0.35963\n",
      "[100]\tval-mlogloss:0.41486\tval-merror:0.06507\ttrain-mlogloss:0.26570\ttrain-merror:0.01201\n",
      "[200]\tval-mlogloss:0.22389\tval-merror:0.03307\ttrain-mlogloss:0.09071\ttrain-merror:0.00027\n",
      "[299]\tval-mlogloss:0.16446\tval-merror:0.02453\ttrain-mlogloss:0.04494\ttrain-merror:0.00000\n",
      "-- Model Report --\n",
      "XGBoost Accuracy: 0.9678972712680578\n",
      "XGBoost F1-Score (Micro): 0.9678972712680578\n"
     ]
    },
    {
     "data": {
      "image/png": "[encoded data removed]",
      "text/plain": [
       "<Figure size 432x432 with 1 Axes>"
      ]
     },
     "metadata": {},
     "output_type": "display_data"
    },
    {
     "data": {
      "image/png": "[encoded data removed]",
      "text/plain": [
       "<Figure size 432x432 with 1 Axes>"
      ]
     },
     "metadata": {},
     "output_type": "display_data"
    },
    {
     "data": {
      "image/png": "[encoded data removed]",
      "text/plain": [
       "<Figure size 720x360 with 1 Axes>"
      ]
     },
     "metadata": {},
     "output_type": "display_data"
    }
   ],
   "source": [
    "xgb3 = XGBClassifier(learning_rate=0.1,\n",
    "                    n_estimators=1000,\n",
    "                    max_depth=9,\n",
    "                    min_child_weight=1,\n",
    "                    reg_alpha=0.01,\n",
    "                    gamma=0,\n",
    "                    subsample=0.8,\n",
    "                    colsample_bytree=0.8,\n",
    "                    objective='multi:softmax',\n",
    "                    nthread=4,\n",
    "                    num_class=9,\n",
    "                    seed=27)\n",
    "\n",
    "fitXgb(xgb3, training_data)"
   ]
  },
  {
   "cell_type": "markdown",
   "metadata": {},
   "source": [
    "We see that a high feature importance score is assigned to 'unknown' marital status. This could be due to the fact that there are only 44 customers with 'unknown' marital status, hence to reduce bias, our xgb model assigns more weight to 'unknown' feature.\n",
    "\n",
    "I will tune gamma, subsample and colsample_bytree and learning rate if I had enough computational power. Due to the limited time I have, I only focus on max_depth and reg_alpha (applying regularization to reduce overfitting)."
   ]
  }
 ],
 "metadata": {
  "kernelspec": {
   "display_name": "Python 3",
   "language": "python",
   "name": "python3"
  },
  "language_info": {
   "codemirror_mode": {
    "name": "ipython",
    "version": 3
   },
   "file_extension": ".py",
   "mimetype": "text/x-python",
   "name": "python",
   "nbconvert_exporter": "python",
   "pygments_lexer": "ipython3",
   "version": "3.7.6"
  }
 },
 "nbformat": 4,
 "nbformat_minor": 4
}
